{
 "cells": [
  {
   "cell_type": "code",
   "execution_count": 1,
   "metadata": {},
   "outputs": [
    {
     "data": {
      "text/plain": [
       "pyspark.context.SparkContext"
      ]
     },
     "execution_count": 1,
     "metadata": {},
     "output_type": "execute_result"
    }
   ],
   "source": [
    "import pyspark\n",
    "\n",
    "try: \n",
    "    type(sc)\n",
    "except NameError:\n",
    "    sc = pyspark.SparkContext('local[*]')    \n",
    "    \n",
    "type(sc)"
   ]
  },
  {
   "cell_type": "markdown",
   "metadata": {},
   "source": [
    "# SPARK "
   ]
  },
  {
   "cell_type": "markdown",
   "metadata": {},
   "source": [
    "## EJ NUMERO 1"
   ]
  },
  {
   "cell_type": "markdown",
   "metadata": {},
   "source": [
    "En este ejercicio queremos programar un sistema que recomiende textos a usuarios en base a sus gustos sobre ciertos términos (palabras). Se cuenta con un RDD de textos de la forma (docId, texto) donde texto es un string de longitud variable. Además contamos con un RDD que indica qué términos le gustan o no a cada usuario de la forma (userId, término, score) por ejemplo (23, “calesita”, -2). Se pide programar en Spark un programa que calcule el score total de cada documento para cada usuario generando un RDD de la forma (userId, docId, score) en donde el score es simplemente la suma de los scores del usuario para los términos que aparecen en el documento. Puede haber términos en los documentos para los cuales no exista score de algunos usuarios, en estos casos simplemente los consideramos neutros (score=0)."
   ]
  },
  {
   "cell_type": "code",
   "execution_count": 19,
   "metadata": {},
   "outputs": [],
   "source": [
    "Quijote = 'En un lugar de la Mancha, de cuyo nombre no quiero acordarme, no ha mucho tiempo que vivía un hidalgo de los de lanza en astillero, adarga antigua, rocín flaco y galgo corredor. Una olla de algo más vaca que carnero, salpicón las más noches, duelos y quebrantos los sábados, lantejas los viernes, algún palomino de añadidura los domingos, consumían las tres partes de su hacienda. El resto della concluían sayo de velarte, calzas de velludo para las fiestas, con sus pantuflos de lo mesmo, y los días de entresemana se honraba con su vellorí de lo más fino.'\n",
    "Dickens = 'Las noches aqui son largas algunas veces, muy largas; pero nada son en comparacion con las inquietas noches y terribles ensueños de aquel tiempo. Su recuerdo me estremece. Grandes, sombríos fantasmas con maliciosos rostros se sentaban en los rincones de mi cuarto,y de noche se inclinaban sobre mi, incitándome á la locura. Me decian en voces atronadoras que el suelo de la antigua casa en que murió el padre de mi padre, estaba aun manchado de su sangre, derramada por su propia mano en el furor de su locura. Me cubria los oidos con las manos, pero me gritaban y me gritaban hasta que el cuarto se estremecia con sus acentos, y por todas partes oia que en la generacion anterior á la suya la locura durmió, pero que su abuelo habia vivido por años con sus manos entre grillos, para evitar que se hiciesen pedazos. Sabia que decian la verdad, lo sabia bien. Lo habia descubierto años hacia , aunque me lo quisieron ocultar.'\n",
    "Napoleon = 'Nacido Napoleone di Buonaparte (Nabolione o Nabulione en corso), sólo un año después de que Francia comprara la isla de Córcega a la República de Génova.Napoleone, años después, cambió su nombre por el afrancesado Napoléon Bonaparte. El registro más antiguo de este nombre aparece en un informe oficial fechado el 28 de marzo de 1796. Su familia formaba parte de la nobleza local. Su padre, Carlo Buonaparte, abogado, fue nombrado en 1778 representante de Córcega en la corte de Luis XVI, lugar donde permaneció por varios años, por lo que fue su madre, María Letizia Ramolino, la figura fundamental de su niñez'\n",
    "Agua = 'El agua (del latín aqua) es una sustancia cuya molécula está formada por dos átomos de hidrógeno y uno de oxígeno (H2O). Es esencial para la supervivencia de todas las formas conocidas de vida. El término agua generalmente se refiere a la sustancia en su estado líquido, aunque la misma puede hallarse en su forma sólida llamada hielo, y en su forma gaseosa denominada vapor. El agua cubre el 71% de la superficie de la corteza terrestre.2 Se localiza principalmente en los océanos donde se concentra el 96,5% del agua total, los glaciares y casquetes polares poseen el 1,74%, los depósitos subterráneos (acuíferos), los permafrost y los glaciares continentales suponen el 1,72% y el restante 0,04% se reparte en orden decreciente entre lagos, humedad del suelo, atmósfera, embalses, ríos y seres vivos.'\n",
    "Politica = 'La política \\(del latín politicus y esta del griego antiguo πολιτικός civil, relativo al ordenamiento de la ciudad o los asuntos del ciudadano\\) es una rama de la moral que se ocupa de la actividad, en virtud de la cual una sociedad libre, compuesta por hombres libres, resuelve los problemas que le plantea su convivencia colectiva. Es un quehacer ordenado al bien común. Algunos autores presentan al uso legítimo de la fuerza como la característica principal de la política. Siguiendo con esta definición la política es el ejercicio del poder que busca un fin trascendente. Esta promueve la participación ciudadana ya que posee la capacidad de distribuir y ejecutar el poder según sea necesario para promover el bien común.'\n",
    "Sintaxis = 'El orden de las palabras en una oración (sintaxis), la puntuación y la acentuación pueden variar según la intención del autor. En ciertas oraciones ello dependerá de que se emita una idea u otra diferente; en ocasiones lo opuesto a lo que se pretende expresar. Antes de empezar a escribir es necesario alinear mentalmente las ideas que se quieren trasladar al papel o al monitor o pantalla de la computadora u ordenador. Una vez ordenadas en la mente, es necesario identificar las ideas principales y las secundarias. Se elabora un esquema en el que se escriban en orden, según la importancia de cada una. Es importante el orden de una oración, ya que de lo contrario resultará carente de sentido. Más aún, si de manera lógica no se es capaz de ordenar lo que se quiere decir, el escrito perderá todo interés. Toda redacción necesita coherencia y cohesión textuales. En términos sencillos redactar es poner ideas en orden pero bien escritas.Algunos de los denominados «medios» cuentan con manuales de estilo, o imparten cursos de capacitación en sus «instalaciones». Personal que labora en empresas que no disponen de estas «facilidades» y que desea superarse toma cursos en instituciones públicas o privadas.'\n",
    "\n",
    "Documentos = sc.parallelize([(1,Quijote),(2,Dickens),(3,Napoleon),(4,Agua),(5,Politica),(6,Sintaxis)])\n",
    "\n",
    "PuntajesUser1 = [(1,\"antiguo\",2),(1,\"Buonaparte\",1),(1,\"Francia\",1)]\n",
    "PuntajesUser2 = [(2,\"en\",-1),(2,\"orden\",4)]\n",
    "PuntajesUser3 = [(3,\"no\",0)]\n",
    "\n",
    "Puntajes = sc.parallelize([PuntajesUser1,PuntajesUser2,PuntajesUser3])"
   ]
  },
  {
   "cell_type": "code",
   "execution_count": null,
   "metadata": {},
   "outputs": [],
   "source": []
  },
  {
   "cell_type": "code",
   "execution_count": 20,
   "metadata": {},
   "outputs": [
    {
     "data": {
      "text/plain": [
       "[(('empresas', 6), 1),\n",
       " (('cubria', 2), 1),\n",
       " (('antigua', 2), 1),\n",
       " (('restante', 4), 1),\n",
       " (('para', 4), 1),\n",
       " (('sentido.', 6), 1),\n",
       " (('algo', 1), 1),\n",
       " (('disponen', 6), 1),\n",
       " (('fuerza', 5), 1),\n",
       " (('con', 5), 1),\n",
       " (('atm\\xc3\\xb3sfera,', 4), 1),\n",
       " (('sus', 6), 1),\n",
       " (('busca', 5), 1),\n",
       " (('a', 4), 1),\n",
       " (('a\\xc3\\xb1os,', 3), 1),\n",
       " (('ha', 1), 1),\n",
       " (('poder', 5), 2),\n",
       " (('\\xc3\\xa1', 2), 2),\n",
       " (('continentales', 4), 1),\n",
       " (('una', 5), 2),\n",
       " (('noches,', 1), 1),\n",
       " (('actividad,', 5), 1),\n",
       " (('manera', 6), 1),\n",
       " (('principal', 5), 1),\n",
       " (('algunas', 2), 1),\n",
       " (('me', 2), 4),\n",
       " (('misma', 4), 1),\n",
       " (('ciudadana', 5), 1),\n",
       " (('secundarias.', 6), 1),\n",
       " (('hidr\\xc3\\xb3geno', 4), 1),\n",
       " (('sentaban', 2), 1),\n",
       " (('aqui', 2), 1),\n",
       " (('su', 2), 4),\n",
       " (('ordenadas', 6), 1),\n",
       " (('s\\xc3\\xb3lida', 4), 1),\n",
       " (('nada', 2), 1),\n",
       " (('di', 3), 1),\n",
       " (('sobre', 2), 1),\n",
       " (('presentan', 5), 1),\n",
       " (('formaba', 3), 1),\n",
       " (('suya', 2), 1),\n",
       " (('parte', 3), 1),\n",
       " (('d\\xc3\\xadas', 1), 1),\n",
       " (('gaseosa', 4), 1),\n",
       " (('pero', 6), 1),\n",
       " (('la', 5), 10),\n",
       " (('lanza', 1), 1),\n",
       " (('para', 2), 1),\n",
       " (('pantuflos', 1), 1),\n",
       " (('ocupa', 5), 1),\n",
       " (('sombr\\xc3\\xados', 2), 1),\n",
       " (('civil,', 5), 1),\n",
       " (('todas', 4), 1),\n",
       " (('imparten', 6), 1),\n",
       " (('mesmo,', 1), 1),\n",
       " (('en', 5), 1),\n",
       " (('sustancia', 4), 2),\n",
       " (('contrario', 6), 1),\n",
       " (('todas', 2), 1),\n",
       " (('registro', 3), 1),\n",
       " (('no', 1), 2),\n",
       " (('de', 5), 7),\n",
       " (('suelo,', 4), 1),\n",
       " (('Grandes,', 2), 1),\n",
       " (('Rep\\xc3\\xbablica', 3), 1),\n",
       " (('96,5%', 4), 1),\n",
       " (('(Nabolione', 3), 1),\n",
       " (('abuelo', 2), 1),\n",
       " (('necesario', 6), 2),\n",
       " (('lagos,', 4), 1),\n",
       " (('isla', 3), 1),\n",
       " (('denominados', 6), 1),\n",
       " (('se', 6), 6),\n",
       " (('padre,', 2), 1),\n",
       " (('manos,', 2), 1),\n",
       " (('total,', 4), 1),\n",
       " (('el', 3), 2),\n",
       " (('computadora', 6), 1),\n",
       " (('pero', 2), 3),\n",
       " (('sus', 2), 2),\n",
       " (('ejecutar', 5), 1),\n",
       " (('locura', 2), 1),\n",
       " (('Una', 1), 1),\n",
       " (('abogado,', 3), 1),\n",
       " (('domingos,', 1), 1),\n",
       " (('fue', 3), 2),\n",
       " (('noche', 2), 1),\n",
       " (('(H2O).', 4), 1),\n",
       " (('del', 4), 2),\n",
       " (('forma', 4), 2),\n",
       " (('Se', 6), 1),\n",
       " (('com\\xc3\\xban.', 5), 2),\n",
       " (('oia', 2), 1),\n",
       " (('lo', 1), 2),\n",
       " (('partes', 1), 1),\n",
       " (('manuales', 6), 1),\n",
       " (('una.', 6), 1),\n",
       " (('escrito', 6), 1),\n",
       " (('si', 6), 1),\n",
       " (('que', 6), 9),\n",
       " (('y', 2), 3),\n",
       " (('puede', 4), 1),\n",
       " (('cambi\\xc3\\xb3', 3), 1),\n",
       " (('Me', 2), 2),\n",
       " (('informe', 3), 1),\n",
       " (('vaca', 1), 1),\n",
       " (('cuya', 4), 1),\n",
       " (('perder\\xc3\\xa1', 6), 1),\n",
       " (('habia', 2), 2),\n",
       " (('se', 2), 4),\n",
       " (('Mar\\xc3\\xada', 3), 1),\n",
       " (('pol\\xc3\\xadtica', 5), 2),\n",
       " (('comprara', 3), 1),\n",
       " (('veces,', 2), 1),\n",
       " (('se', 4), 3),\n",
       " (('otra', 6), 1),\n",
       " (('incit\\xc3\\xa1ndome', 2), 1),\n",
       " (('todo', 6), 1),\n",
       " (('formas', 4), 1),\n",
       " (('s\\xc3\\xa1bados,', 1), 1),\n",
       " (('mol\\xc3\\xa9cula', 4), 1),\n",
       " (('participaci\\xc3\\xb3n', 5), 1),\n",
       " (('por', 4), 1),\n",
       " (('nombre', 3), 2),\n",
       " (('orden,', 6), 1),\n",
       " (('oraciones', 6), 1),\n",
       " (('distribuir', 5), 1),\n",
       " (('Francia', 3), 1),\n",
       " (('los', 1), 5),\n",
       " (('galgo', 1), 1),\n",
       " (('gritaban', 2), 2),\n",
       " (('largas', 2), 1),\n",
       " (('cual', 5), 1),\n",
       " (('inter\\xc3\\xa9s.', 6), 1),\n",
       " (('posee', 5), 1),\n",
       " (('con', 1), 2),\n",
       " (('ordenar', 6), 1),\n",
       " (('griego', 5), 1),\n",
       " (('conocidas', 4), 1),\n",
       " (('della', 1), 1),\n",
       " (('M\\xc3\\xa1s', 6), 1),\n",
       " (('mi', 2), 2),\n",
       " (('es', 4), 1),\n",
       " (('puntuaci\\xc3\\xb3n', 6), 1),\n",
       " (('permaneci\\xc3\\xb3', 3), 1),\n",
       " (('vez', 6), 1),\n",
       " (('politicus', 5), 1),\n",
       " (('mucho', 1), 1),\n",
       " (('derramada', 2), 1),\n",
       " (('este', 3), 1),\n",
       " (('Esta', 5), 1),\n",
       " (('esencial', 4), 1),\n",
       " (('Buonaparte', 3), 1),\n",
       " (('hombres', 5), 1),\n",
       " (('inquietas', 2), 1),\n",
       " (('El', 1), 1),\n",
       " (('la', 3), 5),\n",
       " (('trascendente.', 5), 1),\n",
       " (('en', 3), 4),\n",
       " (('el', 5), 3),\n",
       " (('y', 6), 4),\n",
       " (('p\\xc3\\xbablicas', 6), 1),\n",
       " (('opuesto', 6), 1),\n",
       " (('(acu\\xc3\\xadferos),', 4), 1),\n",
       " (('de', 3), 10),\n",
       " (('bien', 6), 1),\n",
       " (('rama', 5), 1),\n",
       " (('necesita', 6), 1),\n",
       " (('despu\\xc3\\xa9s,', 3), 1),\n",
       " (('donde', 3), 1),\n",
       " (('capacidad', 5), 1),\n",
       " (('Personal', 6), 1),\n",
       " (('es', 6), 4),\n",
       " (('grillos,', 2), 1),\n",
       " (('muy', 2), 1),\n",
       " (('Antes', 6), 1),\n",
       " (('vapor.', 4), 1),\n",
       " (('capaz', 6), 1),\n",
       " (('palomino', 1), 1),\n",
       " (('del', 6), 1),\n",
       " (('fiestas,', 1), 1),\n",
       " (('denominada', 4), 1),\n",
       " (('ciertas', 6), 1),\n",
       " (('Es', 6), 1),\n",
       " (('palabras', 6), 1),\n",
       " (('esquema', 6), 1),\n",
       " (('0,04%', 4), 1),\n",
       " (('Letizia', 3), 1),\n",
       " (('un', 1), 2),\n",
       " (('s\\xc3\\xb3lo', 3), 1),\n",
       " (('redactar', 6), 1),\n",
       " (('las', 1), 3),\n",
       " (('glaciares', 4), 2),\n",
       " (('hiciesen', 2), 1),\n",
       " (('velarte,', 1), 1),\n",
       " (('local.', 3), 1),\n",
       " (('poseen', 4), 1),\n",
       " (('lat\\xc3\\xadn', 5), 1),\n",
       " (('lo', 3), 1),\n",
       " (('hasta', 2), 1),\n",
       " (('Toda', 6), 1),\n",
       " (('alg\\xc3\\xban', 1), 1),\n",
       " (('hidalgo', 1), 1),\n",
       " (('estado', 4), 1),\n",
       " (('descubierto', 2), 1),\n",
       " (('reparte', 4), 1),\n",
       " (('y', 4), 6),\n",
       " (('Es', 4), 1),\n",
       " (('importancia', 6), 1),\n",
       " (('a\\xc3\\xb1adidura', 1), 1),\n",
       " (('un', 3), 2),\n",
       " (('ocultar.', 2), 1),\n",
       " (('noches', 2), 2),\n",
       " (('decreciente', 4), 1),\n",
       " (('un', 5), 2),\n",
       " (('salpic\\xc3\\xb3n', 1), 1),\n",
       " (('C\\xc3\\xb3rcega', 3), 2),\n",
       " (('quiero', 1), 1),\n",
       " (('XVI,', 3), 1),\n",
       " (('estremecia', 2), 1),\n",
       " (('u', 6), 2),\n",
       " (('a\\xc3\\xb1os', 2), 2),\n",
       " (('estaba', 2), 1),\n",
       " (('Su', 2), 1),\n",
       " (('ordenador.', 6), 1),\n",
       " (('por', 2), 3),\n",
       " (('representante', 3), 1),\n",
       " (('ello', 6), 1),\n",
       " (('astillero,', 1), 1),\n",
       " (('que', 2), 7),\n",
       " (('\\xc2\\xabfacilidades\\xc2\\xbb', 6), 1),\n",
       " (('cubre', 4), 1),\n",
       " (('cuarto', 2), 1),\n",
       " (('resuelve', 5), 1),\n",
       " (('o', 6), 4),\n",
       " (('largas;', 2), 1),\n",
       " (('de', 1), 12),\n",
       " (('nombre', 1), 1),\n",
       " (('La', 5), 1),\n",
       " (('agua', 4), 4),\n",
       " (('los', 5), 2),\n",
       " (('casa', 2), 1),\n",
       " (('aqua)', 4), 1),\n",
       " (('cohesi\\xc3\\xb3n', 6), 1),\n",
       " (('promueve', 5), 1),\n",
       " (('En', 1), 1),\n",
       " (('1778', 3), 1),\n",
       " (('ordenamiento', 5), 1),\n",
       " (('seg\\xc3\\xban', 6), 2),\n",
       " (('1,72%', 4), 1),\n",
       " (('resultar\\xc3\\xa1', 6), 1),\n",
       " (('concentra', 4), 1),\n",
       " (('madre,', 3), 1),\n",
       " (('instituciones', 6), 1),\n",
       " (('Mancha,', 1), 1),\n",
       " (('hallarse', 4), 1),\n",
       " (('ya', 6), 1),\n",
       " (('Se', 4), 1),\n",
       " (('decian', 2), 2),\n",
       " (('esta', 5), 2),\n",
       " (('conclu\\xc3\\xadan', 1), 1),\n",
       " (('El', 3), 1),\n",
       " (('corredor.', 1), 1),\n",
       " (('la', 1), 1),\n",
       " (('71%', 4), 1),\n",
       " (('su', 4), 3),\n",
       " (('en', 1), 1),\n",
       " (('ox\\xc3\\xadgeno', 4), 1),\n",
       " (('al', 5), 3),\n",
       " (('intenci\\xc3\\xb3n', 6), 1),\n",
       " (('fino.', 1), 1),\n",
       " (('pedazos.', 2), 1),\n",
       " (('fechado', 3), 1),\n",
       " (('antigua,', 1), 1),\n",
       " (('quisieron', 2), 1),\n",
       " (('le', 5), 1),\n",
       " (('Luis', 3), 1),\n",
       " (('quieren', 6), 1),\n",
       " (('anterior', 2), 1),\n",
       " (('a', 6), 2),\n",
       " (('oraci\\xc3\\xb3n', 6), 1),\n",
       " (('ocasiones', 6), 1),\n",
       " (('viernes,', 1), 1),\n",
       " (('mano', 2), 1),\n",
       " (('lat\\xc3\\xadn', 4), 1),\n",
       " (('lo', 2), 2),\n",
       " (('sea', 5), 1),\n",
       " (('partes', 2), 1),\n",
       " (('convivencia', 5), 1),\n",
       " (('la', 4), 5),\n",
       " (('elabora', 6), 1),\n",
       " (('su', 1), 2),\n",
       " (('roc\\xc3\\xadn', 1), 1),\n",
       " (('como', 5), 1),\n",
       " (('Las', 2), 1),\n",
       " (('y', 1), 3),\n",
       " (('calzas', 1), 1),\n",
       " (('velludo', 1), 1),\n",
       " (('aunque', 4), 1),\n",
       " (('fundamental', 3), 1),\n",
       " (('casquetes', 4), 1),\n",
       " (('dos', 4), 1),\n",
       " (('orden', 6), 3),\n",
       " (('identificar', 6), 1),\n",
       " (('ya', 5), 1),\n",
       " (('para', 1), 1),\n",
       " (('resto', 1), 1),\n",
       " (('dep\\xc3\\xb3sitos', 4), 1),\n",
       " (('El', 4), 3),\n",
       " (('l\\xc3\\xb3gica', 6), 1),\n",
       " (('a\\xc3\\xb1o', 3), 1),\n",
       " (('duelos', 1), 1),\n",
       " (('a\\xc3\\xb1os', 3), 1),\n",
       " (('28', 3), 1),\n",
       " (('marzo', 3), 1),\n",
       " (('hacienda.', 1), 1),\n",
       " (('Su', 3), 2),\n",
       " (('carnero,', 1), 1),\n",
       " (('uso', 5), 1),\n",
       " (('por', 3), 3),\n",
       " (('libre,', 5), 1),\n",
       " (('textuales.', 6), 1),\n",
       " (('moral', 5), 1),\n",
       " (('despu\\xc3\\xa9s', 3), 1),\n",
       " (('que', 1), 2),\n",
       " (('1796.', 3), 1),\n",
       " (('seres', 4), 1),\n",
       " (('m\\xc3\\xa1s', 1), 3),\n",
       " (('sayo', 1), 1),\n",
       " (('t\\xc3\\xa9rmino', 4), 1),\n",
       " (('acordarme,', 1), 1),\n",
       " (('problemas', 5), 1),\n",
       " (('Una', 6), 1),\n",
       " (('lugar', 3), 1),\n",
       " (('a\\xc3\\xban,', 6), 1),\n",
       " (('ejercicio', 5), 1),\n",
       " (('suelo', 2), 1),\n",
       " (('alinear', 6), 1),\n",
       " ((',', 2), 1),\n",
       " (('desea', 6), 1),\n",
       " (('diferente;', 6), 1),\n",
       " (('mentalmente', 6), 1),\n",
       " (('vida.', 4), 1),\n",
       " (('ideas', 6), 3),\n",
       " (('bien.', 2), 1),\n",
       " (('asuntos', 5), 1),\n",
       " (('terrestre.2', 4), 1),\n",
       " (('corso),', 3), 1),\n",
       " (('llamada', 4), 1),\n",
       " (('Siguiendo', 5), 1),\n",
       " (('Nabulione', 3), 1),\n",
       " (('Es', 5), 1),\n",
       " (('su', 5), 1),\n",
       " (('afrancesado', 3), 1),\n",
       " (('idea', 6), 1),\n",
       " (('G\\xc3\\xa9nova.Napoleone,', 3), 1),\n",
       " (('virtud', 5), 1),\n",
       " (('formada', 4), 1),\n",
       " (('orden', 4), 1),\n",
       " (('flaco', 1), 1),\n",
       " (('sociedad', 5), 1),\n",
       " (('seg\\xc3\\xban', 5), 1),\n",
       " (('que', 5), 4),\n",
       " (('voces', 2), 1),\n",
       " (('localiza', 4), 1),\n",
       " (('oraci\\xc3\\xb3n,', 6), 1),\n",
       " (('pueden', 6), 1),\n",
       " (('para', 5), 1),\n",
       " (('quiere', 6), 1),\n",
       " (('se', 1), 1),\n",
       " (('redacci\\xc3\\xb3n', 6), 1),\n",
       " (('recuerdo', 2), 1),\n",
       " (('entresemana', 1), 1),\n",
       " (('olla', 1), 1),\n",
       " (('mente,', 6), 1),\n",
       " (('ciudad', 5), 1),\n",
       " (('escribir', 6), 1),\n",
       " (('muri\\xc3\\xb3', 2), 1),\n",
       " (('superficie', 4), 1),\n",
       " (('corteza', 4), 1),\n",
       " (('es', 5), 2),\n",
       " (('estas', 6), 1),\n",
       " (('autor.', 6), 1),\n",
       " (('vivos.', 4), 1),\n",
       " (('manchado', 2), 1),\n",
       " (('lantejas', 1), 1),\n",
       " (('una', 4), 1),\n",
       " (('(sintaxis),', 6), 1),\n",
       " (('el', 2), 4),\n",
       " (('las', 6), 4),\n",
       " (('los', 6), 1),\n",
       " (('tres', 1), 1),\n",
       " (('decir,', 6), 1),\n",
       " (('\\xc2\\xabinstalaciones\\xc2\\xbb.', 6), 1),\n",
       " (('toma', 6), 1),\n",
       " (('corte', 3), 1),\n",
       " (('colectiva.', 5), 1),\n",
       " (('papel', 6), 1),\n",
       " (('\\xc3\\xa1tomos', 4), 1),\n",
       " (('el', 4), 5),\n",
       " (('ni\\xc3\\xb1ez', 3), 1),\n",
       " (('su', 3), 3),\n",
       " (('cuentan', 6), 1),\n",
       " (('acentuaci\\xc3\\xb3n', 6), 1),\n",
       " (('capacitaci\\xc3\\xb3n', 6), 1),\n",
       " (('permafrost', 4), 1),\n",
       " (('carente', 6), 1),\n",
       " (('humedad', 4), 1),\n",
       " (('con', 6), 1),\n",
       " (('Nacido', 3), 1),\n",
       " (('fantasmas', 2), 1),\n",
       " (('sencillos', 6), 1),\n",
       " (('lo', 6), 4),\n",
       " (('principales', 6), 1),\n",
       " (('pantalla', 6), 1),\n",
       " (('oidos', 2), 1),\n",
       " (('quebrantos', 1), 1),\n",
       " (('generalmente', 4), 1),\n",
       " (('Carlo', 3), 1),\n",
       " (('rincones', 2), 1),\n",
       " (('\\xc2\\xabmedios\\xc2\\xbb', 6), 1),\n",
       " (('propia', 2), 1),\n",
       " (('Buonaparte,', 3), 1),\n",
       " (('r\\xc3\\xados', 4), 1),\n",
       " (('superarse', 6), 1),\n",
       " (('Ramolino,', 3), 1),\n",
       " (('adarga', 1), 1),\n",
       " (('depender\\xc3\\xa1', 6), 1),\n",
       " (('cursos', 6), 2),\n",
       " (('principalmente', 4), 1),\n",
       " (('aun', 2), 1),\n",
       " (('oficial', 3), 1),\n",
       " (('de', 6), 14),\n",
       " (('terribles', 2), 1),\n",
       " (('expresar.', 6), 1),\n",
       " (('plantea', 5), 1),\n",
       " (('evitar', 2), 1),\n",
       " (('comparacion', 2), 1),\n",
       " (('coherencia', 6), 1),\n",
       " (('hacia', 2), 1),\n",
       " (('se', 5), 1),\n",
       " (('una', 6), 3),\n",
       " (('padre,', 3), 1),\n",
       " (('cuarto,y', 2), 1),\n",
       " (('subterr\\xc3\\xa1neos', 4), 1),\n",
       " (('lugar', 1), 1),\n",
       " (('entre', 2), 1),\n",
       " (('variar', 6), 1),\n",
       " (('atronadoras', 2), 1),\n",
       " (('libres,', 5), 1),\n",
       " (('emita', 6), 1),\n",
       " (('1,74%,', 4), 1),\n",
       " (('privadas.', 6), 1),\n",
       " (('las', 2), 2),\n",
       " (('del', 5), 3),\n",
       " (('caracter\\xc3\\xadstica', 5), 1),\n",
       " (('est\\xc3\\xa1', 4), 1),\n",
       " (('vellor\\xc3\\xad', 1), 1),\n",
       " (('rostros', 2), 1),\n",
       " (('nobleza', 3), 1),\n",
       " (('y', 5), 2),\n",
       " (('durmi\\xc3\\xb3,', 2), 1),\n",
       " (('la', 6), 6),\n",
       " (('consum\\xc3\\xadan', 1), 1),\n",
       " (('al', 6), 2),\n",
       " (('estilo,', 6), 1),\n",
       " (('verdad,', 2), 1),\n",
       " (('(del', 4), 1),\n",
       " (('con', 2), 5),\n",
       " (('honraba', 1), 1),\n",
       " (('aquel', 2), 1),\n",
       " (('tiempo.', 2), 1),\n",
       " (('l\\xc3\\xadquido,', 4), 1),\n",
       " (('manos', 2), 1),\n",
       " (('pol\\xc3\\xadtica.', 5), 1),\n",
       " (('por', 5), 1),\n",
       " (('ensue\\xc3\\xb1os', 2), 1),\n",
       " (('son', 2), 2),\n",
       " (('Lo', 2), 1),\n",
       " (('labora', 6), 1),\n",
       " (('promover', 5), 1),\n",
       " (('relativo', 5), 1),\n",
       " (('suponen', 4), 1),\n",
       " (('importante', 6), 1),\n",
       " (('necesario', 5), 1),\n",
       " (('el', 6), 3),\n",
       " (('a', 3), 1),\n",
       " (('pretende', 6), 1),\n",
       " (('ciudadano\\\\)', 5), 1),\n",
       " (('embalses,', 4), 1),\n",
       " (('familia', 3), 1),\n",
       " (('fin', 5), 1),\n",
       " (('escriban', 6), 1),\n",
       " (('empezar', 6), 1),\n",
       " (('En', 6), 2),\n",
       " (('o', 5), 1),\n",
       " (('locura.', 2), 2),\n",
       " (('m\\xc3\\xa1s', 3), 1),\n",
       " (('compuesta', 5), 1),\n",
       " (('hielo,', 4), 1),\n",
       " (('leg\\xc3\\xadtimo', 5), 1),\n",
       " (('trasladar', 6), 1),\n",
       " (('aunque', 2), 1),\n",
       " (('aparece', 3), 1),\n",
       " (('furor', 2), 1),\n",
       " (('en', 6), 9),\n",
       " (('definici\\xc3\\xb3n', 5), 1),\n",
       " (('escritas.Algunos', 6), 1),\n",
       " (('oc\\xc3\\xa9anos', 4), 1),\n",
       " (('autores', 5), 1),\n",
       " (('cuyo', 1), 1),\n",
       " (('que', 3), 2),\n",
       " (('viv\\xc3\\xada', 1), 1),\n",
       " (('t\\xc3\\xa9rminos', 6), 1),\n",
       " (('uno', 4), 1),\n",
       " (('generacion', 2), 1),\n",
       " (('inclinaban', 2), 1),\n",
       " (('supervivencia', 4), 1),\n",
       " (('estremece.', 2), 1),\n",
       " (('Napol\\xc3\\xa9on', 3), 1),\n",
       " (('Napoleone', 3), 1),\n",
       " (('El', 6), 1),\n",
       " (('poner', 6), 1),\n",
       " (('bien', 5), 2),\n",
       " (('la', 2), 6),\n",
       " (('Sabia', 2), 1),\n",
       " (('en', 2), 6),\n",
       " (('sangre,', 2), 1),\n",
       " (('refiere', 4), 1),\n",
       " (('quehacer', 5), 1),\n",
       " (('de', 2), 7),\n",
       " (('entre', 4), 1),\n",
       " (('Algunos', 5), 1),\n",
       " (('polares', 4), 1),\n",
       " (('antiguo', 3), 1),\n",
       " (('figura', 3), 1),\n",
       " (('tiempo', 1), 1),\n",
       " (('donde', 4), 1),\n",
       " (('o', 3), 1),\n",
       " (('cada', 6), 1),\n",
       " (('varios', 3), 1),\n",
       " (('mi,', 2), 1),\n",
       " (('sabia', 2), 1),\n",
       " (('los', 2), 2),\n",
       " (('acentos,', 2), 1),\n",
       " (('un', 6), 1),\n",
       " (('vivido', 2), 1),\n",
       " (('en', 4), 5),\n",
       " (('ordenado', 5), 1),\n",
       " (('antiguo', 5), 1),\n",
       " (('sus', 1), 1),\n",
       " (('\\\\(del', 5), 1),\n",
       " (('las', 4), 1),\n",
       " (('maliciosos', 2), 1),\n",
       " (('monitor', 6), 1),\n",
       " (('nombrado', 3), 1),\n",
       " (('\\xcf\\x80\\xce\\xbf\\xce\\xbb\\xce\\xb9\\xcf\\x84\\xce\\xb9\\xce\\xba\\xcf\\x8c\\xcf\\x82',\n",
       "   5),\n",
       "  1),\n",
       " (('los', 4), 5),\n",
       " (('de', 4), 6),\n",
       " (('Bonaparte.', 3), 1),\n",
       " (('padre', 2), 1),\n",
       " (('no', 6), 2)]"
      ]
     },
     "execution_count": 20,
     "metadata": {},
     "output_type": "execute_result"
    }
   ],
   "source": [
    "Palabras = Documentos.flatMap(lambda x: map(lambda y: ((y,x[0]),1),x[1].split())).reduceByKey(lambda x,y: x+y)\n",
    "Palabras.collect()"
   ]
  },
  {
   "cell_type": "code",
   "execution_count": 21,
   "metadata": {},
   "outputs": [
    {
     "data": {
      "text/plain": [
       "[('empresas', (6, 1)),\n",
       " ('cubria', (2, 1)),\n",
       " ('antigua', (2, 1)),\n",
       " ('restante', (4, 1)),\n",
       " ('para', (4, 1)),\n",
       " ('sentido.', (6, 1)),\n",
       " ('algo', (1, 1)),\n",
       " ('disponen', (6, 1)),\n",
       " ('fuerza', (5, 1)),\n",
       " ('con', (5, 1)),\n",
       " ('atm\\xc3\\xb3sfera,', (4, 1)),\n",
       " ('sus', (6, 1)),\n",
       " ('busca', (5, 1)),\n",
       " ('a', (4, 1)),\n",
       " ('a\\xc3\\xb1os,', (3, 1)),\n",
       " ('ha', (1, 1)),\n",
       " ('poder', (5, 2)),\n",
       " ('\\xc3\\xa1', (2, 2)),\n",
       " ('continentales', (4, 1)),\n",
       " ('una', (5, 2)),\n",
       " ('noches,', (1, 1)),\n",
       " ('actividad,', (5, 1)),\n",
       " ('manera', (6, 1)),\n",
       " ('principal', (5, 1)),\n",
       " ('algunas', (2, 1)),\n",
       " ('me', (2, 4)),\n",
       " ('misma', (4, 1)),\n",
       " ('ciudadana', (5, 1)),\n",
       " ('secundarias.', (6, 1)),\n",
       " ('hidr\\xc3\\xb3geno', (4, 1)),\n",
       " ('sentaban', (2, 1)),\n",
       " ('aqui', (2, 1)),\n",
       " ('su', (2, 4)),\n",
       " ('ordenadas', (6, 1)),\n",
       " ('s\\xc3\\xb3lida', (4, 1)),\n",
       " ('nada', (2, 1)),\n",
       " ('di', (3, 1)),\n",
       " ('sobre', (2, 1)),\n",
       " ('presentan', (5, 1)),\n",
       " ('formaba', (3, 1)),\n",
       " ('suya', (2, 1)),\n",
       " ('parte', (3, 1)),\n",
       " ('d\\xc3\\xadas', (1, 1)),\n",
       " ('gaseosa', (4, 1)),\n",
       " ('pero', (6, 1)),\n",
       " ('la', (5, 10)),\n",
       " ('lanza', (1, 1)),\n",
       " ('para', (2, 1)),\n",
       " ('pantuflos', (1, 1)),\n",
       " ('ocupa', (5, 1)),\n",
       " ('sombr\\xc3\\xados', (2, 1)),\n",
       " ('civil,', (5, 1)),\n",
       " ('todas', (4, 1)),\n",
       " ('imparten', (6, 1)),\n",
       " ('mesmo,', (1, 1)),\n",
       " ('en', (5, 1)),\n",
       " ('sustancia', (4, 2)),\n",
       " ('contrario', (6, 1)),\n",
       " ('todas', (2, 1)),\n",
       " ('registro', (3, 1)),\n",
       " ('no', (1, 2)),\n",
       " ('de', (5, 7)),\n",
       " ('suelo,', (4, 1)),\n",
       " ('Grandes,', (2, 1)),\n",
       " ('Rep\\xc3\\xbablica', (3, 1)),\n",
       " ('96,5%', (4, 1)),\n",
       " ('(Nabolione', (3, 1)),\n",
       " ('abuelo', (2, 1)),\n",
       " ('necesario', (6, 2)),\n",
       " ('lagos,', (4, 1)),\n",
       " ('isla', (3, 1)),\n",
       " ('denominados', (6, 1)),\n",
       " ('se', (6, 6)),\n",
       " ('padre,', (2, 1)),\n",
       " ('manos,', (2, 1)),\n",
       " ('total,', (4, 1)),\n",
       " ('el', (3, 2)),\n",
       " ('computadora', (6, 1)),\n",
       " ('pero', (2, 3)),\n",
       " ('sus', (2, 2)),\n",
       " ('ejecutar', (5, 1)),\n",
       " ('locura', (2, 1)),\n",
       " ('Una', (1, 1)),\n",
       " ('abogado,', (3, 1)),\n",
       " ('domingos,', (1, 1)),\n",
       " ('fue', (3, 2)),\n",
       " ('noche', (2, 1)),\n",
       " ('(H2O).', (4, 1)),\n",
       " ('del', (4, 2)),\n",
       " ('forma', (4, 2)),\n",
       " ('Se', (6, 1)),\n",
       " ('com\\xc3\\xban.', (5, 2)),\n",
       " ('oia', (2, 1)),\n",
       " ('lo', (1, 2)),\n",
       " ('partes', (1, 1)),\n",
       " ('manuales', (6, 1)),\n",
       " ('una.', (6, 1)),\n",
       " ('escrito', (6, 1)),\n",
       " ('si', (6, 1)),\n",
       " ('que', (6, 9)),\n",
       " ('y', (2, 3)),\n",
       " ('puede', (4, 1)),\n",
       " ('cambi\\xc3\\xb3', (3, 1)),\n",
       " ('Me', (2, 2)),\n",
       " ('informe', (3, 1)),\n",
       " ('vaca', (1, 1)),\n",
       " ('cuya', (4, 1)),\n",
       " ('perder\\xc3\\xa1', (6, 1)),\n",
       " ('habia', (2, 2)),\n",
       " ('se', (2, 4)),\n",
       " ('Mar\\xc3\\xada', (3, 1)),\n",
       " ('pol\\xc3\\xadtica', (5, 2)),\n",
       " ('comprara', (3, 1)),\n",
       " ('veces,', (2, 1)),\n",
       " ('se', (4, 3)),\n",
       " ('otra', (6, 1)),\n",
       " ('incit\\xc3\\xa1ndome', (2, 1)),\n",
       " ('todo', (6, 1)),\n",
       " ('formas', (4, 1)),\n",
       " ('s\\xc3\\xa1bados,', (1, 1)),\n",
       " ('mol\\xc3\\xa9cula', (4, 1)),\n",
       " ('participaci\\xc3\\xb3n', (5, 1)),\n",
       " ('por', (4, 1)),\n",
       " ('nombre', (3, 2)),\n",
       " ('orden,', (6, 1)),\n",
       " ('oraciones', (6, 1)),\n",
       " ('distribuir', (5, 1)),\n",
       " ('Francia', (3, 1)),\n",
       " ('los', (1, 5)),\n",
       " ('galgo', (1, 1)),\n",
       " ('gritaban', (2, 2)),\n",
       " ('largas', (2, 1)),\n",
       " ('cual', (5, 1)),\n",
       " ('inter\\xc3\\xa9s.', (6, 1)),\n",
       " ('posee', (5, 1)),\n",
       " ('con', (1, 2)),\n",
       " ('ordenar', (6, 1)),\n",
       " ('griego', (5, 1)),\n",
       " ('conocidas', (4, 1)),\n",
       " ('della', (1, 1)),\n",
       " ('M\\xc3\\xa1s', (6, 1)),\n",
       " ('mi', (2, 2)),\n",
       " ('es', (4, 1)),\n",
       " ('puntuaci\\xc3\\xb3n', (6, 1)),\n",
       " ('permaneci\\xc3\\xb3', (3, 1)),\n",
       " ('vez', (6, 1)),\n",
       " ('politicus', (5, 1)),\n",
       " ('mucho', (1, 1)),\n",
       " ('derramada', (2, 1)),\n",
       " ('este', (3, 1)),\n",
       " ('Esta', (5, 1)),\n",
       " ('esencial', (4, 1)),\n",
       " ('Buonaparte', (3, 1)),\n",
       " ('hombres', (5, 1)),\n",
       " ('inquietas', (2, 1)),\n",
       " ('El', (1, 1)),\n",
       " ('la', (3, 5)),\n",
       " ('trascendente.', (5, 1)),\n",
       " ('en', (3, 4)),\n",
       " ('el', (5, 3)),\n",
       " ('y', (6, 4)),\n",
       " ('p\\xc3\\xbablicas', (6, 1)),\n",
       " ('opuesto', (6, 1)),\n",
       " ('(acu\\xc3\\xadferos),', (4, 1)),\n",
       " ('de', (3, 10)),\n",
       " ('bien', (6, 1)),\n",
       " ('rama', (5, 1)),\n",
       " ('necesita', (6, 1)),\n",
       " ('despu\\xc3\\xa9s,', (3, 1)),\n",
       " ('donde', (3, 1)),\n",
       " ('capacidad', (5, 1)),\n",
       " ('Personal', (6, 1)),\n",
       " ('es', (6, 4)),\n",
       " ('grillos,', (2, 1)),\n",
       " ('muy', (2, 1)),\n",
       " ('Antes', (6, 1)),\n",
       " ('vapor.', (4, 1)),\n",
       " ('capaz', (6, 1)),\n",
       " ('palomino', (1, 1)),\n",
       " ('del', (6, 1)),\n",
       " ('fiestas,', (1, 1)),\n",
       " ('denominada', (4, 1)),\n",
       " ('ciertas', (6, 1)),\n",
       " ('Es', (6, 1)),\n",
       " ('palabras', (6, 1)),\n",
       " ('esquema', (6, 1)),\n",
       " ('0,04%', (4, 1)),\n",
       " ('Letizia', (3, 1)),\n",
       " ('un', (1, 2)),\n",
       " ('s\\xc3\\xb3lo', (3, 1)),\n",
       " ('redactar', (6, 1)),\n",
       " ('las', (1, 3)),\n",
       " ('glaciares', (4, 2)),\n",
       " ('hiciesen', (2, 1)),\n",
       " ('velarte,', (1, 1)),\n",
       " ('local.', (3, 1)),\n",
       " ('poseen', (4, 1)),\n",
       " ('lat\\xc3\\xadn', (5, 1)),\n",
       " ('lo', (3, 1)),\n",
       " ('hasta', (2, 1)),\n",
       " ('Toda', (6, 1)),\n",
       " ('alg\\xc3\\xban', (1, 1)),\n",
       " ('hidalgo', (1, 1)),\n",
       " ('estado', (4, 1)),\n",
       " ('descubierto', (2, 1)),\n",
       " ('reparte', (4, 1)),\n",
       " ('y', (4, 6)),\n",
       " ('Es', (4, 1)),\n",
       " ('importancia', (6, 1)),\n",
       " ('a\\xc3\\xb1adidura', (1, 1)),\n",
       " ('un', (3, 2)),\n",
       " ('ocultar.', (2, 1)),\n",
       " ('noches', (2, 2)),\n",
       " ('decreciente', (4, 1)),\n",
       " ('un', (5, 2)),\n",
       " ('salpic\\xc3\\xb3n', (1, 1)),\n",
       " ('C\\xc3\\xb3rcega', (3, 2)),\n",
       " ('quiero', (1, 1)),\n",
       " ('XVI,', (3, 1)),\n",
       " ('estremecia', (2, 1)),\n",
       " ('u', (6, 2)),\n",
       " ('a\\xc3\\xb1os', (2, 2)),\n",
       " ('estaba', (2, 1)),\n",
       " ('Su', (2, 1)),\n",
       " ('ordenador.', (6, 1)),\n",
       " ('por', (2, 3)),\n",
       " ('representante', (3, 1)),\n",
       " ('ello', (6, 1)),\n",
       " ('astillero,', (1, 1)),\n",
       " ('que', (2, 7)),\n",
       " ('\\xc2\\xabfacilidades\\xc2\\xbb', (6, 1)),\n",
       " ('cubre', (4, 1)),\n",
       " ('cuarto', (2, 1)),\n",
       " ('resuelve', (5, 1)),\n",
       " ('o', (6, 4)),\n",
       " ('largas;', (2, 1)),\n",
       " ('de', (1, 12)),\n",
       " ('nombre', (1, 1)),\n",
       " ('La', (5, 1)),\n",
       " ('agua', (4, 4)),\n",
       " ('los', (5, 2)),\n",
       " ('casa', (2, 1)),\n",
       " ('aqua)', (4, 1)),\n",
       " ('cohesi\\xc3\\xb3n', (6, 1)),\n",
       " ('promueve', (5, 1)),\n",
       " ('En', (1, 1)),\n",
       " ('1778', (3, 1)),\n",
       " ('ordenamiento', (5, 1)),\n",
       " ('seg\\xc3\\xban', (6, 2)),\n",
       " ('1,72%', (4, 1)),\n",
       " ('resultar\\xc3\\xa1', (6, 1)),\n",
       " ('concentra', (4, 1)),\n",
       " ('madre,', (3, 1)),\n",
       " ('instituciones', (6, 1)),\n",
       " ('Mancha,', (1, 1)),\n",
       " ('hallarse', (4, 1)),\n",
       " ('ya', (6, 1)),\n",
       " ('Se', (4, 1)),\n",
       " ('decian', (2, 2)),\n",
       " ('esta', (5, 2)),\n",
       " ('conclu\\xc3\\xadan', (1, 1)),\n",
       " ('El', (3, 1)),\n",
       " ('corredor.', (1, 1)),\n",
       " ('la', (1, 1)),\n",
       " ('71%', (4, 1)),\n",
       " ('su', (4, 3)),\n",
       " ('en', (1, 1)),\n",
       " ('ox\\xc3\\xadgeno', (4, 1)),\n",
       " ('al', (5, 3)),\n",
       " ('intenci\\xc3\\xb3n', (6, 1)),\n",
       " ('fino.', (1, 1)),\n",
       " ('pedazos.', (2, 1)),\n",
       " ('fechado', (3, 1)),\n",
       " ('antigua,', (1, 1)),\n",
       " ('quisieron', (2, 1)),\n",
       " ('le', (5, 1)),\n",
       " ('Luis', (3, 1)),\n",
       " ('quieren', (6, 1)),\n",
       " ('anterior', (2, 1)),\n",
       " ('a', (6, 2)),\n",
       " ('oraci\\xc3\\xb3n', (6, 1)),\n",
       " ('ocasiones', (6, 1)),\n",
       " ('viernes,', (1, 1)),\n",
       " ('mano', (2, 1)),\n",
       " ('lat\\xc3\\xadn', (4, 1)),\n",
       " ('lo', (2, 2)),\n",
       " ('sea', (5, 1)),\n",
       " ('partes', (2, 1)),\n",
       " ('convivencia', (5, 1)),\n",
       " ('la', (4, 5)),\n",
       " ('elabora', (6, 1)),\n",
       " ('su', (1, 2)),\n",
       " ('roc\\xc3\\xadn', (1, 1)),\n",
       " ('como', (5, 1)),\n",
       " ('Las', (2, 1)),\n",
       " ('y', (1, 3)),\n",
       " ('calzas', (1, 1)),\n",
       " ('velludo', (1, 1)),\n",
       " ('aunque', (4, 1)),\n",
       " ('fundamental', (3, 1)),\n",
       " ('casquetes', (4, 1)),\n",
       " ('dos', (4, 1)),\n",
       " ('orden', (6, 3)),\n",
       " ('identificar', (6, 1)),\n",
       " ('ya', (5, 1)),\n",
       " ('para', (1, 1)),\n",
       " ('resto', (1, 1)),\n",
       " ('dep\\xc3\\xb3sitos', (4, 1)),\n",
       " ('El', (4, 3)),\n",
       " ('l\\xc3\\xb3gica', (6, 1)),\n",
       " ('a\\xc3\\xb1o', (3, 1)),\n",
       " ('duelos', (1, 1)),\n",
       " ('a\\xc3\\xb1os', (3, 1)),\n",
       " ('28', (3, 1)),\n",
       " ('marzo', (3, 1)),\n",
       " ('hacienda.', (1, 1)),\n",
       " ('Su', (3, 2)),\n",
       " ('carnero,', (1, 1)),\n",
       " ('uso', (5, 1)),\n",
       " ('por', (3, 3)),\n",
       " ('libre,', (5, 1)),\n",
       " ('textuales.', (6, 1)),\n",
       " ('moral', (5, 1)),\n",
       " ('despu\\xc3\\xa9s', (3, 1)),\n",
       " ('que', (1, 2)),\n",
       " ('1796.', (3, 1)),\n",
       " ('seres', (4, 1)),\n",
       " ('m\\xc3\\xa1s', (1, 3)),\n",
       " ('sayo', (1, 1)),\n",
       " ('t\\xc3\\xa9rmino', (4, 1)),\n",
       " ('acordarme,', (1, 1)),\n",
       " ('problemas', (5, 1)),\n",
       " ('Una', (6, 1)),\n",
       " ('lugar', (3, 1)),\n",
       " ('a\\xc3\\xban,', (6, 1)),\n",
       " ('ejercicio', (5, 1)),\n",
       " ('suelo', (2, 1)),\n",
       " ('alinear', (6, 1)),\n",
       " (',', (2, 1)),\n",
       " ('desea', (6, 1)),\n",
       " ('diferente;', (6, 1)),\n",
       " ('mentalmente', (6, 1)),\n",
       " ('vida.', (4, 1)),\n",
       " ('ideas', (6, 3)),\n",
       " ('bien.', (2, 1)),\n",
       " ('asuntos', (5, 1)),\n",
       " ('terrestre.2', (4, 1)),\n",
       " ('corso),', (3, 1)),\n",
       " ('llamada', (4, 1)),\n",
       " ('Siguiendo', (5, 1)),\n",
       " ('Nabulione', (3, 1)),\n",
       " ('Es', (5, 1)),\n",
       " ('su', (5, 1)),\n",
       " ('afrancesado', (3, 1)),\n",
       " ('idea', (6, 1)),\n",
       " ('G\\xc3\\xa9nova.Napoleone,', (3, 1)),\n",
       " ('virtud', (5, 1)),\n",
       " ('formada', (4, 1)),\n",
       " ('orden', (4, 1)),\n",
       " ('flaco', (1, 1)),\n",
       " ('sociedad', (5, 1)),\n",
       " ('seg\\xc3\\xban', (5, 1)),\n",
       " ('que', (5, 4)),\n",
       " ('voces', (2, 1)),\n",
       " ('localiza', (4, 1)),\n",
       " ('oraci\\xc3\\xb3n,', (6, 1)),\n",
       " ('pueden', (6, 1)),\n",
       " ('para', (5, 1)),\n",
       " ('quiere', (6, 1)),\n",
       " ('se', (1, 1)),\n",
       " ('redacci\\xc3\\xb3n', (6, 1)),\n",
       " ('recuerdo', (2, 1)),\n",
       " ('entresemana', (1, 1)),\n",
       " ('olla', (1, 1)),\n",
       " ('mente,', (6, 1)),\n",
       " ('ciudad', (5, 1)),\n",
       " ('escribir', (6, 1)),\n",
       " ('muri\\xc3\\xb3', (2, 1)),\n",
       " ('superficie', (4, 1)),\n",
       " ('corteza', (4, 1)),\n",
       " ('es', (5, 2)),\n",
       " ('estas', (6, 1)),\n",
       " ('autor.', (6, 1)),\n",
       " ('vivos.', (4, 1)),\n",
       " ('manchado', (2, 1)),\n",
       " ('lantejas', (1, 1)),\n",
       " ('una', (4, 1)),\n",
       " ('(sintaxis),', (6, 1)),\n",
       " ('el', (2, 4)),\n",
       " ('las', (6, 4)),\n",
       " ('los', (6, 1)),\n",
       " ('tres', (1, 1)),\n",
       " ('decir,', (6, 1)),\n",
       " ('\\xc2\\xabinstalaciones\\xc2\\xbb.', (6, 1)),\n",
       " ('toma', (6, 1)),\n",
       " ('corte', (3, 1)),\n",
       " ('colectiva.', (5, 1)),\n",
       " ('papel', (6, 1)),\n",
       " ('\\xc3\\xa1tomos', (4, 1)),\n",
       " ('el', (4, 5)),\n",
       " ('ni\\xc3\\xb1ez', (3, 1)),\n",
       " ('su', (3, 3)),\n",
       " ('cuentan', (6, 1)),\n",
       " ('acentuaci\\xc3\\xb3n', (6, 1)),\n",
       " ('capacitaci\\xc3\\xb3n', (6, 1)),\n",
       " ('permafrost', (4, 1)),\n",
       " ('carente', (6, 1)),\n",
       " ('humedad', (4, 1)),\n",
       " ('con', (6, 1)),\n",
       " ('Nacido', (3, 1)),\n",
       " ('fantasmas', (2, 1)),\n",
       " ('sencillos', (6, 1)),\n",
       " ('lo', (6, 4)),\n",
       " ('principales', (6, 1)),\n",
       " ('pantalla', (6, 1)),\n",
       " ('oidos', (2, 1)),\n",
       " ('quebrantos', (1, 1)),\n",
       " ('generalmente', (4, 1)),\n",
       " ('Carlo', (3, 1)),\n",
       " ('rincones', (2, 1)),\n",
       " ('\\xc2\\xabmedios\\xc2\\xbb', (6, 1)),\n",
       " ('propia', (2, 1)),\n",
       " ('Buonaparte,', (3, 1)),\n",
       " ('r\\xc3\\xados', (4, 1)),\n",
       " ('superarse', (6, 1)),\n",
       " ('Ramolino,', (3, 1)),\n",
       " ('adarga', (1, 1)),\n",
       " ('depender\\xc3\\xa1', (6, 1)),\n",
       " ('cursos', (6, 2)),\n",
       " ('principalmente', (4, 1)),\n",
       " ('aun', (2, 1)),\n",
       " ('oficial', (3, 1)),\n",
       " ('de', (6, 14)),\n",
       " ('terribles', (2, 1)),\n",
       " ('expresar.', (6, 1)),\n",
       " ('plantea', (5, 1)),\n",
       " ('evitar', (2, 1)),\n",
       " ('comparacion', (2, 1)),\n",
       " ('coherencia', (6, 1)),\n",
       " ('hacia', (2, 1)),\n",
       " ('se', (5, 1)),\n",
       " ('una', (6, 3)),\n",
       " ('padre,', (3, 1)),\n",
       " ('cuarto,y', (2, 1)),\n",
       " ('subterr\\xc3\\xa1neos', (4, 1)),\n",
       " ('lugar', (1, 1)),\n",
       " ('entre', (2, 1)),\n",
       " ('variar', (6, 1)),\n",
       " ('atronadoras', (2, 1)),\n",
       " ('libres,', (5, 1)),\n",
       " ('emita', (6, 1)),\n",
       " ('1,74%,', (4, 1)),\n",
       " ('privadas.', (6, 1)),\n",
       " ('las', (2, 2)),\n",
       " ('del', (5, 3)),\n",
       " ('caracter\\xc3\\xadstica', (5, 1)),\n",
       " ('est\\xc3\\xa1', (4, 1)),\n",
       " ('vellor\\xc3\\xad', (1, 1)),\n",
       " ('rostros', (2, 1)),\n",
       " ('nobleza', (3, 1)),\n",
       " ('y', (5, 2)),\n",
       " ('durmi\\xc3\\xb3,', (2, 1)),\n",
       " ('la', (6, 6)),\n",
       " ('consum\\xc3\\xadan', (1, 1)),\n",
       " ('al', (6, 2)),\n",
       " ('estilo,', (6, 1)),\n",
       " ('verdad,', (2, 1)),\n",
       " ('(del', (4, 1)),\n",
       " ('con', (2, 5)),\n",
       " ('honraba', (1, 1)),\n",
       " ('aquel', (2, 1)),\n",
       " ('tiempo.', (2, 1)),\n",
       " ('l\\xc3\\xadquido,', (4, 1)),\n",
       " ('manos', (2, 1)),\n",
       " ('pol\\xc3\\xadtica.', (5, 1)),\n",
       " ('por', (5, 1)),\n",
       " ('ensue\\xc3\\xb1os', (2, 1)),\n",
       " ('son', (2, 2)),\n",
       " ('Lo', (2, 1)),\n",
       " ('labora', (6, 1)),\n",
       " ('promover', (5, 1)),\n",
       " ('relativo', (5, 1)),\n",
       " ('suponen', (4, 1)),\n",
       " ('importante', (6, 1)),\n",
       " ('necesario', (5, 1)),\n",
       " ('el', (6, 3)),\n",
       " ('a', (3, 1)),\n",
       " ('pretende', (6, 1)),\n",
       " ('ciudadano\\\\)', (5, 1)),\n",
       " ('embalses,', (4, 1)),\n",
       " ('familia', (3, 1)),\n",
       " ('fin', (5, 1)),\n",
       " ('escriban', (6, 1)),\n",
       " ('empezar', (6, 1)),\n",
       " ('En', (6, 2)),\n",
       " ('o', (5, 1)),\n",
       " ('locura.', (2, 2)),\n",
       " ('m\\xc3\\xa1s', (3, 1)),\n",
       " ('compuesta', (5, 1)),\n",
       " ('hielo,', (4, 1)),\n",
       " ('leg\\xc3\\xadtimo', (5, 1)),\n",
       " ('trasladar', (6, 1)),\n",
       " ('aunque', (2, 1)),\n",
       " ('aparece', (3, 1)),\n",
       " ('furor', (2, 1)),\n",
       " ('en', (6, 9)),\n",
       " ('definici\\xc3\\xb3n', (5, 1)),\n",
       " ('escritas.Algunos', (6, 1)),\n",
       " ('oc\\xc3\\xa9anos', (4, 1)),\n",
       " ('autores', (5, 1)),\n",
       " ('cuyo', (1, 1)),\n",
       " ('que', (3, 2)),\n",
       " ('viv\\xc3\\xada', (1, 1)),\n",
       " ('t\\xc3\\xa9rminos', (6, 1)),\n",
       " ('uno', (4, 1)),\n",
       " ('generacion', (2, 1)),\n",
       " ('inclinaban', (2, 1)),\n",
       " ('supervivencia', (4, 1)),\n",
       " ('estremece.', (2, 1)),\n",
       " ('Napol\\xc3\\xa9on', (3, 1)),\n",
       " ('Napoleone', (3, 1)),\n",
       " ('El', (6, 1)),\n",
       " ('poner', (6, 1)),\n",
       " ('bien', (5, 2)),\n",
       " ('la', (2, 6)),\n",
       " ('Sabia', (2, 1)),\n",
       " ('en', (2, 6)),\n",
       " ('sangre,', (2, 1)),\n",
       " ('refiere', (4, 1)),\n",
       " ('quehacer', (5, 1)),\n",
       " ('de', (2, 7)),\n",
       " ('entre', (4, 1)),\n",
       " ('Algunos', (5, 1)),\n",
       " ('polares', (4, 1)),\n",
       " ('antiguo', (3, 1)),\n",
       " ('figura', (3, 1)),\n",
       " ('tiempo', (1, 1)),\n",
       " ('donde', (4, 1)),\n",
       " ('o', (3, 1)),\n",
       " ('cada', (6, 1)),\n",
       " ('varios', (3, 1)),\n",
       " ('mi,', (2, 1)),\n",
       " ('sabia', (2, 1)),\n",
       " ('los', (2, 2)),\n",
       " ('acentos,', (2, 1)),\n",
       " ('un', (6, 1)),\n",
       " ('vivido', (2, 1)),\n",
       " ('en', (4, 5)),\n",
       " ('ordenado', (5, 1)),\n",
       " ('antiguo', (5, 1)),\n",
       " ('sus', (1, 1)),\n",
       " ('\\\\(del', (5, 1)),\n",
       " ('las', (4, 1)),\n",
       " ('maliciosos', (2, 1)),\n",
       " ('monitor', (6, 1)),\n",
       " ('nombrado', (3, 1)),\n",
       " ('\\xcf\\x80\\xce\\xbf\\xce\\xbb\\xce\\xb9\\xcf\\x84\\xce\\xb9\\xce\\xba\\xcf\\x8c\\xcf\\x82',\n",
       "  (5, 1)),\n",
       " ('los', (4, 5)),\n",
       " ('de', (4, 6)),\n",
       " ('Bonaparte.', (3, 1)),\n",
       " ('padre', (2, 1)),\n",
       " ('no', (6, 2))]"
      ]
     },
     "execution_count": 21,
     "metadata": {},
     "output_type": "execute_result"
    }
   ],
   "source": [
    "Palabras = Palabras.map(lambda x: (x[0][0],(x[0][1],x[1])))\n",
    "Palabras.collect()"
   ]
  },
  {
   "cell_type": "code",
   "execution_count": 23,
   "metadata": {},
   "outputs": [
    {
     "data": {
      "text/plain": [
       "[[(1, 'antiguo', 2), (1, 'Buonaparte', 1), (1, 'Francia', 1)],\n",
       " [(2, 'en', -1), (2, 'orden', 4)],\n",
       " [(3, 'no', 0)]]"
      ]
     },
     "execution_count": 23,
     "metadata": {},
     "output_type": "execute_result"
    }
   ],
   "source": [
    "Puntajes.collect()"
   ]
  },
  {
   "cell_type": "code",
   "execution_count": 24,
   "metadata": {},
   "outputs": [
    {
     "data": {
      "text/plain": [
       "[('antiguo', (1, 2)),\n",
       " ('Buonaparte', (1, 1)),\n",
       " ('Francia', (1, 1)),\n",
       " ('en', (2, -1)),\n",
       " ('orden', (2, 4)),\n",
       " ('no', (3, 0))]"
      ]
     },
     "execution_count": 24,
     "metadata": {},
     "output_type": "execute_result"
    }
   ],
   "source": [
    "Puntos = Puntajes.flatMap(lambda x: x).map(lambda x: (x[1],(x[0],x[2])))\n",
    "Puntos.collect()\n"
   ]
  },
  {
   "cell_type": "code",
   "execution_count": 44,
   "metadata": {},
   "outputs": [
    {
     "data": {
      "text/plain": [
       "[('antiguo', ((3, 1), (1, 2))),\n",
       " ('antiguo', ((5, 1), (1, 2))),\n",
       " ('orden', ((6, 3), (2, 4))),\n",
       " ('orden', ((4, 1), (2, 4))),\n",
       " ('Francia', ((3, 1), (1, 1))),\n",
       " ('Buonaparte', ((3, 1), (1, 1))),\n",
       " ('en', ((5, 1), (2, -1))),\n",
       " ('en', ((3, 4), (2, -1))),\n",
       " ('en', ((1, 1), (2, -1))),\n",
       " ('en', ((6, 9), (2, -1))),\n",
       " ('en', ((2, 6), (2, -1))),\n",
       " ('en', ((4, 5), (2, -1))),\n",
       " ('no', ((1, 2), (3, 0))),\n",
       " ('no', ((6, 2), (3, 0)))]"
      ]
     },
     "execution_count": 44,
     "metadata": {},
     "output_type": "execute_result"
    }
   ],
   "source": [
    "Scores = Palabras.join(Puntos)\n",
    "Scores.collect()"
   ]
  },
  {
   "cell_type": "code",
   "execution_count": 45,
   "metadata": {},
   "outputs": [
    {
     "data": {
      "text/plain": [
       "[((1, 3), 2),\n",
       " ((1, 5), 2),\n",
       " ((2, 6), 12),\n",
       " ((2, 4), 4),\n",
       " ((1, 3), 1),\n",
       " ((1, 3), 1),\n",
       " ((2, 5), -1),\n",
       " ((2, 3), -4),\n",
       " ((2, 1), -1),\n",
       " ((2, 6), -9),\n",
       " ((2, 2), -6),\n",
       " ((2, 4), -5),\n",
       " ((3, 1), 0),\n",
       " ((3, 6), 0)]"
      ]
     },
     "execution_count": 45,
     "metadata": {},
     "output_type": "execute_result"
    }
   ],
   "source": [
    "Scores = Scores.map(lambda x: x[1]).map(lambda x: ((x[1][0],x[0][0]),x[0][1]*x[1][1])) #((User,Doc),ranking(palabra))\n",
    "Scores.collect()"
   ]
  },
  {
   "cell_type": "code",
   "execution_count": 46,
   "metadata": {},
   "outputs": [
    {
     "data": {
      "text/plain": [
       "[(1, 5, 2),\n",
       " (2, 4, -1),\n",
       " (2, 3, -4),\n",
       " (2, 6, 3),\n",
       " (1, 3, 4),\n",
       " (3, 1, 0),\n",
       " (2, 2, -6),\n",
       " (2, 5, -1),\n",
       " (3, 6, 0),\n",
       " (2, 1, -1)]"
      ]
     },
     "execution_count": 46,
     "metadata": {},
     "output_type": "execute_result"
    }
   ],
   "source": [
    "Scores = Scores.reduceByKey(lambda x,y: x+y).map(lambda x: x[0]+(x[1],))\n",
    "Scores.collect()"
   ]
  },
  {
   "cell_type": "markdown",
   "metadata": {},
   "source": [
    "## EJ NUMERO 2"
   ]
  },
  {
   "cell_type": "markdown",
   "metadata": {},
   "source": [
    "Una red social almacena el contenido de los chats entre sus usuarios en un RDD que tiene registros con el siguiente formato: (chat_id, user_id, nickname, text). Queremos saber cuál es el usuario (user_id) que mas preguntas hace en sus chats, contabilizamos una pregunta por cada caracter “?” que aparezca en el campo text. Programar en Spark un programa que identifique al usuario preguntón."
   ]
  },
  {
   "cell_type": "code",
   "execution_count": 78,
   "metadata": {},
   "outputs": [],
   "source": [
    "chats_detalle = [\n",
    "    (1, 1,  'rodolf','amigooo, como estas???'),\n",
    "    (2, 2,  'bianca','hey! holaaa'),\n",
    "    (3, 3,'juan', 'todo bien y vos?'),\n",
    "    (4, 3, 'juan', 'No puedo creerlo'),\n",
    "    (5, 1, 'rodolf', 'mañana salgo YA para allá.ok?')\n",
    "]\n",
    "\n",
    "# Los paso a RDDs\n",
    "\n",
    "rdd_chat = sc.parallelize(chats_detalle)"
   ]
  },
  {
   "cell_type": "code",
   "execution_count": 70,
   "metadata": {},
   "outputs": [
    {
     "data": {
      "text/plain": [
       "[(1, 'amigooo, como estas???'),\n",
       " (2, 'hey! holaaa'),\n",
       " (3, 'todo bien y vos?'),\n",
       " (3, 'No puedo creerlo'),\n",
       " (1, 'ma\\xc3\\xb1ana salgo YA para all\\xc3\\xa1.ok?')]"
      ]
     },
     "execution_count": 70,
     "metadata": {},
     "output_type": "execute_result"
    }
   ],
   "source": [
    "rdd_chat=rdd_chat.map(lambda x: (x[1],x[3]))\n",
    "rdd_chat.collect()"
   ]
  },
  {
   "cell_type": "code",
   "execution_count": 71,
   "metadata": {},
   "outputs": [
    {
     "data": {
      "text/plain": [
       "[(1, 'amigooo, como estas???'),\n",
       " (3, 'todo bien y vos?'),\n",
       " (1, 'ma\\xc3\\xb1ana salgo YA para all\\xc3\\xa1.ok?')]"
      ]
     },
     "execution_count": 71,
     "metadata": {},
     "output_type": "execute_result"
    }
   ],
   "source": [
    "rdd_chat=rdd_chat.filter(lambda x: '?' in x[1])\n",
    "rdd_chat.collect()"
   ]
  },
  {
   "cell_type": "code",
   "execution_count": 72,
   "metadata": {},
   "outputs": [
    {
     "data": {
      "text/plain": [
       "3"
      ]
     },
     "execution_count": 72,
     "metadata": {},
     "output_type": "execute_result"
    }
   ],
   "source": [
    "rdd_chat.count() #De esta manera cuento las preguntas si considero que puede haber solo una por chat"
   ]
  },
  {
   "cell_type": "code",
   "execution_count": 77,
   "metadata": {},
   "outputs": [
    {
     "data": {
      "text/plain": [
       "(1, 4)"
      ]
     },
     "execution_count": 77,
     "metadata": {},
     "output_type": "execute_result"
    }
   ],
   "source": [
    "rdd_chat.map(lambda x: (x[0],x[1].count('?'))).reduceByKey(lambda x,y: x+y).reduce(lambda x,y: x if x[1] > y[1] else y)\n"
   ]
  },
  {
   "cell_type": "code",
   "execution_count": null,
   "metadata": {},
   "outputs": [],
   "source": [
    "#Otra manera de hacerlo (CLASE)"
   ]
  },
  {
   "cell_type": "code",
   "execution_count": 82,
   "metadata": {},
   "outputs": [
    {
     "data": {
      "text/plain": [
       "(1, 4)"
      ]
     },
     "execution_count": 82,
     "metadata": {},
     "output_type": "execute_result"
    }
   ],
   "source": [
    "rdd_chat.filter(lambda x: '?' in x[3])\\\n",
    ".map(lambda x: (x[1],x[3].count('?')))\\\n",
    ".reduceByKey(lambda x,y: x+y)\\\n",
    ".reduce(lambda x,y: x if x[1]>y[1] else y)"
   ]
  },
  {
   "cell_type": "markdown",
   "metadata": {},
   "source": [
    "## EJ NUMERO 3"
   ]
  },
  {
   "cell_type": "markdown",
   "metadata": {},
   "source": [
    "UBER almacena en un cluster todos los datos sobre el movimiento y viajes de todos sus vehículos. Existe un proceso que nos devuelve un RDD llamado trip_summary con los siguientes campos: (driver_id, car_id, trip_id, customer_id, date (YYYYMMDD), distance_traveled), Programar usando Py Spark un programa que nos indique cual fue el conductor con mayor promedio de distancia recorrida por viaje para Abril de 2016."
   ]
  },
  {
   "cell_type": "code",
   "execution_count": 99,
   "metadata": {},
   "outputs": [],
   "source": [
    "trip = [\n",
    "    (1, 1,30,  '20171105',500.0),\n",
    "    (2, 2,40,  '20171105',200.0),\n",
    "    (3, 3,25,'20160405', 50.0),\n",
    "    (3, 3,11, '20160411', 1000.0),\n",
    "    (5, 1,13, '20160406', 800.0)\n",
    "]\n",
    "\n",
    "# Los paso a RDDs\n",
    "\n",
    "rdd_trip = sc.parallelize(trip)"
   ]
  },
  {
   "cell_type": "code",
   "execution_count": 111,
   "metadata": {},
   "outputs": [
    {
     "data": {
      "text/plain": [
       "5"
      ]
     },
     "execution_count": 111,
     "metadata": {},
     "output_type": "execute_result"
    }
   ],
   "source": [
    "rdd_trip.filter(lambda x: x[3][:6]=='201604')\\\n",
    ".map(lambda x: (x[0],(x[4],1)))\\\n",
    ".reduceByKey(lambda x,y: (x[0]+y[0],x[1]+y[1]))\\\n",
    ".map(lambda x: (x[0],(x[1][0]/x[1][1]))).reduce(lambda x,y: x[0] if x[1]>y[1] else y[0])"
   ]
  },
  {
   "cell_type": "markdown",
   "metadata": {},
   "source": [
    "## EJ NUMERO 4"
   ]
  },
  {
   "cell_type": "markdown",
   "metadata": {},
   "source": [
    "Un telescopio registra automaticamente la luminosidad de distintas estrellas generando un RDD con registros de tipo (star_id, magnitude,spectral_type, timestamp). Queremos obtener un listado de estrellas que tienen el mismo tipo espectral e igual promedio de magnitud una vez redondeado el mismo a un decimal. El resultado debe ser una lista en donde cada elemento de la lista es una lista de ids de estrellas similares. "
   ]
  },
  {
   "cell_type": "code",
   "execution_count": 112,
   "metadata": {},
   "outputs": [],
   "source": [
    "estrellas = [\n",
    "    (1, 1.12,30,  '20171105'),\n",
    "    (2, 2.12,40,  '20171105'),\n",
    "    (3, 3.34,25,'20160405'),\n",
    "    (4, 3.39,30, '20160411'),\n",
    "    (5, 1.29,30, '20160406')\n",
    "]\n",
    "\n",
    "# Los paso a RDDs\n",
    "\n",
    "rdd_estrellas = sc.parallelize(estrellas)"
   ]
  },
  {
   "cell_type": "code",
   "execution_count": 114,
   "metadata": {},
   "outputs": [],
   "source": [
    "# CLASE"
   ]
  },
  {
   "cell_type": "code",
   "execution_count": 113,
   "metadata": {},
   "outputs": [
    {
     "data": {
      "text/plain": [
       "[((2.0, 40), [2]), ((3.0, 25), [3]), ((1.0, 30), [1, 5]), ((3.0, 30), [4])]"
      ]
     },
     "execution_count": 113,
     "metadata": {},
     "output_type": "execute_result"
    }
   ],
   "source": [
    "rdd_estrellas.map(lambda x:(x[0],(1,x[1],x[2])))\\\n",
    ".reduceByKey(lambda x,y:(x[0]+y[0],x[1]+y[1]))\\\n",
    ".map(lambda x: ((round(float(x[1][1]/x[1][0]),1),x[1][2]),x[0]))\\\n",
    ".groupByKey()\\\n",
    ".map(lambda x: (x[0],list(x[1])))\\\n",
    ".collect()"
   ]
  },
  {
   "cell_type": "code",
   "execution_count": 119,
   "metadata": {},
   "outputs": [
    {
     "data": {
      "text/plain": [
       "[((2.0, 40), [2]), ((3.0, 25), [3]), ((1.0, 30), [1, 5]), ((3.0, 30), [4])]"
      ]
     },
     "execution_count": 119,
     "metadata": {},
     "output_type": "execute_result"
    }
   ],
   "source": [
    "rdd_estrellas.map(lambda x: ((round(x[1],1),x[2]),x[0])).groupByKey().map(lambda x: (x[0], list(x[1]))).collect()"
   ]
  },
  {
   "cell_type": "code",
   "execution_count": 122,
   "metadata": {},
   "outputs": [
    {
     "data": {
      "text/plain": [
       "[((2.0, 40), [2]), ((3.0, 25), [3]), ((1.0, 30), [1, 5]), ((3.0, 30), [4])]"
      ]
     },
     "execution_count": 122,
     "metadata": {},
     "output_type": "execute_result"
    }
   ],
   "source": [
    "rdd_estrellas.map(lambda x: ((round(x[1],1),x[2]),x[0])).groupByKey().mapValues(list).collect()"
   ]
  },
  {
   "cell_type": "markdown",
   "metadata": {},
   "source": [
    "## EJ NUMERO 5"
   ]
  },
  {
   "cell_type": "markdown",
   "metadata": {},
   "source": [
    "Se tiene un RDD con libros en donde cada registro es un texto. Se pide obtener todos los anagramas de mas de 7 letras que puedan encontrarse. El formato de salida debe ser una lista de listas en donde cada lista tiene un conjunto de palabras que son anagramas. Ejemplo: [[discounter,introduces,reductions],[percussion,supersonic]...]"
   ]
  },
  {
   "cell_type": "code",
   "execution_count": 123,
   "metadata": {},
   "outputs": [],
   "source": [
    "import wikipedia as wp\n",
    "wp.set_lang('en')\n",
    "articulo1 = wp.page('F-35').content\n",
    "articulo2 = wp.page('Cajón de rumba').content\n",
    "rdd = sc.parallelize([articulo1,articulo2])"
   ]
  },
  {
   "cell_type": "code",
   "execution_count": 124,
   "metadata": {},
   "outputs": [],
   "source": [
    "rdd = rdd.map(lambda x: x.replace(\"\\n\",\"\").split(\" \")) #tokenizer naive\n",
    "rdd = rdd.flatMap(lambda x: x).filter(lambda x: len(x) > 7)"
   ]
  },
  {
   "cell_type": "code",
   "execution_count": 125,
   "metadata": {},
   "outputs": [],
   "source": [
    "rdd = rdd.map(lambda x: x.lower())\n",
    "rdd = rdd.map(lambda x: (tuple(sorted(x)),x))"
   ]
  },
  {
   "cell_type": "code",
   "execution_count": 127,
   "metadata": {},
   "outputs": [],
   "source": [
    "rdd = rdd.groupByKey().mapValues(set)\n"
   ]
  },
  {
   "cell_type": "code",
   "execution_count": 129,
   "metadata": {},
   "outputs": [
    {
     "data": {
      "text/plain": [
       "[[u'surface-to-air', u'air-to-surface'],\n",
       " [u'reduction', u'introduce'],\n",
       " [u'supersonic', u'percussion']]"
      ]
     },
     "execution_count": 129,
     "metadata": {},
     "output_type": "execute_result"
    }
   ],
   "source": [
    "rdd = rdd.filter(lambda x: len(x[1]) > 1)\n",
    "rdd = rdd.map(lambda x: list(x[1]))\n",
    "rdd.collect()"
   ]
  },
  {
   "cell_type": "markdown",
   "metadata": {},
   "source": [
    "## EJ NUMERO 6"
   ]
  },
  {
   "cell_type": "markdown",
   "metadata": {},
   "source": [
    "Se tiene un RDD con las coordenadas de rectángulos de la forma (x1,x2,y1,y2). Se pide programar en PySpark un programa que encuentre el rectángulo de superficie mínima que contiene al punto (w,z)"
   ]
  },
  {
   "cell_type": "code",
   "execution_count": 134,
   "metadata": {},
   "outputs": [],
   "source": [
    "from random import uniform as uf"
   ]
  },
  {
   "cell_type": "code",
   "execution_count": 138,
   "metadata": {},
   "outputs": [],
   "source": [
    "rectangulos = [\n",
    "    (1,2,1,2),\n",
    "    (2,3,6,8),\n",
    "    (0,2,1,2),\n",
    "    (1,2,0,2),\n",
    "    (1,2,1,3),\n",
    "    (1,4,1,2),\n",
    "]\n",
    "\n",
    "punto = (1.5,1.5)\n",
    "# Los paso a RDDs\n",
    "\n",
    "rdd_rec = sc.parallelize(rectangulos)"
   ]
  },
  {
   "cell_type": "code",
   "execution_count": 139,
   "metadata": {},
   "outputs": [],
   "source": [
    "punto_a_encontrar =punto\n",
    "\n",
    "\n",
    "\n",
    "def square_contains(square,point=punto_a_encontrar):\n",
    "    x1, x2 = sorted([square[0],square[1]])\n",
    "    y1, y2 = sorted([square[2],square[3]])\n",
    "    return (point[0] >= x1 and point[0] <= x2) and \\\n",
    "            (point[1] >= y1 and point[1] <= y2)\n",
    "    \n",
    "#devuelve el area de un cuadrado\n",
    "def area(square):\n",
    "    x1, x2 = sorted([square[0],square[1]])\n",
    "    y1, y2 = sorted([square[2],square[3]])\n",
    "    return abs(x2-x1)*abs(y2-y1)"
   ]
  },
  {
   "cell_type": "code",
   "execution_count": 141,
   "metadata": {},
   "outputs": [],
   "source": [
    "rdd_rec = rdd_rec.filter(square_contains)"
   ]
  },
  {
   "cell_type": "code",
   "execution_count": 145,
   "metadata": {},
   "outputs": [
    {
     "data": {
      "text/plain": [
       "(1, 2, 1, 2)"
      ]
     },
     "execution_count": 145,
     "metadata": {},
     "output_type": "execute_result"
    }
   ],
   "source": [
    "rdd_rec.min(key=area)"
   ]
  },
  {
   "cell_type": "markdown",
   "metadata": {},
   "source": [
    "## EJ NUMERO 7"
   ]
  },
  {
   "cell_type": "markdown",
   "metadata": {},
   "source": [
    "A partir de la plataforma online (e-shop) de los países en los que opera, Nintendo tiene información de ventas de videojuegos diarias digitales por país en el siguiente RDD: (id_videojuego, codigo_pais, fecha, visitas_diarias, total_ventas_diarias). Por otro lado se tienen otro RDD que tiene información de todos los videojuegos que se venden en su plataforma con el siguiente formato (id_videojuego, titulo, rating_pegi, rating_esbr). Tener en cuenta que un mismo videojuego se puede vender en distintos países y esos nos permitirá obtener métricas a nivel global. Con esta información escribir un programa en pySpark que permita: a) Obtener el videojuego con más ventas digitales globales (es decir en todos los países) en un RDD con el siguiente formato: (id_videojuego, titulo, total), siendo total la cantidad total de ventas digitales globales b) Para el videojuego con mas ventas, obtener cual es el país para el cual ser registra una mayor tasa de conversión (es decir, mayor total_ventas_diarias / visitas_diarias) "
   ]
  },
  {
   "cell_type": "code",
   "execution_count": 59,
   "metadata": {},
   "outputs": [],
   "source": [
    "ventas_diarias = [\n",
    "    (1,3,'20180605',50.0,15.0),\n",
    "    (2,3,'20180511',80.0,15.0),\n",
    "    (3,2,'20170405',90.0,15.0),\n",
    "    (1,5,'20180305',40.0,15.0),\n",
    "    (2,4,'20180609',30.0,10.0),\n",
    "    (3,1,'20180211',90.0,15.0)\n",
    "]\n",
    "\n",
    "videojuegos = [\n",
    "    (1,'jojox',4,3),\n",
    "    (2,'joj3x',4,3),\n",
    "    (3,'kel',4,3)    \n",
    "]\n",
    "\n",
    "\n",
    "\n",
    "# Los paso a RDDs\n",
    "\n",
    "rdd_ventas = sc.parallelize(ventas_diarias)\n",
    "rdd_videojuego = sc.parallelize(videojuegos)"
   ]
  },
  {
   "cell_type": "code",
   "execution_count": 60,
   "metadata": {},
   "outputs": [],
   "source": [
    "rdd_ventas= rdd_ventas.map(lambda x: (x[0],x[4]))\n",
    "rdd_videojuego = rdd_videojuego.map(lambda x: (x[0],x[1]))                          "
   ]
  },
  {
   "cell_type": "code",
   "execution_count": 61,
   "metadata": {},
   "outputs": [
    {
     "data": {
      "text/plain": [
       "[(1, (15.0, 'jojox')),\n",
       " (1, (15.0, 'jojox')),\n",
       " (2, (15.0, 'joj3x')),\n",
       " (2, (10.0, 'joj3x')),\n",
       " (3, (15.0, 'kel')),\n",
       " (3, (15.0, 'kel'))]"
      ]
     },
     "execution_count": 61,
     "metadata": {},
     "output_type": "execute_result"
    }
   ],
   "source": [
    "\n",
    "ventas_combinado = rdd_ventas.join(rdd_videojuego)\n",
    "ventas_combinado.collect()\n"
   ]
  },
  {
   "cell_type": "code",
   "execution_count": 62,
   "metadata": {},
   "outputs": [
    {
     "data": {
      "text/plain": [
       "[(1, 'jojox', 30.0), (2, 'joj3x', 25.0), (3, 'kel', 30.0)]"
      ]
     },
     "execution_count": 62,
     "metadata": {},
     "output_type": "execute_result"
    }
   ],
   "source": [
    "rdd_videojuegos=ventas_combinado.reduceByKey(lambda x,y: (x[0]+y[0],x[1])).map(lambda x: (x[0],x[1][1],x[1][0]))\n",
    "rdd_videojuegos.collect()"
   ]
  },
  {
   "cell_type": "markdown",
   "metadata": {},
   "source": [
    " b) Para el videojuego con mas ventas, obtener cual es el país para el cual ser registra una mayor tasa de conversión (es decir, mayor total_ventas_diarias / visitas_diarias)"
   ]
  },
  {
   "cell_type": "code",
   "execution_count": 72,
   "metadata": {},
   "outputs": [
    {
     "data": {
      "text/plain": [
       "[3, 'kel', 30.0]"
      ]
     },
     "execution_count": 72,
     "metadata": {},
     "output_type": "execute_result"
    }
   ],
   "source": [
    "\n",
    "maximo=rdd_videojuegos.reduce(lambda x,y: x if x[2] > y[2] else y)\n",
    "rdd_maximo=sc.parallelize(maximo)\n",
    "rdd_maximo.collect()\n"
   ]
  },
  {
   "cell_type": "code",
   "execution_count": 83,
   "metadata": {},
   "outputs": [],
   "source": [
    "videoJuegoMasVendido = [ (3,'kel',30.0)]\n",
    "rddMaximo = sc.parallelize(videoJuegoMasVendido)\n"
   ]
  },
  {
   "cell_type": "code",
   "execution_count": 76,
   "metadata": {},
   "outputs": [],
   "source": [
    "rdd_maximo=rdd_maximo.map(lambda x: (x[0],x[2]))\n"
   ]
  },
  {
   "cell_type": "code",
   "execution_count": 78,
   "metadata": {},
   "outputs": [
    {
     "data": {
      "text/plain": [
       "[(1, (3, 50.0, 15.0)),\n",
       " (2, (3, 80.0, 15.0)),\n",
       " (3, (2, 90.0, 15.0)),\n",
       " (1, (5, 40.0, 15.0)),\n",
       " (2, (4, 30.0, 10.0)),\n",
       " (3, (1, 90.0, 15.0))]"
      ]
     },
     "execution_count": 78,
     "metadata": {},
     "output_type": "execute_result"
    }
   ],
   "source": [
    "rdd_ventas = sc.parallelize(ventas_diarias)\n",
    "rdd_ventas=rdd_ventas.map(lambda x: (x[0],(x[1],x[3],x[4])))\n",
    "\n",
    "rdd_ventas.collect()\n"
   ]
  },
  {
   "cell_type": "code",
   "execution_count": 84,
   "metadata": {},
   "outputs": [
    {
     "data": {
      "text/plain": [
       "[(3, ((2, 90.0, 15.0), 'kel')), (3, ((1, 90.0, 15.0), 'kel'))]"
      ]
     },
     "execution_count": 84,
     "metadata": {},
     "output_type": "execute_result"
    }
   ],
   "source": [
    "nuevo_rdd=rdd_ventas.join(rddMaximo)\n",
    "nuevo_rdd.collect()\n"
   ]
  },
  {
   "cell_type": "code",
   "execution_count": 93,
   "metadata": {},
   "outputs": [
    {
     "data": {
      "text/plain": [
       "(1, 0.16666666666666666)"
      ]
     },
     "execution_count": 93,
     "metadata": {},
     "output_type": "execute_result"
    }
   ],
   "source": [
    "nuevo_rdd.map(lambda x: (x[1][0][0],float(x[1][0][2]/x[1][0][1]))).reduce(lambda x,y: x if x[1] > y[1] else y)"
   ]
  },
  {
   "cell_type": "markdown",
   "metadata": {},
   "source": [
    "# PANDAS"
   ]
  },
  {
   "cell_type": "markdown",
   "metadata": {},
   "source": [
    "## EJ NUMERO 8 \n"
   ]
  },
  {
   "cell_type": "markdown",
   "metadata": {},
   "source": [
    "Un sitio de E books tiene información sobre los reviews que los usuarios hacen de sus libros en un DataFrame con formato (user_id, book_id, rating, timestamp).\n",
    "\n",
    "Por otro lado tenemos información en otro DataFrame que bajamos de GoodReads: (book_id, book_name, avg_rating). Podemos suponer que los Ids de los libros son compatibles.\n",
    "\n",
    "Se pide usar Python Pandas para:\n",
    "\n",
    "Obtener un DataFrame que indique el TOP5 de Ebooks en el sitio de Ebooks. (Para este punto se puede ignorar el segundo DataFrame).\n",
    "Obtener un DataFrame que indique qué libros tienen una diferencia de rating promedio mayor al 20% entre el sitio de Ebooks y GoodReads."
   ]
  },
  {
   "cell_type": "code",
   "execution_count": 3,
   "metadata": {},
   "outputs": [],
   "source": [
    "import pandas as pd"
   ]
  },
  {
   "cell_type": "code",
   "execution_count": 122,
   "metadata": {},
   "outputs": [
    {
     "data": {
      "text/html": [
       "<div>\n",
       "<style scoped>\n",
       "    .dataframe tbody tr th:only-of-type {\n",
       "        vertical-align: middle;\n",
       "    }\n",
       "\n",
       "    .dataframe tbody tr th {\n",
       "        vertical-align: top;\n",
       "    }\n",
       "\n",
       "    .dataframe thead th {\n",
       "        text-align: right;\n",
       "    }\n",
       "</style>\n",
       "<table border=\"1\" class=\"dataframe\">\n",
       "  <thead>\n",
       "    <tr style=\"text-align: right;\">\n",
       "      <th></th>\n",
       "      <th>user_id</th>\n",
       "      <th>book_id</th>\n",
       "      <th>rating</th>\n",
       "      <th>timestamp</th>\n",
       "    </tr>\n",
       "  </thead>\n",
       "  <tbody>\n",
       "    <tr>\n",
       "      <th>0</th>\n",
       "      <td>1</td>\n",
       "      <td>1</td>\n",
       "      <td>4</td>\n",
       "      <td>2017-05-28 23:38:05</td>\n",
       "    </tr>\n",
       "    <tr>\n",
       "      <th>1</th>\n",
       "      <td>2</td>\n",
       "      <td>2</td>\n",
       "      <td>4</td>\n",
       "      <td>2017-05-28 23:38:06</td>\n",
       "    </tr>\n",
       "    <tr>\n",
       "      <th>2</th>\n",
       "      <td>3</td>\n",
       "      <td>3</td>\n",
       "      <td>4</td>\n",
       "      <td>2017-05-28 23:38:06</td>\n",
       "    </tr>\n",
       "    <tr>\n",
       "      <th>3</th>\n",
       "      <td>4</td>\n",
       "      <td>4</td>\n",
       "      <td>4</td>\n",
       "      <td>2017-05-28 23:38:06</td>\n",
       "    </tr>\n",
       "    <tr>\n",
       "      <th>4</th>\n",
       "      <td>5</td>\n",
       "      <td>5</td>\n",
       "      <td>6</td>\n",
       "      <td>2017-05-28 23:38:07</td>\n",
       "    </tr>\n",
       "    <tr>\n",
       "      <th>5</th>\n",
       "      <td>6</td>\n",
       "      <td>5</td>\n",
       "      <td>6</td>\n",
       "      <td>2017-05-28 23:38:08</td>\n",
       "    </tr>\n",
       "    <tr>\n",
       "      <th>6</th>\n",
       "      <td>1</td>\n",
       "      <td>2</td>\n",
       "      <td>6</td>\n",
       "      <td>2017-05-29 23:38:08</td>\n",
       "    </tr>\n",
       "    <tr>\n",
       "      <th>7</th>\n",
       "      <td>1</td>\n",
       "      <td>3</td>\n",
       "      <td>4</td>\n",
       "      <td>2017-05-29 23:38:09</td>\n",
       "    </tr>\n",
       "    <tr>\n",
       "      <th>8</th>\n",
       "      <td>1</td>\n",
       "      <td>4</td>\n",
       "      <td>4</td>\n",
       "      <td>2017-05-29 23:38:10</td>\n",
       "    </tr>\n",
       "    <tr>\n",
       "      <th>9</th>\n",
       "      <td>1</td>\n",
       "      <td>5</td>\n",
       "      <td>6</td>\n",
       "      <td>2017-05-29 23:38:11</td>\n",
       "    </tr>\n",
       "    <tr>\n",
       "      <th>10</th>\n",
       "      <td>2</td>\n",
       "      <td>1</td>\n",
       "      <td>6</td>\n",
       "      <td>2017-05-29 23:38:12</td>\n",
       "    </tr>\n",
       "    <tr>\n",
       "      <th>11</th>\n",
       "      <td>2</td>\n",
       "      <td>3</td>\n",
       "      <td>6</td>\n",
       "      <td>2017-05-30 23:38:13</td>\n",
       "    </tr>\n",
       "    <tr>\n",
       "      <th>12</th>\n",
       "      <td>3</td>\n",
       "      <td>1</td>\n",
       "      <td>7</td>\n",
       "      <td>2017-05-31 23:38:15</td>\n",
       "    </tr>\n",
       "    <tr>\n",
       "      <th>13</th>\n",
       "      <td>4</td>\n",
       "      <td>1</td>\n",
       "      <td>7</td>\n",
       "      <td>2017-05-31 23:38:15</td>\n",
       "    </tr>\n",
       "    <tr>\n",
       "      <th>14</th>\n",
       "      <td>5</td>\n",
       "      <td>1</td>\n",
       "      <td>7</td>\n",
       "      <td>2017-05-31 23:38:15</td>\n",
       "    </tr>\n",
       "    <tr>\n",
       "      <th>15</th>\n",
       "      <td>5</td>\n",
       "      <td>2</td>\n",
       "      <td>8</td>\n",
       "      <td>2017-05-31 23:38:15</td>\n",
       "    </tr>\n",
       "    <tr>\n",
       "      <th>16</th>\n",
       "      <td>5</td>\n",
       "      <td>3</td>\n",
       "      <td>8</td>\n",
       "      <td>2017-05-27 23:38:00</td>\n",
       "    </tr>\n",
       "  </tbody>\n",
       "</table>\n",
       "</div>"
      ],
      "text/plain": [
       "    user_id  book_id  rating            timestamp\n",
       "0         1        1       4  2017-05-28 23:38:05\n",
       "1         2        2       4  2017-05-28 23:38:06\n",
       "2         3        3       4  2017-05-28 23:38:06\n",
       "3         4        4       4  2017-05-28 23:38:06\n",
       "4         5        5       6  2017-05-28 23:38:07\n",
       "5         6        5       6  2017-05-28 23:38:08\n",
       "6         1        2       6  2017-05-29 23:38:08\n",
       "7         1        3       4  2017-05-29 23:38:09\n",
       "8         1        4       4  2017-05-29 23:38:10\n",
       "9         1        5       6  2017-05-29 23:38:11\n",
       "10        2        1       6  2017-05-29 23:38:12\n",
       "11        2        3       6  2017-05-30 23:38:13\n",
       "12        3        1       7  2017-05-31 23:38:15\n",
       "13        4        1       7  2017-05-31 23:38:15\n",
       "14        5        1       7  2017-05-31 23:38:15\n",
       "15        5        2       8  2017-05-31 23:38:15\n",
       "16        5        3       8  2017-05-27 23:38:00"
      ]
     },
     "metadata": {},
     "output_type": "display_data"
    },
    {
     "data": {
      "text/html": [
       "<div>\n",
       "<style scoped>\n",
       "    .dataframe tbody tr th:only-of-type {\n",
       "        vertical-align: middle;\n",
       "    }\n",
       "\n",
       "    .dataframe tbody tr th {\n",
       "        vertical-align: top;\n",
       "    }\n",
       "\n",
       "    .dataframe thead th {\n",
       "        text-align: right;\n",
       "    }\n",
       "</style>\n",
       "<table border=\"1\" class=\"dataframe\">\n",
       "  <thead>\n",
       "    <tr style=\"text-align: right;\">\n",
       "      <th></th>\n",
       "      <th>book_id</th>\n",
       "      <th>book_name</th>\n",
       "      <th>avg_rating</th>\n",
       "    </tr>\n",
       "  </thead>\n",
       "  <tbody>\n",
       "    <tr>\n",
       "      <th>0</th>\n",
       "      <td>1</td>\n",
       "      <td>To Kill a MockingBird</td>\n",
       "      <td>5</td>\n",
       "    </tr>\n",
       "    <tr>\n",
       "      <th>1</th>\n",
       "      <td>2</td>\n",
       "      <td>Don Quixote</td>\n",
       "      <td>4</td>\n",
       "    </tr>\n",
       "    <tr>\n",
       "      <th>2</th>\n",
       "      <td>3</td>\n",
       "      <td>Lazarillo de Tormes</td>\n",
       "      <td>4</td>\n",
       "    </tr>\n",
       "    <tr>\n",
       "      <th>3</th>\n",
       "      <td>4</td>\n",
       "      <td>1984</td>\n",
       "      <td>5</td>\n",
       "    </tr>\n",
       "    <tr>\n",
       "      <th>4</th>\n",
       "      <td>5</td>\n",
       "      <td>Fifty Shades of Grey</td>\n",
       "      <td>1</td>\n",
       "    </tr>\n",
       "    <tr>\n",
       "      <th>5</th>\n",
       "      <td>6</td>\n",
       "      <td>Los hombres que no amaban a las mujeres</td>\n",
       "      <td>4</td>\n",
       "    </tr>\n",
       "    <tr>\n",
       "      <th>6</th>\n",
       "      <td>7</td>\n",
       "      <td>Corazon de tinta</td>\n",
       "      <td>5</td>\n",
       "    </tr>\n",
       "    <tr>\n",
       "      <th>7</th>\n",
       "      <td>8</td>\n",
       "      <td>Harry Potter</td>\n",
       "      <td>5</td>\n",
       "    </tr>\n",
       "  </tbody>\n",
       "</table>\n",
       "</div>"
      ],
      "text/plain": [
       "   book_id                                book_name  avg_rating\n",
       "0        1                    To Kill a MockingBird           5\n",
       "1        2                              Don Quixote           4\n",
       "2        3                      Lazarillo de Tormes           4\n",
       "3        4                                     1984           5\n",
       "4        5                     Fifty Shades of Grey           1\n",
       "5        6  Los hombres que no amaban a las mujeres           4\n",
       "6        7                         Corazon de tinta           5\n",
       "7        8                             Harry Potter           5"
      ]
     },
     "metadata": {},
     "output_type": "display_data"
    }
   ],
   "source": [
    "# Set-up y vista rápida de los dos datasets sintéticos\n",
    "import pandas as pd\n",
    "\n",
    "ebooks_df = pd.read_csv('/home/barbara/Documentos/datos/material_datos/ebook.csv')\n",
    "display(ebooks_df)\n",
    "\n",
    "goodreads_df = pd.read_csv('/home/barbara/Documentos/datos/material_datos/goodreads.csv')\n",
    "display(goodreads_df)"
   ]
  },
  {
   "cell_type": "code",
   "execution_count": 123,
   "metadata": {},
   "outputs": [],
   "source": [
    "def score(s):\n",
    "    return s.mean()\n",
    "\n"
   ]
  },
  {
   "cell_type": "code",
   "execution_count": 124,
   "metadata": {},
   "outputs": [
    {
     "data": {
      "text/html": [
       "<div>\n",
       "<style scoped>\n",
       "    .dataframe tbody tr th:only-of-type {\n",
       "        vertical-align: middle;\n",
       "    }\n",
       "\n",
       "    .dataframe tbody tr th {\n",
       "        vertical-align: top;\n",
       "    }\n",
       "\n",
       "    .dataframe thead th {\n",
       "        text-align: right;\n",
       "    }\n",
       "</style>\n",
       "<table border=\"1\" class=\"dataframe\">\n",
       "  <thead>\n",
       "    <tr style=\"text-align: right;\">\n",
       "      <th></th>\n",
       "      <th>rating</th>\n",
       "    </tr>\n",
       "    <tr>\n",
       "      <th>book_id</th>\n",
       "      <th></th>\n",
       "    </tr>\n",
       "  </thead>\n",
       "  <tbody>\n",
       "    <tr>\n",
       "      <th>1</th>\n",
       "      <td>6.2</td>\n",
       "    </tr>\n",
       "    <tr>\n",
       "      <th>2</th>\n",
       "      <td>6.0</td>\n",
       "    </tr>\n",
       "    <tr>\n",
       "      <th>5</th>\n",
       "      <td>6.0</td>\n",
       "    </tr>\n",
       "    <tr>\n",
       "      <th>3</th>\n",
       "      <td>5.5</td>\n",
       "    </tr>\n",
       "    <tr>\n",
       "      <th>4</th>\n",
       "      <td>4.0</td>\n",
       "    </tr>\n",
       "  </tbody>\n",
       "</table>\n",
       "</div>"
      ],
      "text/plain": [
       "         rating\n",
       "book_id        \n",
       "1           6.2\n",
       "2           6.0\n",
       "5           6.0\n",
       "3           5.5\n",
       "4           4.0"
      ]
     },
     "execution_count": 124,
     "metadata": {},
     "output_type": "execute_result"
    }
   ],
   "source": [
    "ebooks_df.groupby('book_id').agg({'rating':score}).nlargest(5, 'rating')"
   ]
  },
  {
   "cell_type": "markdown",
   "metadata": {},
   "source": [
    "B) Obtener un DataFrame que indique qué libros tienen una diferencia de rating promedio mayor al 20% entre el sitio de Ebooks y GoodReads."
   ]
  },
  {
   "cell_type": "code",
   "execution_count": 126,
   "metadata": {},
   "outputs": [
    {
     "data": {
      "text/html": [
       "<div>\n",
       "<style scoped>\n",
       "    .dataframe tbody tr th:only-of-type {\n",
       "        vertical-align: middle;\n",
       "    }\n",
       "\n",
       "    .dataframe tbody tr th {\n",
       "        vertical-align: top;\n",
       "    }\n",
       "\n",
       "    .dataframe thead th {\n",
       "        text-align: right;\n",
       "    }\n",
       "</style>\n",
       "<table border=\"1\" class=\"dataframe\">\n",
       "  <thead>\n",
       "    <tr style=\"text-align: right;\">\n",
       "      <th></th>\n",
       "      <th>rating</th>\n",
       "    </tr>\n",
       "    <tr>\n",
       "      <th>book_id</th>\n",
       "      <th></th>\n",
       "    </tr>\n",
       "  </thead>\n",
       "  <tbody>\n",
       "    <tr>\n",
       "      <th>1</th>\n",
       "      <td>6.2</td>\n",
       "    </tr>\n",
       "    <tr>\n",
       "      <th>2</th>\n",
       "      <td>6.0</td>\n",
       "    </tr>\n",
       "    <tr>\n",
       "      <th>3</th>\n",
       "      <td>5.5</td>\n",
       "    </tr>\n",
       "    <tr>\n",
       "      <th>4</th>\n",
       "      <td>4.0</td>\n",
       "    </tr>\n",
       "    <tr>\n",
       "      <th>5</th>\n",
       "      <td>6.0</td>\n",
       "    </tr>\n",
       "  </tbody>\n",
       "</table>\n",
       "</div>"
      ],
      "text/plain": [
       "         rating\n",
       "book_id        \n",
       "1           6.2\n",
       "2           6.0\n",
       "3           5.5\n",
       "4           4.0\n",
       "5           6.0"
      ]
     },
     "execution_count": 126,
     "metadata": {},
     "output_type": "execute_result"
    }
   ],
   "source": [
    "ebooks_df_mean = ebooks_df.groupby('book_id').agg({'rating':score})\n",
    "ebooks_df_mean\n"
   ]
  },
  {
   "cell_type": "code",
   "execution_count": 127,
   "metadata": {},
   "outputs": [
    {
     "data": {
      "text/html": [
       "<div>\n",
       "<style scoped>\n",
       "    .dataframe tbody tr th:only-of-type {\n",
       "        vertical-align: middle;\n",
       "    }\n",
       "\n",
       "    .dataframe tbody tr th {\n",
       "        vertical-align: top;\n",
       "    }\n",
       "\n",
       "    .dataframe thead th {\n",
       "        text-align: right;\n",
       "    }\n",
       "</style>\n",
       "<table border=\"1\" class=\"dataframe\">\n",
       "  <thead>\n",
       "    <tr style=\"text-align: right;\">\n",
       "      <th></th>\n",
       "      <th>book_id</th>\n",
       "      <th>book_name</th>\n",
       "      <th>avg_rating</th>\n",
       "      <th>rating</th>\n",
       "    </tr>\n",
       "  </thead>\n",
       "  <tbody>\n",
       "    <tr>\n",
       "      <th>0</th>\n",
       "      <td>1</td>\n",
       "      <td>To Kill a MockingBird</td>\n",
       "      <td>5</td>\n",
       "      <td>6.2</td>\n",
       "    </tr>\n",
       "    <tr>\n",
       "      <th>1</th>\n",
       "      <td>2</td>\n",
       "      <td>Don Quixote</td>\n",
       "      <td>4</td>\n",
       "      <td>6.0</td>\n",
       "    </tr>\n",
       "    <tr>\n",
       "      <th>2</th>\n",
       "      <td>3</td>\n",
       "      <td>Lazarillo de Tormes</td>\n",
       "      <td>4</td>\n",
       "      <td>5.5</td>\n",
       "    </tr>\n",
       "    <tr>\n",
       "      <th>3</th>\n",
       "      <td>4</td>\n",
       "      <td>1984</td>\n",
       "      <td>5</td>\n",
       "      <td>4.0</td>\n",
       "    </tr>\n",
       "    <tr>\n",
       "      <th>4</th>\n",
       "      <td>5</td>\n",
       "      <td>Fifty Shades of Grey</td>\n",
       "      <td>1</td>\n",
       "      <td>6.0</td>\n",
       "    </tr>\n",
       "  </tbody>\n",
       "</table>\n",
       "</div>"
      ],
      "text/plain": [
       "   book_id              book_name  avg_rating  rating\n",
       "0        1  To Kill a MockingBird           5     6.2\n",
       "1        2            Don Quixote           4     6.0\n",
       "2        3    Lazarillo de Tormes           4     5.5\n",
       "3        4                   1984           5     4.0\n",
       "4        5   Fifty Shades of Grey           1     6.0"
      ]
     },
     "execution_count": 127,
     "metadata": {},
     "output_type": "execute_result"
    }
   ],
   "source": [
    "df_total = goodreads_df.join(ebooks_df_mean, on='book_id',how='inner')\n",
    "df_total"
   ]
  },
  {
   "cell_type": "code",
   "execution_count": 130,
   "metadata": {},
   "outputs": [
    {
     "data": {
      "text/plain": [
       "['To Kill a MockingBird',\n",
       " 'Don Quixote',\n",
       " 'Lazarillo de Tormes',\n",
       " 'Fifty Shades of Grey']"
      ]
     },
     "execution_count": 130,
     "metadata": {},
     "output_type": "execute_result"
    }
   ],
   "source": [
    "df_total[(df_total.rating/df_total.avg_rating - 1.0).abs() > 0.2].book_name.tolist()"
   ]
  },
  {
   "cell_type": "markdown",
   "metadata": {},
   "source": [
    "## EJ NUMERO 9"
   ]
  },
  {
   "cell_type": "markdown",
   "metadata": {},
   "source": [
    "Tenemos un dataframe con la información de distintas playlists armadas por usuarios con el formato (playlist, song_id, description).\n",
    "\n",
    "A su vez, contamos con un dataframe de canciones que contiene (song_id, singer, year, lenght, genres). Se pide generar un programa en Pandas que indique para cada playlist cual es el cantante predominante (con mas canciones incluidas dentro de esa lista)\n",
    "\n"
   ]
  },
  {
   "cell_type": "code",
   "execution_count": 156,
   "metadata": {
    "scrolled": true
   },
   "outputs": [
    {
     "data": {
      "text/html": [
       "<div>\n",
       "<style scoped>\n",
       "    .dataframe tbody tr th:only-of-type {\n",
       "        vertical-align: middle;\n",
       "    }\n",
       "\n",
       "    .dataframe tbody tr th {\n",
       "        vertical-align: top;\n",
       "    }\n",
       "\n",
       "    .dataframe thead th {\n",
       "        text-align: right;\n",
       "    }\n",
       "</style>\n",
       "<table border=\"1\" class=\"dataframe\">\n",
       "  <thead>\n",
       "    <tr style=\"text-align: right;\">\n",
       "      <th></th>\n",
       "      <th>playlist</th>\n",
       "      <th>song_id</th>\n",
       "      <th>description</th>\n",
       "    </tr>\n",
       "  </thead>\n",
       "  <tbody>\n",
       "    <tr>\n",
       "      <th>0</th>\n",
       "      <td>Los Ochenta</td>\n",
       "      <td>1</td>\n",
       "      <td>Muy buena</td>\n",
       "    </tr>\n",
       "    <tr>\n",
       "      <th>1</th>\n",
       "      <td>Los Ochenta</td>\n",
       "      <td>2</td>\n",
       "      <td>Pesima</td>\n",
       "    </tr>\n",
       "    <tr>\n",
       "      <th>2</th>\n",
       "      <td>Los Ochenta</td>\n",
       "      <td>3</td>\n",
       "      <td>Re divertida!</td>\n",
       "    </tr>\n",
       "    <tr>\n",
       "      <th>3</th>\n",
       "      <td>Los Ochenta</td>\n",
       "      <td>4</td>\n",
       "      <td>Excelente</td>\n",
       "    </tr>\n",
       "    <tr>\n",
       "      <th>4</th>\n",
       "      <td>Los Noventa</td>\n",
       "      <td>5</td>\n",
       "      <td>Excelente</td>\n",
       "    </tr>\n",
       "    <tr>\n",
       "      <th>5</th>\n",
       "      <td>Los Noventa</td>\n",
       "      <td>6</td>\n",
       "      <td>Excelente</td>\n",
       "    </tr>\n",
       "    <tr>\n",
       "      <th>6</th>\n",
       "      <td>Los Noventa</td>\n",
       "      <td>7</td>\n",
       "      <td>Excelente</td>\n",
       "    </tr>\n",
       "    <tr>\n",
       "      <th>7</th>\n",
       "      <td>Los Noventa</td>\n",
       "      <td>8</td>\n",
       "      <td>Excelente</td>\n",
       "    </tr>\n",
       "  </tbody>\n",
       "</table>\n",
       "</div>"
      ],
      "text/plain": [
       "      playlist  song_id    description\n",
       "0  Los Ochenta        1      Muy buena\n",
       "1  Los Ochenta        2         Pesima\n",
       "2  Los Ochenta        3  Re divertida!\n",
       "3  Los Ochenta        4      Excelente\n",
       "4  Los Noventa        5      Excelente\n",
       "5  Los Noventa        6      Excelente\n",
       "6  Los Noventa        7      Excelente\n",
       "7  Los Noventa        8      Excelente"
      ]
     },
     "metadata": {},
     "output_type": "display_data"
    },
    {
     "data": {
      "text/html": [
       "<div>\n",
       "<style scoped>\n",
       "    .dataframe tbody tr th:only-of-type {\n",
       "        vertical-align: middle;\n",
       "    }\n",
       "\n",
       "    .dataframe tbody tr th {\n",
       "        vertical-align: top;\n",
       "    }\n",
       "\n",
       "    .dataframe thead th {\n",
       "        text-align: right;\n",
       "    }\n",
       "</style>\n",
       "<table border=\"1\" class=\"dataframe\">\n",
       "  <thead>\n",
       "    <tr style=\"text-align: right;\">\n",
       "      <th></th>\n",
       "      <th>song_id</th>\n",
       "      <th>singer</th>\n",
       "      <th>year</th>\n",
       "      <th>length</th>\n",
       "      <th>genres</th>\n",
       "    </tr>\n",
       "  </thead>\n",
       "  <tbody>\n",
       "    <tr>\n",
       "      <th>0</th>\n",
       "      <td>1</td>\n",
       "      <td>Firulo</td>\n",
       "      <td>1986</td>\n",
       "      <td>3m</td>\n",
       "      <td>rock</td>\n",
       "    </tr>\n",
       "    <tr>\n",
       "      <th>1</th>\n",
       "      <td>2</td>\n",
       "      <td>Firulo</td>\n",
       "      <td>1986</td>\n",
       "      <td>3m</td>\n",
       "      <td>rock</td>\n",
       "    </tr>\n",
       "    <tr>\n",
       "      <th>2</th>\n",
       "      <td>3</td>\n",
       "      <td>Pipi</td>\n",
       "      <td>1987</td>\n",
       "      <td>3m</td>\n",
       "      <td>rock</td>\n",
       "    </tr>\n",
       "    <tr>\n",
       "      <th>3</th>\n",
       "      <td>4</td>\n",
       "      <td>Kratos</td>\n",
       "      <td>1985</td>\n",
       "      <td>3m</td>\n",
       "      <td>rock</td>\n",
       "    </tr>\n",
       "    <tr>\n",
       "      <th>4</th>\n",
       "      <td>5</td>\n",
       "      <td>Pinoccio</td>\n",
       "      <td>1996</td>\n",
       "      <td>3m</td>\n",
       "      <td>rock</td>\n",
       "    </tr>\n",
       "    <tr>\n",
       "      <th>5</th>\n",
       "      <td>6</td>\n",
       "      <td>Batman</td>\n",
       "      <td>1996</td>\n",
       "      <td>3m</td>\n",
       "      <td>rock</td>\n",
       "    </tr>\n",
       "    <tr>\n",
       "      <th>6</th>\n",
       "      <td>7</td>\n",
       "      <td>Pinoccio</td>\n",
       "      <td>1997</td>\n",
       "      <td>3m</td>\n",
       "      <td>rock</td>\n",
       "    </tr>\n",
       "    <tr>\n",
       "      <th>7</th>\n",
       "      <td>8</td>\n",
       "      <td>Fast</td>\n",
       "      <td>1992</td>\n",
       "      <td>3m</td>\n",
       "      <td>rock</td>\n",
       "    </tr>\n",
       "  </tbody>\n",
       "</table>\n",
       "</div>"
      ],
      "text/plain": [
       "   song_id    singer  year length genres\n",
       "0        1    Firulo  1986     3m   rock\n",
       "1        2    Firulo  1986     3m   rock\n",
       "2        3      Pipi  1987     3m   rock\n",
       "3        4    Kratos  1985     3m   rock\n",
       "4        5  Pinoccio  1996     3m   rock\n",
       "5        6    Batman  1996     3m   rock\n",
       "6        7  Pinoccio  1997     3m   rock\n",
       "7        8      Fast  1992     3m   rock"
      ]
     },
     "metadata": {},
     "output_type": "display_data"
    }
   ],
   "source": [
    "df_playlist = pd.read_csv('/home/barbara/Documentos/datos/material_datos/playlist.csv')\n",
    "display(df_playlist)\n",
    "\n",
    "df_canciones = pd.read_csv('/home/barbara/Documentos/datos/material_datos/canciones.csv')\n",
    "display(df_canciones)\n"
   ]
  },
  {
   "cell_type": "code",
   "execution_count": 147,
   "metadata": {},
   "outputs": [],
   "source": [
    "df_playlist['cantidad']=1"
   ]
  },
  {
   "cell_type": "code",
   "execution_count": 153,
   "metadata": {},
   "outputs": [
    {
     "data": {
      "text/html": [
       "<div>\n",
       "<style scoped>\n",
       "    .dataframe tbody tr th:only-of-type {\n",
       "        vertical-align: middle;\n",
       "    }\n",
       "\n",
       "    .dataframe tbody tr th {\n",
       "        vertical-align: top;\n",
       "    }\n",
       "\n",
       "    .dataframe thead th {\n",
       "        text-align: right;\n",
       "    }\n",
       "</style>\n",
       "<table border=\"1\" class=\"dataframe\">\n",
       "  <thead>\n",
       "    <tr style=\"text-align: right;\">\n",
       "      <th></th>\n",
       "      <th>playlist</th>\n",
       "      <th>singer</th>\n",
       "      <th>cantidad</th>\n",
       "    </tr>\n",
       "  </thead>\n",
       "  <tbody>\n",
       "    <tr>\n",
       "      <th>0</th>\n",
       "      <td>Los Noventa</td>\n",
       "      <td>Batman</td>\n",
       "      <td>1</td>\n",
       "    </tr>\n",
       "    <tr>\n",
       "      <th>1</th>\n",
       "      <td>Los Noventa</td>\n",
       "      <td>Fast</td>\n",
       "      <td>1</td>\n",
       "    </tr>\n",
       "    <tr>\n",
       "      <th>2</th>\n",
       "      <td>Los Noventa</td>\n",
       "      <td>Pinoccio</td>\n",
       "      <td>2</td>\n",
       "    </tr>\n",
       "    <tr>\n",
       "      <th>3</th>\n",
       "      <td>Los Ochenta</td>\n",
       "      <td>Firulo</td>\n",
       "      <td>2</td>\n",
       "    </tr>\n",
       "    <tr>\n",
       "      <th>4</th>\n",
       "      <td>Los Ochenta</td>\n",
       "      <td>Kratos</td>\n",
       "      <td>1</td>\n",
       "    </tr>\n",
       "    <tr>\n",
       "      <th>5</th>\n",
       "      <td>Los Ochenta</td>\n",
       "      <td>Pipi</td>\n",
       "      <td>1</td>\n",
       "    </tr>\n",
       "  </tbody>\n",
       "</table>\n",
       "</div>"
      ],
      "text/plain": [
       "      playlist    singer  cantidad\n",
       "0  Los Noventa    Batman         1\n",
       "1  Los Noventa      Fast         1\n",
       "2  Los Noventa  Pinoccio         2\n",
       "3  Los Ochenta    Firulo         2\n",
       "4  Los Ochenta    Kratos         1\n",
       "5  Los Ochenta      Pipi         1"
      ]
     },
     "execution_count": 153,
     "metadata": {},
     "output_type": "execute_result"
    }
   ],
   "source": [
    "ff=df_playlist.merge(df_canciones, how='inner').groupby(['playlist','singer']).agg({'cantidad':'sum'}).reset_index()\n",
    "ff"
   ]
  },
  {
   "cell_type": "code",
   "execution_count": 155,
   "metadata": {},
   "outputs": [
    {
     "data": {
      "text/html": [
       "<div>\n",
       "<style scoped>\n",
       "    .dataframe tbody tr th:only-of-type {\n",
       "        vertical-align: middle;\n",
       "    }\n",
       "\n",
       "    .dataframe tbody tr th {\n",
       "        vertical-align: top;\n",
       "    }\n",
       "\n",
       "    .dataframe thead th {\n",
       "        text-align: right;\n",
       "    }\n",
       "</style>\n",
       "<table border=\"1\" class=\"dataframe\">\n",
       "  <thead>\n",
       "    <tr style=\"text-align: right;\">\n",
       "      <th></th>\n",
       "      <th>singer</th>\n",
       "      <th>cantidad</th>\n",
       "    </tr>\n",
       "    <tr>\n",
       "      <th>playlist</th>\n",
       "      <th></th>\n",
       "      <th></th>\n",
       "    </tr>\n",
       "  </thead>\n",
       "  <tbody>\n",
       "    <tr>\n",
       "      <th>Los Noventa</th>\n",
       "      <td>Pinoccio</td>\n",
       "      <td>2</td>\n",
       "    </tr>\n",
       "    <tr>\n",
       "      <th>Los Ochenta</th>\n",
       "      <td>Pipi</td>\n",
       "      <td>2</td>\n",
       "    </tr>\n",
       "  </tbody>\n",
       "</table>\n",
       "</div>"
      ],
      "text/plain": [
       "               singer  cantidad\n",
       "playlist                       \n",
       "Los Noventa  Pinoccio         2\n",
       "Los Ochenta      Pipi         2"
      ]
     },
     "execution_count": 155,
     "metadata": {},
     "output_type": "execute_result"
    }
   ],
   "source": [
    "ff.groupby('playlist').max()"
   ]
  },
  {
   "cell_type": "code",
   "execution_count": null,
   "metadata": {},
   "outputs": [],
   "source": [
    "#Ahora de la manera que encontré en la web."
   ]
  },
  {
   "cell_type": "code",
   "execution_count": 157,
   "metadata": {},
   "outputs": [
    {
     "data": {
      "text/plain": [
       "playlist\n",
       "Los Noventa    Pinoccio\n",
       "Los Ochenta      Firulo\n",
       "Name: singer, dtype: object"
      ]
     },
     "execution_count": 157,
     "metadata": {},
     "output_type": "execute_result"
    }
   ],
   "source": [
    "df_playlist.merge(df_canciones, how='left').groupby('playlist')['singer'].agg(lambda x:x.mode())"
   ]
  },
  {
   "cell_type": "markdown",
   "metadata": {},
   "source": [
    "## EJERCICIO NUMERO 10"
   ]
  },
  {
   "cell_type": "markdown",
   "metadata": {},
   "source": [
    "La Agencia Nacional de Estadísticas de Buenos Aires recolecta información de nacimientos cuando los padres registran a sus hijos en el registro civil a partir de una encuesta.\n",
    "\n",
    "Esa información se encuentra disponible para su análisis en un csv con el siguiente formato (dia_nacimiento, mes_nacimiento, anio_nacimiento, peso_al_nacer, longitud_al_nacer, id_hospital, tipo_parto), donde el tipo de parto 1 es natural y 2 es cesárea.\n",
    "\n",
    "Por otro lado la agencia cuenta con información histórica de los hospitales en otro csv con siguiente formato (id_hospital, dirección, promedio_nacimientos_mensual).\n",
    "\n",
    "Se pide usar Pandas para:\n",
    "\n",
    "Calcular la cantidad de nacimientos para cada uno de los hospitales para el mes de Octubre de 2017 e indicar aquellos hospitales que superan el promedio de nacimientos mensuales.\n",
    "\n",
    "Comparando el mes de Octubre de 2017 indicar programáticamente si se incremento el % de cesáreas con respecto a ese mes del año 2016."
   ]
  },
  {
   "cell_type": "code",
   "execution_count": 56,
   "metadata": {},
   "outputs": [],
   "source": [
    "registro  =  [('01', '02', '2001', 5.1, 54, 34, 2),\n",
    "         ('02', '02', '2001', 5.2, 54, 35, 2),\n",
    "         ('03', '03', '2001', 5.3, 54, 34, 2),\n",
    "         ('04', '04', '2001', 5.4, 54, 36, 2),\n",
    "         ('21', '10', '2016', 3.4, 54, 34, 2),\n",
    "         ('22', '10', '2016', 5.4, 54, 34, 1),\n",
    "         ('05', '10', '2016', 5.4, 54, 34, 1),\n",
    "         ('01', '10', '2016', 1.4, 54, 31, 2),\n",
    "         ('06', '10', '2016', 5.4, 54, 32, 1),\n",
    "         ('05', '10', '2017', 4.4, 54, 34, 2),\n",
    "         ('15', '10', '2017', 3.4, 54, 31, 2),\n",
    "         ('16', '10', '2017', 5.8, 54, 31, 1),\n",
    "         ('13', '10', '2017', 5.9, 54, 34, 2),\n",
    "         ('18', '10', '2017', 5.4, 54, 23, 1),\n",
    "         ('21', '10', '2017', 4.4, 54, 23, 2),\n",
    "         ('01', '10', '2017', 5.4, 54, 34, 2)]\n",
    "\n",
    "hospitales = [(23, 3.4),\n",
    "       (31, 1.3),\n",
    "       (32, 0.3),\n",
    "       (34, 2.3),\n",
    "       (35, 10.3),\n",
    "       (36, 5.7)]\n",
    "\n",
    "registro = pd.DataFrame(registro, columns=[\"dia\", \"mes\", \"anio\", \"peso\", \"altura\", \"hospital\", \"tipo\"])\n",
    "hospitales = pd.DataFrame(hospitales, columns=[\"hospital\", \"promedio\"])"
   ]
  },
  {
   "cell_type": "code",
   "execution_count": 33,
   "metadata": {},
   "outputs": [],
   "source": [
    "registro['Oct2017']=(registro['mes']=='10')&(registro['anio']=='2017')"
   ]
  },
  {
   "cell_type": "code",
   "execution_count": 5,
   "metadata": {},
   "outputs": [
    {
     "data": {
      "text/html": [
       "<div>\n",
       "<style scoped>\n",
       "    .dataframe tbody tr th:only-of-type {\n",
       "        vertical-align: middle;\n",
       "    }\n",
       "\n",
       "    .dataframe tbody tr th {\n",
       "        vertical-align: top;\n",
       "    }\n",
       "\n",
       "    .dataframe thead th {\n",
       "        text-align: right;\n",
       "    }\n",
       "</style>\n",
       "<table border=\"1\" class=\"dataframe\">\n",
       "  <thead>\n",
       "    <tr style=\"text-align: right;\">\n",
       "      <th></th>\n",
       "      <th>hospital</th>\n",
       "    </tr>\n",
       "  </thead>\n",
       "  <tbody>\n",
       "    <tr>\n",
       "      <th>9</th>\n",
       "      <td>34</td>\n",
       "    </tr>\n",
       "    <tr>\n",
       "      <th>10</th>\n",
       "      <td>31</td>\n",
       "    </tr>\n",
       "    <tr>\n",
       "      <th>11</th>\n",
       "      <td>31</td>\n",
       "    </tr>\n",
       "    <tr>\n",
       "      <th>12</th>\n",
       "      <td>34</td>\n",
       "    </tr>\n",
       "    <tr>\n",
       "      <th>13</th>\n",
       "      <td>23</td>\n",
       "    </tr>\n",
       "    <tr>\n",
       "      <th>14</th>\n",
       "      <td>23</td>\n",
       "    </tr>\n",
       "    <tr>\n",
       "      <th>15</th>\n",
       "      <td>34</td>\n",
       "    </tr>\n",
       "  </tbody>\n",
       "</table>\n",
       "</div>"
      ],
      "text/plain": [
       "    hospital\n",
       "9         34\n",
       "10        31\n",
       "11        31\n",
       "12        34\n",
       "13        23\n",
       "14        23\n",
       "15        34"
      ]
     },
     "execution_count": 5,
     "metadata": {},
     "output_type": "execute_result"
    }
   ],
   "source": [
    "registro=registro.loc[(registro['Oct2017']==True),['hospital']]\n",
    "registro"
   ]
  },
  {
   "cell_type": "code",
   "execution_count": 6,
   "metadata": {},
   "outputs": [
    {
     "data": {
      "text/html": [
       "<div>\n",
       "<style scoped>\n",
       "    .dataframe tbody tr th:only-of-type {\n",
       "        vertical-align: middle;\n",
       "    }\n",
       "\n",
       "    .dataframe tbody tr th {\n",
       "        vertical-align: top;\n",
       "    }\n",
       "\n",
       "    .dataframe thead th {\n",
       "        text-align: right;\n",
       "    }\n",
       "</style>\n",
       "<table border=\"1\" class=\"dataframe\">\n",
       "  <thead>\n",
       "    <tr style=\"text-align: right;\">\n",
       "      <th></th>\n",
       "      <th>hospital</th>\n",
       "      <th>promedio</th>\n",
       "    </tr>\n",
       "  </thead>\n",
       "  <tbody>\n",
       "    <tr>\n",
       "      <th>0</th>\n",
       "      <td>34</td>\n",
       "      <td>2.3</td>\n",
       "    </tr>\n",
       "    <tr>\n",
       "      <th>1</th>\n",
       "      <td>34</td>\n",
       "      <td>2.3</td>\n",
       "    </tr>\n",
       "    <tr>\n",
       "      <th>2</th>\n",
       "      <td>34</td>\n",
       "      <td>2.3</td>\n",
       "    </tr>\n",
       "    <tr>\n",
       "      <th>3</th>\n",
       "      <td>31</td>\n",
       "      <td>1.3</td>\n",
       "    </tr>\n",
       "    <tr>\n",
       "      <th>4</th>\n",
       "      <td>31</td>\n",
       "      <td>1.3</td>\n",
       "    </tr>\n",
       "    <tr>\n",
       "      <th>5</th>\n",
       "      <td>23</td>\n",
       "      <td>3.4</td>\n",
       "    </tr>\n",
       "    <tr>\n",
       "      <th>6</th>\n",
       "      <td>23</td>\n",
       "      <td>3.4</td>\n",
       "    </tr>\n",
       "  </tbody>\n",
       "</table>\n",
       "</div>"
      ],
      "text/plain": [
       "   hospital  promedio\n",
       "0        34       2.3\n",
       "1        34       2.3\n",
       "2        34       2.3\n",
       "3        31       1.3\n",
       "4        31       1.3\n",
       "5        23       3.4\n",
       "6        23       3.4"
      ]
     },
     "execution_count": 6,
     "metadata": {},
     "output_type": "execute_result"
    }
   ],
   "source": [
    "merge=registro.merge(hospitales,left_on=\"hospital\",right_on= \"hospital\",how='inner')\n",
    "merge"
   ]
  },
  {
   "cell_type": "code",
   "execution_count": 7,
   "metadata": {},
   "outputs": [],
   "source": [
    "merge['cantNacimientos']=1"
   ]
  },
  {
   "cell_type": "code",
   "execution_count": 8,
   "metadata": {},
   "outputs": [],
   "source": [
    "merge=merge.groupby('hospital').agg({'promedio':'first','cantNacimientos':'sum'}).reset_index()"
   ]
  },
  {
   "cell_type": "code",
   "execution_count": 14,
   "metadata": {},
   "outputs": [
    {
     "data": {
      "text/plain": [
       "1    31\n",
       "2    34\n",
       "Name: hospital, dtype: int64"
      ]
     },
     "execution_count": 14,
     "metadata": {},
     "output_type": "execute_result"
    }
   ],
   "source": [
    "merge.loc[(merge['promedio']<merge['cantNacimientos']),('hospital')]"
   ]
  },
  {
   "cell_type": "markdown",
   "metadata": {},
   "source": [
    "Comparando el mes de Octubre de 2017 indicar programáticamente si se incremento el % de cesáreas con respecto a ese mes del año 2016."
   ]
  },
  {
   "cell_type": "code",
   "execution_count": null,
   "metadata": {},
   "outputs": [],
   "source": [
    "#COmo lo encontré en la web"
   ]
  },
  {
   "cell_type": "code",
   "execution_count": 60,
   "metadata": {},
   "outputs": [
    {
     "data": {
      "text/plain": [
       "anio\n",
       "2016    0.400000\n",
       "2017    0.714286\n",
       "Name: tipo, dtype: float64"
      ]
     },
     "execution_count": 60,
     "metadata": {},
     "output_type": "execute_result"
    }
   ],
   "source": [
    "octubre = registro[registro['mes'] == '10']\n",
    "porc_cesarea = octubre.groupby('anio').tipo.agg(lambda x: (x==2).mean())\n",
    "\n",
    "porc_cesarea"
   ]
  },
  {
   "cell_type": "code",
   "execution_count": 62,
   "metadata": {},
   "outputs": [
    {
     "name": "stdout",
     "output_type": "stream",
     "text": [
      "Se incrementó el % de cesáreas\n"
     ]
    }
   ],
   "source": [
    "\n",
    "if porc_cesarea['2017'] > porc_cesarea['2016']: \n",
    "    print(\"Se incrementó el % de cesáreas\")\n",
    "else: \n",
    "    print(\"No se incrementó el % de cesáreas\")"
   ]
  },
  {
   "cell_type": "code",
   "execution_count": null,
   "metadata": {},
   "outputs": [],
   "source": [
    "#Otra forma"
   ]
  },
  {
   "cell_type": "code",
   "execution_count": 65,
   "metadata": {},
   "outputs": [
    {
     "data": {
      "text/html": [
       "<div>\n",
       "<style scoped>\n",
       "    .dataframe tbody tr th:only-of-type {\n",
       "        vertical-align: middle;\n",
       "    }\n",
       "\n",
       "    .dataframe tbody tr th {\n",
       "        vertical-align: top;\n",
       "    }\n",
       "\n",
       "    .dataframe thead th {\n",
       "        text-align: right;\n",
       "    }\n",
       "</style>\n",
       "<table border=\"1\" class=\"dataframe\">\n",
       "  <thead>\n",
       "    <tr style=\"text-align: right;\">\n",
       "      <th></th>\n",
       "      <th>con_cesarea</th>\n",
       "    </tr>\n",
       "    <tr>\n",
       "      <th>anio</th>\n",
       "      <th></th>\n",
       "    </tr>\n",
       "  </thead>\n",
       "  <tbody>\n",
       "    <tr>\n",
       "      <th>2016</th>\n",
       "      <td>0.400000</td>\n",
       "    </tr>\n",
       "    <tr>\n",
       "      <th>2017</th>\n",
       "      <td>0.714286</td>\n",
       "    </tr>\n",
       "  </tbody>\n",
       "</table>\n",
       "</div>"
      ],
      "text/plain": [
       "      con_cesarea\n",
       "anio             \n",
       "2016     0.400000\n",
       "2017     0.714286"
      ]
     },
     "execution_count": 65,
     "metadata": {},
     "output_type": "execute_result"
    }
   ],
   "source": [
    "registro['con_cesarea'] = registro['tipo'] == 2\n",
    "merged_a = registro.loc[(registro['mes']=='10') & ((registro['anio'] == '2016') | (registro['anio'] == '2017')), ['con_cesarea', 'anio']].groupby('anio').mean()\n",
    "merged_a\n"
   ]
  },
  {
   "cell_type": "code",
   "execution_count": 68,
   "metadata": {},
   "outputs": [
    {
     "data": {
      "text/plain": [
       "True"
      ]
     },
     "execution_count": 68,
     "metadata": {},
     "output_type": "execute_result"
    }
   ],
   "source": [
    "merged_a['con_cesarea'][1] > merged_a['con_cesarea'][0]"
   ]
  },
  {
   "cell_type": "markdown",
   "metadata": {},
   "source": [
    "## EJERCICIO NUMERO 11"
   ]
  },
  {
   "cell_type": "markdown",
   "metadata": {},
   "source": [
    "El GCPD (Gotham City Police Dept) recolecta la información de casos policiales que acontecen en Ciudad Gótica. Esta información se encuentra guardada en un dataframe con el siguiente formato: (fecha, id_caso, descripcion, estado_caso, categoria, latitud, longitud).\n",
    "\n",
    "Los posibles estados que puede tener un caso son 1: caso abierto, 2: caso resuelto, 3: cerrado sin resolución.\n",
    "\n",
    "Las fechas se encuentran en el formato YYYY-MM-DD. Por otro lado el comisionado Gordon guarda un registro detallado sobre en cuáles casos fue activada la batiseñal para pedir ayuda del vigilante, Batman. Esta información se encuentra en un Dataframe con el siguiente formato (id_caso, respuesta), siendo campo respuesta si la señal tuvo una respu esta positiva (1) o negativa (0) de parte de él.\n",
    "\n",
    "El sector encargado de las estadísticas oficiales del GCPD quiere con esta información analizar las siguientes situaciones:\n",
    "\n",
    "a) Tasa de resolución de casos de la fuerza policial por categoría de caso (considerando aquellos casos en los que no participó Batman).\n",
    "\n",
    "b) Tasa de resolución de casos con la ayuda de Batman (considerando que aquellos casos en los que fue llamado con la batiseñal, participó en la resolución).\n",
    "\n",
    "c) Indicar el mes del año pasado en el que Batman tuvo mayor participación en la investigación de casos.\n",
    "\n"
   ]
  },
  {
   "cell_type": "code",
   "execution_count": 119,
   "metadata": {},
   "outputs": [
    {
     "data": {
      "text/html": [
       "<div>\n",
       "<style scoped>\n",
       "    .dataframe tbody tr th:only-of-type {\n",
       "        vertical-align: middle;\n",
       "    }\n",
       "\n",
       "    .dataframe tbody tr th {\n",
       "        vertical-align: top;\n",
       "    }\n",
       "\n",
       "    .dataframe thead th {\n",
       "        text-align: right;\n",
       "    }\n",
       "</style>\n",
       "<table border=\"1\" class=\"dataframe\">\n",
       "  <thead>\n",
       "    <tr style=\"text-align: right;\">\n",
       "      <th></th>\n",
       "      <th>fecha</th>\n",
       "      <th>id_caso</th>\n",
       "      <th>descripcion</th>\n",
       "      <th>estado_caso</th>\n",
       "      <th>categoria</th>\n",
       "      <th>latitud</th>\n",
       "      <th>longitud</th>\n",
       "    </tr>\n",
       "  </thead>\n",
       "  <tbody>\n",
       "    <tr>\n",
       "      <th>0</th>\n",
       "      <td>2016-05-03</td>\n",
       "      <td>1</td>\n",
       "      <td>Mataron a uno</td>\n",
       "      <td>1</td>\n",
       "      <td>Arseny</td>\n",
       "      <td>100</td>\n",
       "      <td>100</td>\n",
       "    </tr>\n",
       "    <tr>\n",
       "      <th>1</th>\n",
       "      <td>2016-05-03</td>\n",
       "      <td>2</td>\n",
       "      <td>Mataron al Guason!!</td>\n",
       "      <td>2</td>\n",
       "      <td>Robo</td>\n",
       "      <td>100</td>\n",
       "      <td>100</td>\n",
       "    </tr>\n",
       "    <tr>\n",
       "      <th>2</th>\n",
       "      <td>2017-07-03</td>\n",
       "      <td>3</td>\n",
       "      <td>Incendio</td>\n",
       "      <td>1</td>\n",
       "      <td>Robo</td>\n",
       "      <td>100</td>\n",
       "      <td>100</td>\n",
       "    </tr>\n",
       "    <tr>\n",
       "      <th>3</th>\n",
       "      <td>2017-07-03</td>\n",
       "      <td>4</td>\n",
       "      <td>Robaron un banco</td>\n",
       "      <td>3</td>\n",
       "      <td>Incendio</td>\n",
       "      <td>100</td>\n",
       "      <td>100</td>\n",
       "    </tr>\n",
       "    <tr>\n",
       "      <th>4</th>\n",
       "      <td>2017-08-03</td>\n",
       "      <td>5</td>\n",
       "      <td>Mataron a uno</td>\n",
       "      <td>2</td>\n",
       "      <td>Incendio</td>\n",
       "      <td>100</td>\n",
       "      <td>100</td>\n",
       "    </tr>\n",
       "    <tr>\n",
       "      <th>5</th>\n",
       "      <td>2017-08-03</td>\n",
       "      <td>6</td>\n",
       "      <td>Mataron a uno</td>\n",
       "      <td>1</td>\n",
       "      <td>Arseny</td>\n",
       "      <td>100</td>\n",
       "      <td>100</td>\n",
       "    </tr>\n",
       "    <tr>\n",
       "      <th>6</th>\n",
       "      <td>2017-10-03</td>\n",
       "      <td>7</td>\n",
       "      <td>Mataron a uno</td>\n",
       "      <td>2</td>\n",
       "      <td>Robo</td>\n",
       "      <td>100</td>\n",
       "      <td>100</td>\n",
       "    </tr>\n",
       "    <tr>\n",
       "      <th>7</th>\n",
       "      <td>2017-10-03</td>\n",
       "      <td>8</td>\n",
       "      <td>Mataron a uno</td>\n",
       "      <td>3</td>\n",
       "      <td>Incendio</td>\n",
       "      <td>100</td>\n",
       "      <td>100</td>\n",
       "    </tr>\n",
       "    <tr>\n",
       "      <th>8</th>\n",
       "      <td>2017-11-03</td>\n",
       "      <td>9</td>\n",
       "      <td>Mataron a uno</td>\n",
       "      <td>2</td>\n",
       "      <td>Arseny</td>\n",
       "      <td>100</td>\n",
       "      <td>100</td>\n",
       "    </tr>\n",
       "    <tr>\n",
       "      <th>9</th>\n",
       "      <td>2017-12-03</td>\n",
       "      <td>10</td>\n",
       "      <td>Mataron a uno</td>\n",
       "      <td>1</td>\n",
       "      <td>Robo</td>\n",
       "      <td>100</td>\n",
       "      <td>10</td>\n",
       "    </tr>\n",
       "  </tbody>\n",
       "</table>\n",
       "</div>"
      ],
      "text/plain": [
       "        fecha  id_caso          descripcion  estado_caso categoria  latitud  \\\n",
       "0  2016-05-03        1        Mataron a uno            1    Arseny      100   \n",
       "1  2016-05-03        2  Mataron al Guason!!            2      Robo      100   \n",
       "2  2017-07-03        3             Incendio            1      Robo      100   \n",
       "3  2017-07-03        4     Robaron un banco            3  Incendio      100   \n",
       "4  2017-08-03        5        Mataron a uno            2  Incendio      100   \n",
       "5  2017-08-03        6        Mataron a uno            1    Arseny      100   \n",
       "6  2017-10-03        7        Mataron a uno            2      Robo      100   \n",
       "7  2017-10-03        8        Mataron a uno            3  Incendio      100   \n",
       "8  2017-11-03        9        Mataron a uno            2    Arseny      100   \n",
       "9  2017-12-03       10        Mataron a uno            1      Robo      100   \n",
       "\n",
       "   longitud  \n",
       "0       100  \n",
       "1       100  \n",
       "2       100  \n",
       "3       100  \n",
       "4       100  \n",
       "5       100  \n",
       "6       100  \n",
       "7       100  \n",
       "8       100  \n",
       "9        10  "
      ]
     },
     "metadata": {},
     "output_type": "display_data"
    },
    {
     "data": {
      "text/html": [
       "<div>\n",
       "<style scoped>\n",
       "    .dataframe tbody tr th:only-of-type {\n",
       "        vertical-align: middle;\n",
       "    }\n",
       "\n",
       "    .dataframe tbody tr th {\n",
       "        vertical-align: top;\n",
       "    }\n",
       "\n",
       "    .dataframe thead th {\n",
       "        text-align: right;\n",
       "    }\n",
       "</style>\n",
       "<table border=\"1\" class=\"dataframe\">\n",
       "  <thead>\n",
       "    <tr style=\"text-align: right;\">\n",
       "      <th></th>\n",
       "      <th>id_caso</th>\n",
       "      <th>respuesta</th>\n",
       "    </tr>\n",
       "  </thead>\n",
       "  <tbody>\n",
       "    <tr>\n",
       "      <th>0</th>\n",
       "      <td>1</td>\n",
       "      <td>1</td>\n",
       "    </tr>\n",
       "    <tr>\n",
       "      <th>1</th>\n",
       "      <td>2</td>\n",
       "      <td>0</td>\n",
       "    </tr>\n",
       "    <tr>\n",
       "      <th>2</th>\n",
       "      <td>3</td>\n",
       "      <td>0</td>\n",
       "    </tr>\n",
       "    <tr>\n",
       "      <th>3</th>\n",
       "      <td>4</td>\n",
       "      <td>0</td>\n",
       "    </tr>\n",
       "    <tr>\n",
       "      <th>4</th>\n",
       "      <td>5</td>\n",
       "      <td>1</td>\n",
       "    </tr>\n",
       "    <tr>\n",
       "      <th>5</th>\n",
       "      <td>6</td>\n",
       "      <td>0</td>\n",
       "    </tr>\n",
       "    <tr>\n",
       "      <th>6</th>\n",
       "      <td>7</td>\n",
       "      <td>1</td>\n",
       "    </tr>\n",
       "    <tr>\n",
       "      <th>7</th>\n",
       "      <td>8</td>\n",
       "      <td>0</td>\n",
       "    </tr>\n",
       "    <tr>\n",
       "      <th>8</th>\n",
       "      <td>9</td>\n",
       "      <td>1</td>\n",
       "    </tr>\n",
       "    <tr>\n",
       "      <th>9</th>\n",
       "      <td>10</td>\n",
       "      <td>0</td>\n",
       "    </tr>\n",
       "  </tbody>\n",
       "</table>\n",
       "</div>"
      ],
      "text/plain": [
       "   id_caso  respuesta\n",
       "0        1          1\n",
       "1        2          0\n",
       "2        3          0\n",
       "3        4          0\n",
       "4        5          1\n",
       "5        6          0\n",
       "6        7          1\n",
       "7        8          0\n",
       "8        9          1\n",
       "9       10          0"
      ]
     },
     "metadata": {},
     "output_type": "display_data"
    }
   ],
   "source": [
    "CASO_ABIERTO = 1\n",
    "CASO_RESUELTO = 2\n",
    "CASO_CERRADO = 3\n",
    "\n",
    "BATMAN_NO_PARTICIPA = 0\n",
    "BATMAN_PARTICIPA = 1\n",
    "\n",
    "df_gcpd = pd.read_csv('/home/barbara/Documentos/datos/material_datos/GCPD.csv')\n",
    "display(df_gcpd)\n",
    "\n",
    "df_gordon = pd.read_csv('/home/barbara/Documentos/datos/material_datos/gordon.csv')\n",
    "display(df_gordon)"
   ]
  },
  {
   "cell_type": "markdown",
   "metadata": {},
   "source": [
    "a) Tasa de resolución de casos de la fuerza policial por categoría de caso (considerando TODOS los casos)"
   ]
  },
  {
   "cell_type": "code",
   "execution_count": 98,
   "metadata": {},
   "outputs": [
    {
     "data": {
      "text/plain": [
       "categoria\n",
       "Arseny      0.333333\n",
       "Incendio    0.333333\n",
       "Robo        0.500000\n",
       "Name: tasa de resolución, dtype: float64"
      ]
     },
     "execution_count": 98,
     "metadata": {},
     "output_type": "execute_result"
    }
   ],
   "source": [
    "df_gcpd.groupby(['categoria'])['estado_caso'].agg(lambda x: (x == CASO_RESUELTO).mean()).rename('tasa de resolución')"
   ]
  },
  {
   "cell_type": "code",
   "execution_count": null,
   "metadata": {},
   "outputs": [],
   "source": [
    "Ahora considero los que NO participo batman"
   ]
  },
  {
   "cell_type": "markdown",
   "metadata": {},
   "source": [
    "a) Tasa de resolución de casos de la fuerza policial por categoría de caso (considerando aquellos casos en los que no participó Batman)."
   ]
  },
  {
   "cell_type": "code",
   "execution_count": 109,
   "metadata": {},
   "outputs": [],
   "source": [
    "nuevo_gordon=df_gordon.loc[df_gordon['respuesta'] == 0,:]"
   ]
  },
  {
   "cell_type": "code",
   "execution_count": 110,
   "metadata": {},
   "outputs": [],
   "source": [
    "total=df_gcpd.merge(nuevo_gordon,left_on='id_caso',right_on='id_caso',how='inner')"
   ]
  },
  {
   "cell_type": "code",
   "execution_count": 111,
   "metadata": {},
   "outputs": [
    {
     "data": {
      "text/plain": [
       "categoria\n",
       "Arseny      0.000000\n",
       "Incendio    0.000000\n",
       "Robo        0.333333\n",
       "Name: estado_caso, dtype: float64"
      ]
     },
     "execution_count": 111,
     "metadata": {},
     "output_type": "execute_result"
    }
   ],
   "source": [
    "total.groupby('categoria')['estado_caso'].agg(lambda x: (x==2).mean())"
   ]
  },
  {
   "cell_type": "markdown",
   "metadata": {},
   "source": [
    "b) Tasa de resolución de casos con la ayuda de Batman (considerando que aquellos casos en los que fue llamado con la batiseñal, participó en la resolución)."
   ]
  },
  {
   "cell_type": "code",
   "execution_count": 112,
   "metadata": {},
   "outputs": [],
   "source": [
    "nuevo_gordon=df_gordon.loc[df_gordon['respuesta'] == 1,:]"
   ]
  },
  {
   "cell_type": "code",
   "execution_count": 113,
   "metadata": {},
   "outputs": [],
   "source": [
    "total=df_gcpd.merge(nuevo_gordon,left_on='id_caso',right_on='id_caso',how='inner')"
   ]
  },
  {
   "cell_type": "code",
   "execution_count": 150,
   "metadata": {},
   "outputs": [
    {
     "data": {
      "text/plain": [
       "0.75"
      ]
     },
     "execution_count": 150,
     "metadata": {},
     "output_type": "execute_result"
    }
   ],
   "source": [
    "total.estado_caso.agg(lambda x: (x==CASO_RESUELTO).mean())"
   ]
  },
  {
   "cell_type": "code",
   "execution_count": 148,
   "metadata": {},
   "outputs": [
    {
     "data": {
      "text/plain": [
       "0.75"
      ]
     },
     "execution_count": 148,
     "metadata": {},
     "output_type": "execute_result"
    }
   ],
   "source": [
    "total.estado_caso.apply(lambda x: x==CASO_RESUELTO).mean()"
   ]
  },
  {
   "cell_type": "markdown",
   "metadata": {},
   "source": [
    "c) Indicar el mes del año pasado en el que Batman tuvo mayor participación en la investigación de casos.\n"
   ]
  },
  {
   "cell_type": "code",
   "execution_count": 126,
   "metadata": {},
   "outputs": [],
   "source": [
    "df_pasado=df_gcpd.loc[(df_gcpd['fecha'] >=  \"2017-01-01\") & (df_gcpd['fecha'] <=  \"2018-01-01\") ,:]"
   ]
  },
  {
   "cell_type": "code",
   "execution_count": 134,
   "metadata": {},
   "outputs": [
    {
     "data": {
      "text/html": [
       "<div>\n",
       "<style scoped>\n",
       "    .dataframe tbody tr th:only-of-type {\n",
       "        vertical-align: middle;\n",
       "    }\n",
       "\n",
       "    .dataframe tbody tr th {\n",
       "        vertical-align: top;\n",
       "    }\n",
       "\n",
       "    .dataframe thead th {\n",
       "        text-align: right;\n",
       "    }\n",
       "</style>\n",
       "<table border=\"1\" class=\"dataframe\">\n",
       "  <thead>\n",
       "    <tr style=\"text-align: right;\">\n",
       "      <th></th>\n",
       "      <th>fecha</th>\n",
       "      <th>id_caso</th>\n",
       "      <th>descripcion</th>\n",
       "      <th>estado_caso</th>\n",
       "      <th>categoria</th>\n",
       "      <th>latitud</th>\n",
       "      <th>longitud</th>\n",
       "      <th>respuesta</th>\n",
       "    </tr>\n",
       "  </thead>\n",
       "  <tbody>\n",
       "    <tr>\n",
       "      <th>0</th>\n",
       "      <td>2017-07-03</td>\n",
       "      <td>3</td>\n",
       "      <td>Incendio</td>\n",
       "      <td>1</td>\n",
       "      <td>Robo</td>\n",
       "      <td>100</td>\n",
       "      <td>100</td>\n",
       "      <td>0</td>\n",
       "    </tr>\n",
       "    <tr>\n",
       "      <th>1</th>\n",
       "      <td>2017-07-03</td>\n",
       "      <td>4</td>\n",
       "      <td>Robaron un banco</td>\n",
       "      <td>3</td>\n",
       "      <td>Incendio</td>\n",
       "      <td>100</td>\n",
       "      <td>100</td>\n",
       "      <td>0</td>\n",
       "    </tr>\n",
       "    <tr>\n",
       "      <th>2</th>\n",
       "      <td>2017-08-03</td>\n",
       "      <td>5</td>\n",
       "      <td>Mataron a uno</td>\n",
       "      <td>2</td>\n",
       "      <td>Incendio</td>\n",
       "      <td>100</td>\n",
       "      <td>100</td>\n",
       "      <td>1</td>\n",
       "    </tr>\n",
       "    <tr>\n",
       "      <th>3</th>\n",
       "      <td>2017-08-03</td>\n",
       "      <td>6</td>\n",
       "      <td>Mataron a uno</td>\n",
       "      <td>1</td>\n",
       "      <td>Arseny</td>\n",
       "      <td>100</td>\n",
       "      <td>100</td>\n",
       "      <td>0</td>\n",
       "    </tr>\n",
       "    <tr>\n",
       "      <th>4</th>\n",
       "      <td>2017-10-03</td>\n",
       "      <td>7</td>\n",
       "      <td>Mataron a uno</td>\n",
       "      <td>2</td>\n",
       "      <td>Robo</td>\n",
       "      <td>100</td>\n",
       "      <td>100</td>\n",
       "      <td>1</td>\n",
       "    </tr>\n",
       "    <tr>\n",
       "      <th>5</th>\n",
       "      <td>2017-10-03</td>\n",
       "      <td>8</td>\n",
       "      <td>Mataron a uno</td>\n",
       "      <td>3</td>\n",
       "      <td>Incendio</td>\n",
       "      <td>100</td>\n",
       "      <td>100</td>\n",
       "      <td>0</td>\n",
       "    </tr>\n",
       "    <tr>\n",
       "      <th>6</th>\n",
       "      <td>2017-11-03</td>\n",
       "      <td>9</td>\n",
       "      <td>Mataron a uno</td>\n",
       "      <td>2</td>\n",
       "      <td>Arseny</td>\n",
       "      <td>100</td>\n",
       "      <td>100</td>\n",
       "      <td>1</td>\n",
       "    </tr>\n",
       "    <tr>\n",
       "      <th>7</th>\n",
       "      <td>2017-12-03</td>\n",
       "      <td>10</td>\n",
       "      <td>Mataron a uno</td>\n",
       "      <td>1</td>\n",
       "      <td>Robo</td>\n",
       "      <td>100</td>\n",
       "      <td>10</td>\n",
       "      <td>0</td>\n",
       "    </tr>\n",
       "  </tbody>\n",
       "</table>\n",
       "</div>"
      ],
      "text/plain": [
       "        fecha  id_caso       descripcion  estado_caso categoria  latitud  \\\n",
       "0  2017-07-03        3          Incendio            1      Robo      100   \n",
       "1  2017-07-03        4  Robaron un banco            3  Incendio      100   \n",
       "2  2017-08-03        5     Mataron a uno            2  Incendio      100   \n",
       "3  2017-08-03        6     Mataron a uno            1    Arseny      100   \n",
       "4  2017-10-03        7     Mataron a uno            2      Robo      100   \n",
       "5  2017-10-03        8     Mataron a uno            3  Incendio      100   \n",
       "6  2017-11-03        9     Mataron a uno            2    Arseny      100   \n",
       "7  2017-12-03       10     Mataron a uno            1      Robo      100   \n",
       "\n",
       "   longitud  respuesta  \n",
       "0       100          0  \n",
       "1       100          0  \n",
       "2       100          1  \n",
       "3       100          0  \n",
       "4       100          1  \n",
       "5       100          0  \n",
       "6       100          1  \n",
       "7        10          0  "
      ]
     },
     "execution_count": 134,
     "metadata": {},
     "output_type": "execute_result"
    }
   ],
   "source": [
    "total2=df_pasado.merge(df_gordon,left_on='id_caso',right_on='id_caso',how='inner')\n",
    "total2\n"
   ]
  },
  {
   "cell_type": "code",
   "execution_count": 147,
   "metadata": {},
   "outputs": [
    {
     "data": {
      "text/plain": [
       "0.375"
      ]
     },
     "execution_count": 147,
     "metadata": {},
     "output_type": "execute_result"
    }
   ],
   "source": [
    "total2.respuesta.agg( lambda x: (x==1).mean())"
   ]
  },
  {
   "cell_type": "code",
   "execution_count": 152,
   "metadata": {},
   "outputs": [],
   "source": [
    "total2['fechaOK']=pd.to_datetime(total2['fecha'])\n",
    "#total2['anio']=casos['fecha_ok'].map(lambda x:x.year)\n",
    "total2['mes']=total2['fechaOK'].map(lambda x:x.month)"
   ]
  },
  {
   "cell_type": "code",
   "execution_count": 153,
   "metadata": {},
   "outputs": [
    {
     "data": {
      "text/plain": [
       "mes\n",
       "7     0.0\n",
       "8     0.5\n",
       "10    0.5\n",
       "11    1.0\n",
       "12    0.0\n",
       "Name: respuesta, dtype: float64"
      ]
     },
     "execution_count": 153,
     "metadata": {},
     "output_type": "execute_result"
    }
   ],
   "source": [
    "total2.groupby('mes')['respuesta'].agg( lambda x: (x==1).mean())"
   ]
  },
  {
   "cell_type": "markdown",
   "metadata": {},
   "source": [
    "## EJ NUMERO 12"
   ]
  },
  {
   "cell_type": "markdown",
   "metadata": {},
   "source": [
    "El GCPD recolecta la información de casos policiales que acontecen en Ciudad Gótica. Esta informacióñ se encuentra guarada en un archivo con el siguiente formato:\n",
    "\n",
    "(fecha, id_caso, descripción, estado_caso, categoria, latitud, longitud)\n",
    "\n",
    "Los posibels estados que puede tener un caso son 1: caso abierto, 2: caso resuelto, 3: cerrado sin resolucion.\n",
    "\n",
    "Las fechas se encuentran en el formato YYYY-MM-DD.\n",
    "\n",
    "Por otro lado el comisionado Gordon guarda un registro detallado sobre en cuales casos fue activada la batiseñal para pedir ayuda del vigilante, Batman. Esta información se encuentra en un archivo con el siguiente formato (id_caso, respeusta), siendo campo respuesta si la señal tuvo una respuesta positiva (1) o negativa (0) de parte de él.\n",
    "\n",
    "El sector encargado de las estadísticas oficiales del GCPD quiere analizar las siguientes situaciones:\n",
    "\n",
    "a) Las categorias que hayan incrementado su tasa de resolución al menos un 10% en el último trimestre, con respecto al trimestre anterior.\n",
    "\n",
    "b) Tasa de participación de Batman por categoria, para los delitos contra la propiedad (que enmarcan las categorías incendio intencional, robo, hurto y robo de vehiculos).\n",
    "\n",
    "Resolver ambas consultas utilizando Pandas."
   ]
  },
  {
   "cell_type": "code",
   "execution_count": 216,
   "metadata": {},
   "outputs": [],
   "source": [
    "casos = [(1, '20171201', 'robo', 1, 'robo'),\n",
    "         (3, '20181103', 'pelea', 2, 'pelea'),\n",
    "         (12, '20180703', 'pelea', 1, 'pelea'),\n",
    "         (13, '20180713', 'pelea', 2, 'pelea'),\n",
    "         (14, '20180721', 'pelea', 1, 'pelea'),\n",
    "        (15, '20180811', 'pelea', 2, 'pelea'),\n",
    "        (16, '20180813', 'pelea', 2, 'pelea'),\n",
    "        (17, '20180813', 'pelea', 1, 'pelea'),\n",
    "         (4, '20180404', 'robo', 2, 'robo'),\n",
    "         (9, '20180414', 'robo', 1, 'robo'),\n",
    "        (2, '20180911', 'robo', 2, 'robo'),\n",
    "        (10, '20180912', 'robo', 1, 'robo'),\n",
    "        (11, '20180913', 'robo', 1, 'robo'),\n",
    "         (8, '20180604', 'robo', 1, 'robo'),\n",
    "         (5, '20161204', 'asesinato', 1, 'asesinato'),\n",
    "         (6, '20180510', 'robo', 2, 'robo'),\n",
    "         (7, '20171211', 'bandalismo', 2, 'bandalismo')]\n",
    "\n",
    "respuesta = [(1, 0),\n",
    "            (3, 1),\n",
    "            (4, 1),\n",
    "            (5, 0),\n",
    "            (7, 1),\n",
    "            (8, 1)]\n",
    "\n",
    "#rdd_casos = sc.parallelize(casos)\n",
    "#rdd_respuesta = sc.parallelize(respuesta)\n",
    "casos = pd.DataFrame(casos, columns=[\"id_casos\",\"fecha\", \"descripcion\", \"estado\", \"categoria\"])\n",
    "respuesta = pd.DataFrame(respuesta, columns=[\"id_casos\", \"respuesta\"])"
   ]
  },
  {
   "cell_type": "markdown",
   "metadata": {},
   "source": [
    "a) Las categorias que hayan incrementado su tasa de resolución al menos un 10% en el último trimestre, con respecto al trimestre anterior.\n"
   ]
  },
  {
   "cell_type": "code",
   "execution_count": 217,
   "metadata": {},
   "outputs": [],
   "source": [
    "casos['ultimoTrimestre'] = (casos['fecha'] >= '20180901') & (casos['fecha'] <= '20181231')"
   ]
  },
  {
   "cell_type": "code",
   "execution_count": 219,
   "metadata": {},
   "outputs": [
    {
     "data": {
      "text/plain": [
       "ultimoTrimestre  categoria\n",
       "False            pelea        0.500000\n",
       "                 robo         0.000000\n",
       "True             pelea        1.000000\n",
       "                 robo         0.333333\n",
       "Name: estado, dtype: float64"
      ]
     },
     "execution_count": 219,
     "metadata": {},
     "output_type": "execute_result"
    }
   ],
   "source": [
    "casos.loc[(casos['fecha'] >= '20180601') & (casos['fecha'] <= '20181231') ,:].groupby(['ultimoTrimestre','categoria']).estado.agg(lambda x: (x==2).mean())\n"
   ]
  },
  {
   "cell_type": "code",
   "execution_count": 207,
   "metadata": {},
   "outputs": [
    {
     "data": {
      "text/plain": [
       "['Arseny']"
      ]
     },
     "execution_count": 207,
     "metadata": {},
     "output_type": "execute_result"
    }
   ],
   "source": [
    "# Otra forma (usando un csv)\n",
    "df_gcpd['fecha'] = pd.to_datetime(df_gcpd['fecha'],format='%Y-%m-%d')\n",
    "\n",
    "\n",
    "df_gcpd['trimestre'] = df_gcpd.fecha.dt.month % 4\n",
    "df_trimestres = df_gcpd[df_gcpd.trimestre.isin([3,2])]\n",
    "df_tasa_por_trimestre = df_trimestres.pivot_table(columns='trimestre',index='categoria',aggfunc=lambda x: (x==CASO_RESUELTO).mean(),values='estado_caso').fillna(0)\n",
    "df_tasa_por_trimestre[df_tasa_por_trimestre[3] > df_tasa_por_trimestre[2]].index.values.tolist()"
   ]
  },
  {
   "cell_type": "markdown",
   "metadata": {},
   "source": [
    "b) Tasa de participación de Batman por categoria, para los delitos contra la propiedad (que enmarcan las categorías incendio intencional, robo, hurto y robo de vehiculos)."
   ]
  },
  {
   "cell_type": "code",
   "execution_count": 223,
   "metadata": {},
   "outputs": [
    {
     "data": {
      "text/plain": [
       "categoria\n",
       "Incendio    0.333333\n",
       "Robo        0.250000\n",
       "Name: tasa de respuesta, dtype: float64"
      ]
     },
     "execution_count": 223,
     "metadata": {},
     "output_type": "execute_result"
    }
   ],
   "source": [
    "DELITOS_CONTRA_LA_PROPIEDAD = set(['Incendio', 'Robo', 'Hurto', 'Robo de Vehículo']) \n",
    "df = df_gcpd.merge(df_gordon,how='left',on='id_caso')\n",
    "df = df[df.categoria.isin(DELITOS_CONTRA_LA_PROPIEDAD)] \n",
    "df.groupby('categoria')['respuesta'].apply(lambda x: (x==BATMAN_PARTICIPA).mean()).rename('tasa de respuesta')"
   ]
  },
  {
   "cell_type": "markdown",
   "metadata": {},
   "source": [
    "## PARCIAL FALLIDO SPARK, Y PANDAS."
   ]
  },
  {
   "cell_type": "markdown",
   "metadata": {},
   "source": [
    "### EJ NUMERO 12"
   ]
  },
  {
   "cell_type": "markdown",
   "metadata": {},
   "source": [
    "Spark: Tenemos información sobre recetas en 3 RDD de Spark.\n",
    "    Recetas: (id_receta, nombre, tiempo_preparación, dificultad)\n",
    "    Ingredientes: (id_ingrediente, nombre)\n",
    "    Ingredientes por receta: (id_receta, id_ingrediente, cantidad)\n",
    "        \n",
    "Se pide:\n",
    "    a) obtener el nombre de todas las recetas que tenggan Cordero.\n",
    "    b) Calcular la cantidad total de cada ingrediente si queremos hacer todos las recetas con Cordera que sean fáciles.\n",
    "    "
   ]
  },
  {
   "cell_type": "code",
   "execution_count": 2,
   "metadata": {},
   "outputs": [],
   "source": [
    "Recetas = [\n",
    "    (1, \"brownies locos\", 40, \"facil\"),\n",
    "    (2, \"brownies vainilla\", 30, \"re facil\"),\n",
    "    (3, \"salsa de cordero\", 120, \"facil\"),\n",
    "    (4, \"cordero mechado\", 180, \"dificil\"),\n",
    "    (5, \"picada de cordero\", 30, \"medio\"),\n",
    "    (6, \"cordero al roquefort\", 80, \"facil\"),\n",
    "]\n",
    "\n",
    "Ingredientes = [\n",
    "    (3,\"cordero\"),\n",
    "    (1,\"roquefort\"),\n",
    "    (2,\"harina\"),\n",
    "    (4,\"queso\"),\n",
    "    (5,\"tomate\"),\n",
    "    (6,\"huevo\")\n",
    "]\n",
    "\n",
    "IngredientesPorReceta = [\n",
    "    (1,2,1),\n",
    "    (3,3,2),\n",
    "    (4,3,0.5),\n",
    "    (5,3,0.3),\n",
    "    (6,3,1),\n",
    "    (3,5,3),\n",
    "    (6,4,4)    \n",
    "]\n",
    "\n",
    "# Los paso a RDDs\n",
    "\n",
    "rdd_recetas = sc.parallelize(Recetas)\n",
    "rdd_ing = sc.parallelize(Ingredientes)\n",
    "rdd_ingxrecetas = sc.parallelize(IngredientesPorReceta)"
   ]
  },
  {
   "cell_type": "markdown",
   "metadata": {},
   "source": [
    "a) obtener el nombre de todas las recetas que tenggan Cordero"
   ]
  },
  {
   "cell_type": "code",
   "execution_count": 10,
   "metadata": {},
   "outputs": [],
   "source": [
    "#Primero debo saber que ingrediente tiene cada receta, \n",
    "#dspues buscar en ellos el cordero, si pertenece entonces me quedo con esa receta.\n",
    "\n",
    "# vamos a mergear los 3 rdd. (ya que necesito los ingredientes x receta (asi obtengo el codigo) y los ingredientes(para obtener el nombre))\n",
    "\n",
    "#Primero mapeo recetas\n",
    "recetas=rdd_recetas.map(lambda x: (x[0],(x[1],x[3]))) #(id_receta,(nombre,dificultad))\n",
    "ingxr=rdd_ingxrecetas.map(lambda x: (x[0],(x[1],x[2])))\n",
    "\n",
    "recetaconingrediente=recetas.join(ingxr)\n"
   ]
  },
  {
   "cell_type": "code",
   "execution_count": 4,
   "metadata": {},
   "outputs": [],
   "source": [
    "rinMapped=recetaconingrediente.map(lambda x: (x[1][1][0],(x[0],x[1][0][0],x[1][0][1],x[1][1][1])))\n",
    "final=rinMapped.join(rdd_ing)"
   ]
  },
  {
   "cell_type": "code",
   "execution_count": 5,
   "metadata": {},
   "outputs": [
    {
     "data": {
      "text/plain": [
       "[(3, ((4, 'cordero mechado', 'dificil', 0.5), 'cordero')),\n",
       " (3, ((5, 'picada de cordero', 'medio', 0.3), 'cordero')),\n",
       " (3, ((6, 'cordero al roquefort', 'facil', 1), 'cordero')),\n",
       " (3, ((3, 'salsa de cordero', 'facil', 2), 'cordero'))]"
      ]
     },
     "execution_count": 5,
     "metadata": {},
     "output_type": "execute_result"
    }
   ],
   "source": [
    "ffiltrado=final.filter(lambda x: x[1][1] == 'cordero')\n",
    "ffiltrado.collect()"
   ]
  },
  {
   "cell_type": "code",
   "execution_count": 236,
   "metadata": {},
   "outputs": [
    {
     "data": {
      "text/plain": [
       "['cordero mechado',\n",
       " 'picada de cordero',\n",
       " 'cordero al roquefort',\n",
       " 'salsa de cordero']"
      ]
     },
     "execution_count": 236,
     "metadata": {},
     "output_type": "execute_result"
    }
   ],
   "source": [
    "ffiltrado.map(lambda x: x[1][0][1]).collect()"
   ]
  },
  {
   "cell_type": "markdown",
   "metadata": {},
   "source": [
    " b) Calcular la cantidad total de cada ingrediente si queremos hacer todos las recetas con Cordera que sean fáciles."
   ]
  },
  {
   "cell_type": "code",
   "execution_count": 6,
   "metadata": {},
   "outputs": [
    {
     "data": {
      "text/plain": [
       "[(2, ((1, 'brownies locos', 'facil', 1), 'harina')),\n",
       " (3, ((4, 'cordero mechado', 'dificil', 0.5), 'cordero')),\n",
       " (3, ((5, 'picada de cordero', 'medio', 0.3), 'cordero')),\n",
       " (3, ((6, 'cordero al roquefort', 'facil', 1), 'cordero')),\n",
       " (3, ((3, 'salsa de cordero', 'facil', 2), 'cordero')),\n",
       " (4, ((6, 'cordero al roquefort', 'facil', 4), 'queso')),\n",
       " (5, ((3, 'salsa de cordero', 'facil', 3), 'tomate'))]"
      ]
     },
     "execution_count": 6,
     "metadata": {},
     "output_type": "execute_result"
    }
   ],
   "source": [
    "#Uso final ( merge de los 3)\n",
    "final.collect()"
   ]
  },
  {
   "cell_type": "code",
   "execution_count": 7,
   "metadata": {},
   "outputs": [
    {
     "data": {
      "text/plain": [
       "[(2, ((1, 'brownies locos', 'facil', 1), 'harina')),\n",
       " (3, ((6, 'cordero al roquefort', 'facil', 1), 'cordero')),\n",
       " (3, ((3, 'salsa de cordero', 'facil', 2), 'cordero')),\n",
       " (4, ((6, 'cordero al roquefort', 'facil', 4), 'queso')),\n",
       " (5, ((3, 'salsa de cordero', 'facil', 3), 'tomate'))]"
      ]
     },
     "execution_count": 7,
     "metadata": {},
     "output_type": "execute_result"
    }
   ],
   "source": [
    "ffiltrado2=final.filter(lambda x: x[1][0][2] == 'facil')\n",
    "ffiltrado2.collect()"
   ]
  },
  {
   "cell_type": "code",
   "execution_count": 11,
   "metadata": {},
   "outputs": [],
   "source": [
    "ffiltrado2=ffiltrado2.filter(lambda x: x[1][1] == 'cordero')\n",
    "ingredientesPedidos=ffiltrado2.join(ingxr)"
   ]
  },
  {
   "cell_type": "code",
   "execution_count": 13,
   "metadata": {},
   "outputs": [
    {
     "data": {
      "text/plain": [
       "[(3, ((6, 'cordero al roquefort', 'facil', 1), 'cordero')),\n",
       " (3, ((3, 'salsa de cordero', 'facil', 2), 'cordero'))]"
      ]
     },
     "execution_count": 13,
     "metadata": {},
     "output_type": "execute_result"
    }
   ],
   "source": [
    "ffiltrado2.collect()\n"
   ]
  },
  {
   "cell_type": "code",
   "execution_count": 16,
   "metadata": {},
   "outputs": [
    {
     "data": {
      "text/plain": [
       "[(3, (((6, 'cordero al roquefort', 'facil', 1), 'cordero'), (3, 2))),\n",
       " (3, (((6, 'cordero al roquefort', 'facil', 1), 'cordero'), (5, 3))),\n",
       " (3, (((3, 'salsa de cordero', 'facil', 2), 'cordero'), (3, 2))),\n",
       " (3, (((3, 'salsa de cordero', 'facil', 2), 'cordero'), (5, 3)))]"
      ]
     },
     "execution_count": 16,
     "metadata": {},
     "output_type": "execute_result"
    }
   ],
   "source": [
    "ingredientesPedidos.collect()\n"
   ]
  },
  {
   "cell_type": "code",
   "execution_count": 21,
   "metadata": {},
   "outputs": [
    {
     "data": {
      "text/plain": [
       "[(3, 4), (5, 6)]"
      ]
     },
     "execution_count": 21,
     "metadata": {},
     "output_type": "execute_result"
    }
   ],
   "source": [
    "ingredientesPedidos.map(lambda x: (x[1][1][0],x[1][1][1])).reduceByKey(lambda x,y: (x + y)).collect()"
   ]
  },
  {
   "cell_type": "markdown",
   "metadata": {},
   "source": [
    "## EJ NUMERO 13"
   ]
  },
  {
   "cell_type": "markdown",
   "metadata": {},
   "source": [
    "Dada la exitosa convocatoria de los juegos olímpicos de la juventud por parte del público, sus organizadores realizan distintos análisis para planificar las jornadas finales del certamen. Es por ello que cuentan con información en los siuientes archivos\n",
    "\n",
    "eventos.csv (id_evento, fecha, id_location, nombre_evento, id_categoria_deportiva_deportiva, cantidad_espectadores)\n",
    "location.csv (id_locacion, nombre, capacidad, capacidad_extendida, sede , latitud, longitud)\n",
    "categorias_deportivas.csv(id_categoria_deportiva, nombre, año_de_adopcion)\n",
    "\n",
    "El primer archivo cuenta con información de los eventos, indicando la fecha en formato \"YYYY-mm-dd hh:mm:ss\", el lugar donde ocurrió (id_locacion) y la cantidad de espectadores que asistieron. Ademñas se aporta información sobre la categoría deportiva a la cual pertenece el evento.\n",
    "Por otro lado se tiene información sobre las distintas locaciones en la sedes del certamen en las que ocurrieron los eventos. Contamos con información de sus capacidad extendida (cuantos asientos extras se pueden brindar sobre la capacidad de la locación)\n",
    "\n",
    "Se desea obtener:\n",
    "\n",
    "a)Nombre de la sede que acumuló la mayor cantidad de espectadores en eventos durante el certamen del 14 al 15 de octubre inclusive. Esto es de vital importancia para distribuir el mercchadising oficial del evento, para las fechas finales .\n",
    "\n",
    "b) Nombre del evento y nombre de la cateoria deportiva de auqelllos eventos cuya cantidad de espectadores superó la capacidad de la locación, más allá de la capacidad extendida. Esto es de vital importancia para detectar problemas de seguridad o si es necesario realizar algun cambio de locación. \n",
    "\n",
    "\n"
   ]
  },
  {
   "cell_type": "code",
   "execution_count": 74,
   "metadata": {},
   "outputs": [],
   "source": [
    "eventos = [(1, '2017-10-14 16:30:45', 1 , \"tennis de mesa\", 1,400),\n",
    "           (2, '2017-10-14 16:40:45', 1 , \"natacion olimpica\", 2,1000),\n",
    "           (3, '2017-10-14 16:30:45', 1 , \"hockey sobre hielo\", 3,1300),\n",
    "           (4, '2017-12-15 16:30:45', 2 , \"natacion competencia\", 2,1500),\n",
    "           (5, '2017-10-15 16:30:45', 2 , \"hockey final\", 3,1800),\n",
    "           (6, '2017-10-16 16:30:45', 2 , \"tennis final\", 1,1600)\n",
    "         ]\n",
    "\n",
    "locacion = [(1, \"rolando carreras\",600,300,\"sede azul\",40,40),\n",
    "            (2, \"full training\",1000,600,\"sede rosa\",40,40)\n",
    "            ]\n",
    "\n",
    "categoriasDeportivas = [(1,\"tennis\",1990),\n",
    "                        (2,\"natacion\",1995),\n",
    "                        (3,\"hockey\",1993)\n",
    "                       ]\n",
    "\n",
    "#rdd_casos = sc.parallelize(casos)\n",
    "#rdd_respuesta = sc.parallelize(respuesta)\n",
    "rdd_eventos = pd.DataFrame(eventos, columns=[\"id_evento\", \"fecha\", \"id_location\", \"nombre_evento\", \"id_categoria_deportiva\", \"cantidad_espectadores\"])\n",
    "rdd_locacion = pd.DataFrame(locacion, columns=[\"id_locacion\", \"nombre\", \"capacidad\", \"capacidad_extendida\", \"sede\" , \"latitud\", \"longitud\"])\n",
    "rdd_cat_dep = pd.DataFrame(categoriasDeportivas, columns= [\"id_categoria_deportiva\", \"nombre\", \"año_de_adopcion\"])"
   ]
  },
  {
   "cell_type": "markdown",
   "metadata": {},
   "source": [
    "Nombre de la sede que acumuló la mayor cantidad de espectadores en eventos durante el certamen del 14 al 15 de octubre inclusive. Esto es de vital importancia para distribuir el mercchadising oficial del evento, para las fechas finales ."
   ]
  },
  {
   "cell_type": "code",
   "execution_count": 45,
   "metadata": {},
   "outputs": [],
   "source": [
    "rdd_eventos['fechaOK']=pd.to_datetime(rdd_eventos['fecha'])"
   ]
  },
  {
   "cell_type": "code",
   "execution_count": 46,
   "metadata": {},
   "outputs": [
    {
     "data": {
      "text/html": [
       "<div>\n",
       "<style scoped>\n",
       "    .dataframe tbody tr th:only-of-type {\n",
       "        vertical-align: middle;\n",
       "    }\n",
       "\n",
       "    .dataframe tbody tr th {\n",
       "        vertical-align: top;\n",
       "    }\n",
       "\n",
       "    .dataframe thead th {\n",
       "        text-align: right;\n",
       "    }\n",
       "</style>\n",
       "<table border=\"1\" class=\"dataframe\">\n",
       "  <thead>\n",
       "    <tr style=\"text-align: right;\">\n",
       "      <th></th>\n",
       "      <th>id_evento</th>\n",
       "      <th>fecha</th>\n",
       "      <th>id_location</th>\n",
       "      <th>nombre_evento</th>\n",
       "      <th>id_categoria_deportiva_deportiva</th>\n",
       "      <th>cantidad_espectadores</th>\n",
       "      <th>fechaOK</th>\n",
       "      <th>anio</th>\n",
       "      <th>mes</th>\n",
       "      <th>dia</th>\n",
       "    </tr>\n",
       "  </thead>\n",
       "  <tbody>\n",
       "    <tr>\n",
       "      <th>0</th>\n",
       "      <td>1</td>\n",
       "      <td>2017-10-14 16:30:45</td>\n",
       "      <td>1</td>\n",
       "      <td>tennis de mesa</td>\n",
       "      <td>1</td>\n",
       "      <td>400</td>\n",
       "      <td>2017-10-14 16:30:45</td>\n",
       "      <td>2017</td>\n",
       "      <td>10</td>\n",
       "      <td>14</td>\n",
       "    </tr>\n",
       "    <tr>\n",
       "      <th>1</th>\n",
       "      <td>2</td>\n",
       "      <td>2017-10-14 16:40:45</td>\n",
       "      <td>1</td>\n",
       "      <td>natacion olimpica</td>\n",
       "      <td>2</td>\n",
       "      <td>1000</td>\n",
       "      <td>2017-10-14 16:40:45</td>\n",
       "      <td>2017</td>\n",
       "      <td>10</td>\n",
       "      <td>14</td>\n",
       "    </tr>\n",
       "    <tr>\n",
       "      <th>2</th>\n",
       "      <td>3</td>\n",
       "      <td>2017-10-14 16:30:45</td>\n",
       "      <td>1</td>\n",
       "      <td>hockey sobre hielo</td>\n",
       "      <td>3</td>\n",
       "      <td>1300</td>\n",
       "      <td>2017-10-14 16:30:45</td>\n",
       "      <td>2017</td>\n",
       "      <td>10</td>\n",
       "      <td>14</td>\n",
       "    </tr>\n",
       "    <tr>\n",
       "      <th>3</th>\n",
       "      <td>4</td>\n",
       "      <td>2017-12-15 16:30:45</td>\n",
       "      <td>2</td>\n",
       "      <td>natacion competencia</td>\n",
       "      <td>2</td>\n",
       "      <td>1500</td>\n",
       "      <td>2017-12-15 16:30:45</td>\n",
       "      <td>2017</td>\n",
       "      <td>12</td>\n",
       "      <td>15</td>\n",
       "    </tr>\n",
       "    <tr>\n",
       "      <th>4</th>\n",
       "      <td>5</td>\n",
       "      <td>2017-10-15 16:30:45</td>\n",
       "      <td>2</td>\n",
       "      <td>hockey final</td>\n",
       "      <td>3</td>\n",
       "      <td>1800</td>\n",
       "      <td>2017-10-15 16:30:45</td>\n",
       "      <td>2017</td>\n",
       "      <td>10</td>\n",
       "      <td>15</td>\n",
       "    </tr>\n",
       "    <tr>\n",
       "      <th>5</th>\n",
       "      <td>6</td>\n",
       "      <td>2017-10-16 16:30:45</td>\n",
       "      <td>2</td>\n",
       "      <td>tennis final</td>\n",
       "      <td>1</td>\n",
       "      <td>1600</td>\n",
       "      <td>2017-10-16 16:30:45</td>\n",
       "      <td>2017</td>\n",
       "      <td>10</td>\n",
       "      <td>16</td>\n",
       "    </tr>\n",
       "  </tbody>\n",
       "</table>\n",
       "</div>"
      ],
      "text/plain": [
       "   id_evento                fecha  id_location         nombre_evento  \\\n",
       "0          1  2017-10-14 16:30:45            1        tennis de mesa   \n",
       "1          2  2017-10-14 16:40:45            1     natacion olimpica   \n",
       "2          3  2017-10-14 16:30:45            1    hockey sobre hielo   \n",
       "3          4  2017-12-15 16:30:45            2  natacion competencia   \n",
       "4          5  2017-10-15 16:30:45            2          hockey final   \n",
       "5          6  2017-10-16 16:30:45            2          tennis final   \n",
       "\n",
       "   id_categoria_deportiva_deportiva  cantidad_espectadores  \\\n",
       "0                                 1                    400   \n",
       "1                                 2                   1000   \n",
       "2                                 3                   1300   \n",
       "3                                 2                   1500   \n",
       "4                                 3                   1800   \n",
       "5                                 1                   1600   \n",
       "\n",
       "              fechaOK  anio  mes  dia  \n",
       "0 2017-10-14 16:30:45  2017   10   14  \n",
       "1 2017-10-14 16:40:45  2017   10   14  \n",
       "2 2017-10-14 16:30:45  2017   10   14  \n",
       "3 2017-12-15 16:30:45  2017   12   15  \n",
       "4 2017-10-15 16:30:45  2017   10   15  \n",
       "5 2017-10-16 16:30:45  2017   10   16  "
      ]
     },
     "execution_count": 46,
     "metadata": {},
     "output_type": "execute_result"
    }
   ],
   "source": [
    "rdd_eventos['anio']=rdd_eventos['fechaOK'].dt.year\n",
    "rdd_eventos['mes']=rdd_eventos['fechaOK'].dt.month\n",
    "rdd_eventos['dia']=rdd_eventos['fechaOK'].dt.day\n",
    "rdd_eventos"
   ]
  },
  {
   "cell_type": "code",
   "execution_count": 58,
   "metadata": {},
   "outputs": [],
   "source": [
    "listoParaMerge = rdd_eventos.loc[(rdd_eventos['mes']==10) & (13<rdd_eventos['dia']) & (rdd_eventos['dia']<16),['id_location','cantidad_espectadores']]\n"
   ]
  },
  {
   "cell_type": "code",
   "execution_count": 61,
   "metadata": {},
   "outputs": [],
   "source": [
    "final=listoParaMerge.merge(rdd_locacion,left_on='id_location',right_on='id_locacion',how='inner')"
   ]
  },
  {
   "cell_type": "code",
   "execution_count": 67,
   "metadata": {},
   "outputs": [
    {
     "data": {
      "text/plain": [
       "'rolando carreras'"
      ]
     },
     "execution_count": 67,
     "metadata": {},
     "output_type": "execute_result"
    }
   ],
   "source": [
    "final.max().nombre"
   ]
  },
  {
   "cell_type": "markdown",
   "metadata": {},
   "source": [
    " Nombre del evento y nombre de la cateoria deportiva de auqelllos eventos cuya cantidad de espectadores superó la capacidad de la locación más allá de la capacidad extendida. Esto es de vital importancia para detectar problemas de seguridad o si es necesario realizar algun cambio de locación."
   ]
  },
  {
   "cell_type": "code",
   "execution_count": 78,
   "metadata": {},
   "outputs": [],
   "source": [
    "medio=rdd_eventos.merge(rdd_locacion,left_on='id_location',right_on='id_locacion',how='inner')"
   ]
  },
  {
   "cell_type": "code",
   "execution_count": 79,
   "metadata": {},
   "outputs": [],
   "source": [
    "medio2=medio.loc[(medio['cantidad_espectadores']>(medio['capacidad']+medio['capacidad_extendida'])),['id_categoria_deportiva',\"nombre_evento\"]]"
   ]
  },
  {
   "cell_type": "code",
   "execution_count": 80,
   "metadata": {},
   "outputs": [],
   "source": [
    "final=medio2.merge(rdd_cat_dep,left_on='id_categoria_deportiva',right_on='id_categoria_deportiva',how='inner')"
   ]
  },
  {
   "cell_type": "code",
   "execution_count": 82,
   "metadata": {},
   "outputs": [
    {
     "data": {
      "text/html": [
       "<div>\n",
       "<style scoped>\n",
       "    .dataframe tbody tr th:only-of-type {\n",
       "        vertical-align: middle;\n",
       "    }\n",
       "\n",
       "    .dataframe tbody tr th {\n",
       "        vertical-align: top;\n",
       "    }\n",
       "\n",
       "    .dataframe thead th {\n",
       "        text-align: right;\n",
       "    }\n",
       "</style>\n",
       "<table border=\"1\" class=\"dataframe\">\n",
       "  <thead>\n",
       "    <tr style=\"text-align: right;\">\n",
       "      <th></th>\n",
       "      <th>nombre</th>\n",
       "      <th>nombre_evento</th>\n",
       "    </tr>\n",
       "  </thead>\n",
       "  <tbody>\n",
       "    <tr>\n",
       "      <th>0</th>\n",
       "      <td>natacion</td>\n",
       "      <td>natacion olimpica</td>\n",
       "    </tr>\n",
       "    <tr>\n",
       "      <th>1</th>\n",
       "      <td>hockey</td>\n",
       "      <td>hockey sobre hielo</td>\n",
       "    </tr>\n",
       "    <tr>\n",
       "      <th>2</th>\n",
       "      <td>hockey</td>\n",
       "      <td>hockey final</td>\n",
       "    </tr>\n",
       "  </tbody>\n",
       "</table>\n",
       "</div>"
      ],
      "text/plain": [
       "     nombre       nombre_evento\n",
       "0  natacion   natacion olimpica\n",
       "1    hockey  hockey sobre hielo\n",
       "2    hockey        hockey final"
      ]
     },
     "execution_count": 82,
     "metadata": {},
     "output_type": "execute_result"
    }
   ],
   "source": [
    "final.loc[:,['nombre',\"nombre_evento\"]]"
   ]
  }
 ],
 "metadata": {
  "kernelspec": {
   "display_name": "Python 2",
   "language": "python",
   "name": "python2"
  },
  "language_info": {
   "codemirror_mode": {
    "name": "ipython",
    "version": 2
   },
   "file_extension": ".py",
   "mimetype": "text/x-python",
   "name": "python",
   "nbconvert_exporter": "python",
   "pygments_lexer": "ipython2",
   "version": "2.7.15rc1"
  }
 },
 "nbformat": 4,
 "nbformat_minor": 2
}
