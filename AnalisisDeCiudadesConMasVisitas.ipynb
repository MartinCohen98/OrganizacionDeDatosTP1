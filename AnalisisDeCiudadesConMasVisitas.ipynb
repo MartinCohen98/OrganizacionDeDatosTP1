{
 "cells": [
  {
   "cell_type": "code",
   "execution_count": 1,
   "metadata": {},
   "outputs": [],
   "source": [
    "# importacion general de librerias y de visualizacion (matplotlib y seaborn)\n",
    "import pandas as pd\n",
    "import numpy as np\n",
    "import matplotlib.pyplot as plt\n",
    "import seaborn as sns\n",
    "import datetime\n",
    "\n",
    "%matplotlib inline\n",
    "\n",
    "plt.style.use('default') # haciendo los graficos un poco mas bonitos en matplotlib\n",
    "#plt.rcParams['figure.figsize'] = (20, 10)\n",
    "\n",
    "sns.set(style=\"whitegrid\") # seteando tipo de grid en seaborn\n",
    "\n",
    "pd.options.display.float_format = '{:20,.2f}'.format # suprimimos la notacion cientifica en los outputs\n",
    "\n",
    "import warnings\n",
    "warnings.filterwarnings('ignore')"
   ]
  },
  {
   "cell_type": "code",
   "execution_count": 4,
   "metadata": {},
   "outputs": [],
   "source": [
    "df = pd.read_csv('events.csv')\n"
   ]
  },
  {
   "cell_type": "code",
   "execution_count": 8,
   "metadata": {},
   "outputs": [],
   "source": [
    "df['timestamp'] = pd.to_datetime(df['timestamp'], errors = 'coerce')\n",
    "\n",
    "df['event'] = df['event'].astype('category')"
   ]
  },
  {
   "cell_type": "code",
   "execution_count": 9,
   "metadata": {},
   "outputs": [
    {
     "data": {
      "text/html": [
       "<div>\n",
       "<style scoped>\n",
       "    .dataframe tbody tr th:only-of-type {\n",
       "        vertical-align: middle;\n",
       "    }\n",
       "\n",
       "    .dataframe tbody tr th {\n",
       "        vertical-align: top;\n",
       "    }\n",
       "\n",
       "    .dataframe thead th {\n",
       "        text-align: right;\n",
       "    }\n",
       "</style>\n",
       "<table border=\"1\" class=\"dataframe\">\n",
       "  <thead>\n",
       "    <tr style=\"text-align: right;\">\n",
       "      <th></th>\n",
       "      <th>event</th>\n",
       "      <th>country</th>\n",
       "      <th>region</th>\n",
       "      <th>city</th>\n",
       "    </tr>\n",
       "  </thead>\n",
       "  <tbody>\n",
       "    <tr>\n",
       "      <th>1</th>\n",
       "      <td>visited site</td>\n",
       "      <td>Brazil</td>\n",
       "      <td>Pernambuco</td>\n",
       "      <td>Camaragibe</td>\n",
       "    </tr>\n",
       "    <tr>\n",
       "      <th>5</th>\n",
       "      <td>visited site</td>\n",
       "      <td>Brazil</td>\n",
       "      <td>Rio de Janeiro</td>\n",
       "      <td>Rio de Janeiro</td>\n",
       "    </tr>\n",
       "    <tr>\n",
       "      <th>9</th>\n",
       "      <td>visited site</td>\n",
       "      <td>Brazil</td>\n",
       "      <td>Rio de Janeiro</td>\n",
       "      <td>Rio de Janeiro</td>\n",
       "    </tr>\n",
       "    <tr>\n",
       "      <th>16</th>\n",
       "      <td>visited site</td>\n",
       "      <td>Brazil</td>\n",
       "      <td>Rio de Janeiro</td>\n",
       "      <td>Rio de Janeiro</td>\n",
       "    </tr>\n",
       "    <tr>\n",
       "      <th>45</th>\n",
       "      <td>visited site</td>\n",
       "      <td>Brazil</td>\n",
       "      <td>Sao Paulo</td>\n",
       "      <td>Ribeirão Preto</td>\n",
       "    </tr>\n",
       "  </tbody>\n",
       "</table>\n",
       "</div>"
      ],
      "text/plain": [
       "           event country          region            city\n",
       "1   visited site  Brazil      Pernambuco      Camaragibe\n",
       "5   visited site  Brazil  Rio de Janeiro  Rio de Janeiro\n",
       "9   visited site  Brazil  Rio de Janeiro  Rio de Janeiro\n",
       "16  visited site  Brazil  Rio de Janeiro  Rio de Janeiro\n",
       "45  visited site  Brazil       Sao Paulo  Ribeirão Preto"
      ]
     },
     "execution_count": 9,
     "metadata": {},
     "output_type": "execute_result"
    }
   ],
   "source": [
    "eventosConPais = df[['event', 'country', 'region', 'city']].dropna()\n",
    "eventosConPais.head()"
   ]
  },
  {
   "cell_type": "code",
   "execution_count": 10,
   "metadata": {},
   "outputs": [
    {
     "data": {
      "text/plain": [
       "visited site         87378\n",
       "viewed product           0\n",
       "staticpage               0\n",
       "searched products        0\n",
       "search engine hit        0\n",
       "lead                     0\n",
       "generic listing          0\n",
       "conversion               0\n",
       "checkout                 0\n",
       "brand listing            0\n",
       "ad campaign hit          0\n",
       "Name: event, dtype: int64"
      ]
     },
     "execution_count": 10,
     "metadata": {},
     "output_type": "execute_result"
    }
   ],
   "source": [
    "eventosConPais['event'].value_counts()\n",
    "\n",
    "#El unico evento que guarda datos sobre la ubicacion de usuarios es una visita al sitio"
   ]
  },
  {
   "cell_type": "code",
   "execution_count": 17,
   "metadata": {},
   "outputs": [
    {
     "data": {
      "text/plain": [
       "Brazil                84308\n",
       "Unknown                2313\n",
       "United States           465\n",
       "Argentina                94\n",
       "Canada                   35\n",
       "France                   13\n",
       "Netherlands              13\n",
       "United Kingdom           12\n",
       "Mozambique               12\n",
       "Japan                    11\n",
       "Poland                    9\n",
       "French Guiana             8\n",
       "Romania                   7\n",
       "Portugal                  7\n",
       "Italy                     7\n",
       "Guadeloupe                6\n",
       "Dominican Republic        6\n",
       "Russia                    6\n",
       "Germany                   5\n",
       "Paraguay                  4\n",
       "Colombia                  4\n",
       "Bangladesh                4\n",
       "Switzerland               3\n",
       "India                     2\n",
       "Morocco                   2\n",
       "Angola                    2\n",
       "South Africa              1\n",
       "Mexico                    1\n",
       "Uruguay                   1\n",
       "Spain                     1\n",
       "Ireland                   1\n",
       "Israel                    1\n",
       "Sri Lanka                 1\n",
       "Turkey                    1\n",
       "Philippines               1\n",
       "Uzbekistan                1\n",
       "Peru                      1\n",
       "Denmark                   1\n",
       "Saudi Arabia              1\n",
       "Algeria                   1\n",
       "Venezuela                 1\n",
       "Cape Verde                1\n",
       "Rwanda                    1\n",
       "Zimbabwe                  1\n",
       "China                     1\n",
       "Belize                    1\n",
       "Name: country, dtype: int64"
      ]
     },
     "execution_count": 17,
     "metadata": {},
     "output_type": "execute_result"
    }
   ],
   "source": [
    "eventosConPais['country'].value_counts()\n",
    "\n",
    "#La empresa es ampliamente mas grande en Brasil que en cualquier otro pais"
   ]
  },
  {
   "cell_type": "code",
   "execution_count": 47,
   "metadata": {},
   "outputs": [
    {
     "data": {
      "text/plain": [
       "Text(0,0.5,'Cantidad de visitas')"
      ]
     },
     "execution_count": 47,
     "metadata": {},
     "output_type": "execute_result"
    },
    {
     "data": {
      "image/png": "[encoded data removed]",
      "text/plain": [
       "<Figure size 432x288 with 1 Axes>"
      ]
     },
     "metadata": {},
     "output_type": "display_data"
    }
   ],
   "source": [
    "#Elimino los eventos con ciudad desconocida\n",
    "\n",
    "eventosFiltradosPorCiudad = eventosConPais.loc[eventosConPais['city'] != 'Unknown', :]\n",
    "\n",
    "plotCiudades = eventosFiltradosPorCiudad['city'].value_counts().head(7).plot(kind = 'bar')\n",
    "\n",
    "plotCiudades.set_title(\"Ciudades con más visitas a la pagina\", fontsize=18)\n",
    "plotCiudades.set_xlabel(\"Ciudad\",fontsize=18)\n",
    "plotCiudades.set_ylabel(\"Cantidad de visitas\", fontsize=18)\n",
    "\n",
    "#La ciudad con más trafico en la pagina es Sao Paulo por un margen grande"
   ]
  },
  {
   "cell_type": "code",
   "execution_count": null,
   "metadata": {},
   "outputs": [],
   "source": []
  }
 ],
 "metadata": {
  "kernelspec": {
   "display_name": "Python 3",
   "language": "python",
   "name": "python3"
  },
  "language_info": {
   "codemirror_mode": {
    "name": "ipython",
    "version": 3
   },
   "file_extension": ".py",
   "mimetype": "text/x-python",
   "name": "python",
   "nbconvert_exporter": "python",
   "pygments_lexer": "ipython3",
   "version": "3.6.5"
  }
 },
 "nbformat": 4,
 "nbformat_minor": 2
}
