{
 "cells": [
  {
   "cell_type": "code",
   "execution_count": 1,
   "metadata": {},
   "outputs": [],
   "source": [
    "# Ideas tener en cuenta:\n",
    "#    -la relacion entre la pagina del producto visitada y el producto comprado para todas las variables como un agg\n",
    "#    -la relacion entre ingreso al home y la compra de un producto desde los distintos dispositivos\n",
    "#    -ver marca contra ver producto\n",
    "#    -marketing mas visitado\n",
    "#    -marketing visitado vs compra\n",
    "#    -dispositivo vs marketing vs compra\n",
    "#    -checkout vs compra\n",
    "#    -ver marca vs compra\n",
    "#    -busqueda vs compra\n",
    "#    -comparacion vs compra\n",
    "#    -pais/cuidad/region vs marca/producto/\n",
    "#    -dia/mes/hora vs visitas\n",
    "#    -marketing visitado vs pais vs compra\n",
    "#    -modelo/dispositivo/fuente de trafico vs checkout/compra\n",
    "#    -busquedas realizadas\n",
    "#    -busquedas vs compras\n",
    "#    -resolution vs compras/visitas/checkout\n",
    "\n",
    "# Ideas un poco mas desarroyadas\n",
    "#    - le voy a decir retencion a cuanto avanzo el usuario hasta la compra, una retencion baja es que solo entro al home\n",
    "#          una media es que por ejemplo busco un producto o comparo, y una alta es checkout o compra\n",
    "#    - para hacer algo similar al new/returning pero mas util hacer algo que sea si el usuario ya compro o nunca compraron\n",
    "#          y tambien tener en cuenta que marketing los llevo a comprar por primera vez\n",
    "#    - necesitamos una forma de ver agrupar todas las acciones que hace un mismo usuario en una misma \"sesion\" es decir desde \n",
    "#          que se metio a la pagina hasta que la cerro, tenemos que ver si hacerlo viendo la diferencia de tiempo que hay entre\n",
    "#          los logs, o tomando todos los logs desde el ultimo ingreso \n",
    "#    - \n",
    "#    - ver si el marketing que hacen en diferentes regiones/dispositivos/lo que sea es efectivo para los usuarios new/returning\n",
    "#          y tambien para los que ya compraron/no compraron, y la retencion en todos los casos\n",
    "#    - ver si la plataforma de compra es user friendly en distintos dispositivos/resoluciones/lo que sea usando la retencion\n",
    "#    - ver los productos mas tentadores para los clientes usando los mas buscados/ingresados como tambien los que a los clientes\n",
    "#          creen que tienen mayor valor/precio (usando las relacion entre los que compraron y los que lo \n",
    "#          buscaron/hicieron el checkout/miraron stock) tener muy en cuenta si el producto fue comparado con otro antes de comprarlo\n",
    "#    - para buscar nuevas comparaciones, como no podemos hacer la matriz de correlaciones normal ya que todo es categorico\n",
    "#          necesitamos hacer producto cartesiano para las variables que queremos ver si estan relacionadas\n",
    "\n",
    "# importacion general de librerias y de visualizacion (matplotlib y seaborn)\n",
    "import pandas as pd\n",
    "import numpy as np\n",
    "import matplotlib.pyplot as plt\n",
    "import seaborn as sns\n",
    "import datetime\n",
    "\n",
    "%matplotlib inline\n",
    "\n",
    "plt.style.use('default') # haciendo los graficos un poco mas bonitos en matplotlib\n",
    "#plt.rcParams['figure.figsize'] = (20, 10)\n",
    "\n",
    "sns.set(style=\"whitegrid\") # seteando tipo de grid en seaborn\n",
    "\n",
    "pd.options.display.float_format = '{:20,.2f}'.format # suprimimos la notacion cientifica en los outputs\n",
    "\n",
    "import warnings\n",
    "warnings.filterwarnings('ignore')"
   ]
  },
  {
   "cell_type": "code",
   "execution_count": 2,
   "metadata": {},
   "outputs": [],
   "source": [
    "df = pd.read_csv('events.csv')\n",
    "#print(df.info())"
   ]
  },
  {
   "cell_type": "code",
   "execution_count": 3,
   "metadata": {},
   "outputs": [],
   "source": [
    "df['timestamp'] = pd.to_datetime(df['timestamp'], errors = 'coerce')"
   ]
  },
  {
   "cell_type": "code",
   "execution_count": 4,
   "metadata": {
    "scrolled": false
   },
   "outputs": [],
   "source": [
    "df['day_of_week'] = df['timestamp'].dt.dayofweek\n",
    "df['month'] = df['timestamp'].dt.month\n",
    "df['hour'] = df['timestamp'].dt.hour"
   ]
  },
  {
   "cell_type": "code",
   "execution_count": 5,
   "metadata": {},
   "outputs": [],
   "source": [
    "#df.isnull().sum()"
   ]
  },
  {
   "cell_type": "code",
   "execution_count": 6,
   "metadata": {},
   "outputs": [],
   "source": [
    "#df.describe(include='all')"
   ]
  },
  {
   "cell_type": "raw",
   "metadata": {},
   "source": []
  },
  {
   "cell_type": "code",
   "execution_count": 7,
   "metadata": {},
   "outputs": [],
   "source": [
    "df.sort_values(by=['timestamp']).sort_values(by=['person'], inplace = True)"
   ]
  },
  {
   "cell_type": "markdown",
   "metadata": {},
   "source": [
    "un df para cada evento donde solo estan las columnas respectivas de ese evento"
   ]
  },
  {
   "cell_type": "code",
   "execution_count": 8,
   "metadata": {},
   "outputs": [],
   "source": [
    "viewed_product_df = df.loc[df['event'] == 'viewed product'].dropna(axis='columns', how = 'all').drop('event', axis = 'columns')\n",
    "brand_listing_df = df.loc[df['event'] == 'brand listing'].dropna(axis='columns', how = 'all').drop('event', axis = 'columns')\n",
    "visited_site_df = df.loc[df['event'] == 'visited site'].dropna(axis='columns', how = 'all').drop('event', axis = 'columns')\n",
    "ad_campaign_hit_df = df.loc[df['event'] == 'ad campaign hit'].dropna(axis='columns', how = 'all').drop('event', axis = 'columns')\n",
    "generic_listing_df = df.loc[df['event'] == 'generic listing'].dropna(axis='columns', how = 'all').drop('event', axis = 'columns')\n",
    "searched_products_df = df.loc[df['event'] == 'searched products'].dropna(axis='columns', how = 'all').drop('event', axis = 'columns')\n",
    "search_engine_hit_df = df.loc[df['event'] == 'search engine hit'].dropna(axis='columns', how = 'all').drop('event', axis = 'columns')\n",
    "checkout_df = df.loc[df['event'] == 'checkout'].dropna(axis='columns', how = 'all').drop('event', axis = 'columns')\n",
    "staticpage_df = df.loc[df['event'] == 'staticpage'].dropna(axis='columns', how = 'all').drop('event', axis = 'columns')\n",
    "conversion_df = df.loc[df['event'] == 'conversion'].dropna(axis='columns', how = 'all').drop('event', axis = 'columns')\n",
    "lead_df = df.loc[df['event'] == 'lead'].dropna(axis='columns', how = 'all').drop('event', axis = 'columns')"
   ]
  },
  {
   "cell_type": "code",
   "execution_count": 9,
   "metadata": {},
   "outputs": [],
   "source": [
    "#creo una columna timediff que representa la direfenciade tiempo con el log anterior\n",
    "\n",
    "df['timediff'] = df['timestamp'].diff()\n",
    "df['timediff'] = df['timediff'].dt.total_seconds()\n",
    "\n",
    "df['newperson']= df['person'].apply(lambda x: int(x, 16))\n",
    "df['newperson'] = df['newperson'].diff()\n",
    "df['newperson'] = (df['newperson'] > 0)"
   ]
  },
  {
   "cell_type": "code",
   "execution_count": null,
   "metadata": {},
   "outputs": [],
   "source": []
  },
  {
   "cell_type": "code",
   "execution_count": 10,
   "metadata": {},
   "outputs": [
    {
     "data": {
      "image/png": "[encoded data removed]",
      "text/plain": [
       "<Figure size 432x288 with 1 Axes>"
      ]
     },
     "metadata": {
      "needs_background": "light"
     },
     "output_type": "display_data"
    }
   ],
   "source": [
    "minidf = df.loc[(df['newperson'] == False) & (df['timediff'])][\"timediff\"]\n",
    "minidf = np.log2(minidf)\n",
    "g = sns.distplot(minidf)\n",
    "g.set_title(\"Histograma de diferencia de tiempos\", fontsize=18)\n",
    "g.set_xlabel(\"diff\",fontsize=18)\n",
    "#tomamos minimo local antes del maximo local de las 24 horas como 2^14seg (14 en minidfs)\n",
    "maxtime = 16368"
   ]
  },
  {
   "cell_type": "code",
   "execution_count": 11,
   "metadata": {},
   "outputs": [],
   "source": [
    "#reo nuevas columnas booleanas para ver si el log es de cierto evento, y tambien para ver si una add lo llevo directamente a la pagina del producto o marca\n",
    "\n",
    "df['viewed_product'] = (df['event'] == 'viewed product')\n",
    "df['brand_listing'] = (df['event'] == 'brand listing')\n",
    "df['visited_site'] = (df['event'] == 'visited site')\n",
    "df['ad_campaign_hit'] = (df['event'] == 'ad campaign hit')\n",
    "df['generic_listing'] = (df['event'] == 'generic listing')\n",
    "df['searched_products'] = (df['event'] == 'searched products')\n",
    "df['search_engine_hit'] = (df['event'] == 'search engine hit')\n",
    "df['checkout'] = (df['event'] == 'checkout')\n",
    "df['staticpage'] = (df['event'] == 'staticpage')\n",
    "df['conversion'] = (df['event'] == 'conversion')\n",
    "df['lead'] = (df['event'] == 'lead')\n",
    "df['ad_url_model'] = ((df['url'].str.count('/') == 3) & (df['url'].str.contains('comprar')))\n",
    "df['ad_url_brand'] = ((df['url'].str.count('/') == 2) & (df['url'].str.contains('comprar')))"
   ]
  },
  {
   "cell_type": "code",
   "execution_count": 12,
   "metadata": {},
   "outputs": [],
   "source": [
    "# creo una columna entry que me diga el numero de ingreso en el que ocurre cada log, tomando que es un nuevo ingreso\n",
    "#  cuando cambia de persona o cuando paso mas tiempo que maxtime desde el ultimo log\n",
    "\n",
    "df['newentry'] = ((df['timediff'] > maxtime) | (df['newperson']))\n",
    "df['entry'] = df['newentry'].cumsum()\n",
    "#df['newentry'].value_counts()\n",
    "#df.loc[df['conversion']]\n",
    "#print(df[['entry', 'person', 'newperson']])"
   ]
  },
  {
   "cell_type": "code",
   "execution_count": 13,
   "metadata": {},
   "outputs": [],
   "source": [
    "# Creo un nuevo df en el cual cada fila corresponde a un entry, en el que se suman la cantidad de eventos que ocurrieron en ese entry\n",
    "# se toma el primer valor de ciertas columnas que hablan de las condiciones del usuario, como la ubicacion, tiempo, resolucion, sistema operativo, etc\n",
    "# se enlistan los valores de las columnas donde puede haber varios valores importantes en un mismo ingreso, como los modelos\n",
    "\n",
    "def concatenar(serie):\n",
    "    resul = str('')\n",
    "    for i in serie:\n",
    "        if not pd.isnull(i):\n",
    "            resul = resul+str(i)\n",
    "    return resul\n",
    "\n",
    "def primero(serie):\n",
    "    lista = []\n",
    "    for i in serie:\n",
    "        if not pd.isnull(i):\n",
    "            lista.append(i)\n",
    "            break\n",
    "    if lista:\n",
    "        return lista.pop(0)\n",
    "    return np.nan\n",
    "\n",
    "def listar(serie):\n",
    "    lista = []\n",
    "    for i in serie:\n",
    "        if not pd.isnull(i):\n",
    "            lista.append(i)\n",
    "    if lista:\n",
    "        return lista\n",
    "    return []\n",
    "    \n",
    "#print(df.columns)\n",
    "\n",
    "dict1 = ({'timestamp':primero, 'person':primero, 'sku':listar, 'model':listar, 'condition':listar,'storage':primero, 'color':listar, 'skus':listar, \n",
    "          'search_term':listar, 'staticpage':'sum','campaign_source':primero, 'search_engine':primero, 'channel':primero, 'new_vs_returning':primero,\n",
    "          'city':primero, 'region':primero, 'country':primero, 'device_type':primero, 'screen_resolution':primero, 'operating_system_version':primero, \n",
    "          'browser_version':primero, 'day_of_week':primero, 'month':primero,'hour':primero, 'viewed_product':'sum', 'brand_listing':'sum',\n",
    "          'visited_site':'sum', 'ad_campaign_hit':'sum', 'generic_listing':'sum','searched_products':'sum', 'search_engine_hit':'sum', 'checkout':'sum', \n",
    "          'conversion':'sum','lead':'sum', 'ad_url_model':'sum', 'ad_url_brand':'sum', 'newperson':primero})\n",
    "\n",
    "entrydf = df.groupby('entry').agg(dict1)\n",
    "#print (entrydf)\n",
    "#print(entrydf.isna().sum())\n"
   ]
  },
  {
   "cell_type": "code",
   "execution_count": 14,
   "metadata": {},
   "outputs": [],
   "source": [
    "# a cada entry se le calcula la retencion, que corresponde al evento mas importante que ocurrio en el ingreso\n",
    "\n",
    "def calcular_retencion(df):\n",
    "    if df['conversion'] > 1:\n",
    "        return 'multiple_conversions'\n",
    "    \n",
    "    if df['conversion'] > 0:\n",
    "        return 'conversion'\n",
    "    \n",
    "    if df['checkout'] > 0:\n",
    "        return 'checkout'\n",
    "    \n",
    "    if df['lead'] > 0:\n",
    "        return 'lead'\n",
    "    \n",
    "    if df['searched_products'] > 0:\n",
    "        return 'searched_products'\n",
    "    \n",
    "    if ((df['viewed_product'] > 0) & (df['ad_url_model'] == 0)) | (df['viewed_product'] > 1):\n",
    "        return 'viewed_product'\n",
    "    \n",
    "    if ((df['brand_listing'] > 0) & (df['ad_url_brand'] == 0)) | (df['brand_listing'] > 1):\n",
    "        return 'brand_listing'\n",
    "    \n",
    "    if df['generic_listing'] > 0:\n",
    "        return 'generic_listing'\n",
    "    \n",
    "    if df['search_engine_hit'] > 0:\n",
    "        return 'search_engine_hit'\n",
    "    \n",
    "    if df['visited_site'] > 0:\n",
    "        return 'visited_site'\n",
    "    \n",
    "    return 'ad_campaing_hit' #el default es esto porque por algun motivo algunos logs que solo hacian ad_campaing_hit se quedaban sin esta columna\n",
    "    \n",
    "entrydf['retention'] = entrydf.apply(calcular_retencion, axis=1).astype('category')"
   ]
  },
  {
   "cell_type": "code",
   "execution_count": 15,
   "metadata": {},
   "outputs": [],
   "source": [
    "#entrydf['already_buyed'] = ()\n",
    "#print(entrydf['newperson'].value_counts())\n",
    "#df['newperson'].value_counts()"
   ]
  },
  {
   "cell_type": "code",
   "execution_count": 16,
   "metadata": {},
   "outputs": [],
   "source": [
    "# se crean columnas que representan un booleano se si esa oersina ya habia comprado antes de esa entry y una que dice si esa es la primera entry en la que hace una conversion\n",
    "\n",
    "def ya_compro(df):\n",
    "    lista = []\n",
    "    for i in range(1, len(df.index)):\n",
    "        lista[i] = (df['conversion'][i] > 0)\n",
    "    for i in range(1, len(df.index)):\n",
    "        lista[i] = (lista[i-1]) & (not df['newperson'][i])\n",
    "    return lista\n",
    "\n",
    "entrydf['already_buyed'] = (entrydf['conversion'] > 0)\n",
    "entrydf['already_buyed'] = entrydf.groupby('person')['already_buyed'].cumsum()\n",
    "entrydf['already_buyed'] = (entrydf['already_buyed'] > 0) & (entrydf['already_buyed'].shift(1) > 0)\n",
    "entrydf['first_convertion'] = ((entrydf['retention'] == 'conversion') | (entrydf['retention'] == 'multiple_conversions')) & (entrydf['already_buyed'] == False)\n",
    "\n",
    "#entrydf.loc[entrydf['person'] == '00204059']\n",
    "#entrydf.loc[(entrydf['first_convertion'] == True)]"
   ]
  },
  {
   "cell_type": "code",
   "execution_count": 17,
   "metadata": {},
   "outputs": [],
   "source": [
    "df[\"storage\"] = df[\"storage\"].astype('category')\n",
    "#print(entrydf.columns)"
   ]
  },
  {
   "cell_type": "code",
   "execution_count": 18,
   "metadata": {},
   "outputs": [
    {
     "name": "stdout",
     "output_type": "stream",
     "text": [
      "64593\n",
      "373\n"
     ]
    }
   ],
   "source": [
    "lista_total = []\n",
    "lista_sin_repetidos = []\n",
    "for i in entrydf['model']:\n",
    "    if len(i) == 0:\n",
    "        continue\n",
    "    lista_total.append(i)\n",
    "    if(len(i)>1):\n",
    "        for j in i:\n",
    "            if j not in lista_sin_repetidos:\n",
    "                lista_sin_repetidos.append(j)\n",
    "    elif( len(i) == 1):\n",
    "        if i not in lista_sin_repetidos:\n",
    "                lista_sin_repetidos.append(i)\n",
    "    \n",
    "print(len(lista_total))\n",
    "print(len(lista_sin_repetidos))"
   ]
  },
  {
   "cell_type": "markdown",
   "metadata": {},
   "source": []
  }
 ],
 "metadata": {
  "kernelspec": {
   "display_name": "Python 3",
   "language": "python",
   "name": "python3"
  },
  "language_info": {
   "codemirror_mode": {
    "name": "ipython",
    "version": 3
   },
   "file_extension": ".py",
   "mimetype": "text/x-python",
   "name": "python",
   "nbconvert_exporter": "python",
   "pygments_lexer": "ipython3",
   "version": "3.5.2"
  }
 },
 "nbformat": 4,
 "nbformat_minor": 2
}
